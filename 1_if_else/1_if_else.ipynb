{
 "cells": [
  {
   "cell_type": "markdown",
   "id": "military-husband",
   "metadata": {},
   "source": [
    "### If Else\n",
    "Ein if/else-Statement führt Code in Abhängigkeit von einer Bedingung aus. Diese Bedingung ist auf der Basisebene immer ein boolean-Wert. In Python werden die if/else-Statements mit einem Doppelpunkt beendet."
   ]
  },
  {
   "cell_type": "code",
   "execution_count": 27,
   "id": "exclusive-greeting",
   "metadata": {},
   "outputs": [
    {
     "name": "stdout",
     "output_type": "stream",
     "text": [
      "else\n"
     ]
    }
   ],
   "source": [
    "# boolean\n",
    "# True / False\n",
    "# 1 / 0\n",
    "\n",
    "bool = False\n",
    "\n",
    "if bool:\n",
    "    print(\"if\")\n",
    "else:\n",
    "    print(\"else\")"
   ]
  },
  {
   "cell_type": "markdown",
   "id": "suspended-short",
   "metadata": {},
   "source": [
    "In der oberen Zelle haben wir der Variablen `bool` einen Wert zugewiesen. Abhängig von diesem Wert wird entweder *if* oder *else* ausgegeben. Der if-Block wird ausgeführt, wenn `bool` den Wert `True` enthält, sonst wird der else-Block ausgeführt.\n",
    "\n",
    "Als Block werden in diesem Falle alle Zeilen Code bezeichnet, die vom if- oder vom else-Statement abhängen. In Python werden diese Blöcke durch Einrückung gekennzeichnet. Bei dem Beispiel unten werden die Texte *im if Block* und *zweite Zeile* nur ausgegeben, wenn `bool` den Wert `True` hat, der Text *nicht im if Block* hingegen wird immer ausgegeben. Weil die Code-Zeile 4 nicht mehr eingerückt ist, befindet sie sich nicht im if-Block."
   ]
  },
  {
   "cell_type": "code",
   "execution_count": 5,
   "id": "geological-administration",
   "metadata": {},
   "outputs": [
    {
     "name": "stdout",
     "output_type": "stream",
     "text": [
      "nicht im if Block\n"
     ]
    }
   ],
   "source": [
    "if bool:\n",
    "    print(\"im if Block\")\n",
    "    print(\"zweite Zeile\")\n",
    "print(\"nicht im if Block\")"
   ]
  },
  {
   "cell_type": "markdown",
   "id": "fewer-demographic",
   "metadata": {},
   "source": [
    "Dasselbe gilt auch für else-Blöcke. Auch hier ist die Einrückung wichtig!\n",
    "\n",
    "Als Bedingung für das if-Statement kann auch ein Vergleich verwendet werden. Ein Vergleich wird mit einem doppelten Gleichheitszeichen `==` geschrieben. In dem Beispiel wird *if* ausgegeben, wenn `a` gleich `5` ist. Sonst wird *else* ausgegeben."
   ]
  },
  {
   "cell_type": "code",
   "execution_count": 28,
   "id": "minute-corner",
   "metadata": {},
   "outputs": [
    {
     "name": "stdout",
     "output_type": "stream",
     "text": [
      "5\n",
      "if\n"
     ]
    }
   ],
   "source": [
    "a = int(input())\n",
    "\n",
    "if a == 5:\n",
    "    print(\"if\")\n",
    "else:\n",
    "    print(\"else\")"
   ]
  },
  {
   "cell_type": "markdown",
   "id": "powered-surgery",
   "metadata": {},
   "source": [
    "Ein Vergleich kann auch verneint werden. Dies wird mit einem `!=` geschrieben. In dem Beispiel wird if ausgegeben, wenn `a` ungleich `5` ist."
   ]
  },
  {
   "cell_type": "code",
   "execution_count": 29,
   "id": "automotive-management",
   "metadata": {},
   "outputs": [
    {
     "name": "stdout",
     "output_type": "stream",
     "text": [
      "4\n",
      "if\n"
     ]
    }
   ],
   "source": [
    "a = int(input())\n",
    "\n",
    "if a != 5:\n",
    "    print(\"if\")\n",
    "else:\n",
    "    print(\"else\")"
   ]
  },
  {
   "cell_type": "markdown",
   "id": "tested-model",
   "metadata": {},
   "source": [
    "Diese Vergleiche können mit beliebigen Datentypen durchgeführt werden. Intern interpretiert Python das aber immer als boolean-Wert. Das heißt, der Vergleich `a == 5` wird als `True` oder `False` interpretiert, je nachdem welchen Wert `a` hat. In dem Beispiel wird der Variable `bool` das Ergebnis des Vergleichs `a == 5` zugewiesen und mit der `print()`-Funktion ausgegeben. Wie wir sehen, ist bool `False`, also tatsächlich ein boolean-Wert."
   ]
  },
  {
   "cell_type": "code",
   "execution_count": 32,
   "id": "permanent-behalf",
   "metadata": {},
   "outputs": [
    {
     "name": "stdout",
     "output_type": "stream",
     "text": [
      "False\n"
     ]
    }
   ],
   "source": [
    "a = 4\n",
    "bool = (a == 5)  # Klammern dienen nur der Übersicht, sind aber nicht notwendig\n",
    "print(bool)"
   ]
  },
  {
   "cell_type": "markdown",
   "id": "quality-millennium",
   "metadata": {},
   "source": [
    "Wenn mehrere Bedingungen nacheinander geprüft werden, kann ein `elif`-Statement verwendet werden. `elif` setzt sich zusammen aus `else if`, zu deutsch *sonst wenn*. Python prüft elif-Blöcke nur, wenn vorher noch keine Bedingung `True` ergeben hat. Das heißt im Umkehrschluss, wenn eine Bedingung erfüllt wird, sie also `True` ist, werden alle folgenden elif-Blöcke (und else-Blöcke) übersprungen, ohne dass deren Bedingung geprüft wird. Dies ist im Beispiel ersichtlich: wenn für `a` der Wert `5` eingegeben wird, stimmen sowohl die Bedingung in Zeile 3 als auch die Bedingung in Zeile 5. Trotzdem wird nur *Block 1* ausgegeben, weil die Bedingung in Zeile 5 nicht geprüft wird.  \n",
    "Wenn statt der `elif`-Statements mehrere `if`-Statements verwendet werden, wird jede Bedingung geprüft. Deshalb werden sowohl *Block 4* als auch *Block 5* ausgegeben. Dementsprechend muss Python aber auch etwas mehr arbeiten, was den Code unter Umständen verlangsamen kann."
   ]
  },
  {
   "cell_type": "code",
   "execution_count": 36,
   "id": "stretch-separation",
   "metadata": {},
   "outputs": [
    {
     "name": "stdout",
     "output_type": "stream",
     "text": [
      "5\n",
      "Block 1\n",
      "Block 4\n",
      "Block 5\n"
     ]
    }
   ],
   "source": [
    "a = int(input())\n",
    "\n",
    "if a == 5:\n",
    "    print(\"Block 1\")\n",
    "elif a == 5:\n",
    "    print(\"Block 2\")\n",
    "elif a == 3:\n",
    "    print(\"Block 3\")\n",
    "else:\n",
    "    print(\"else\")\n",
    "    \n",
    "if a == 5:\n",
    "    print(\"Block 4\")\n",
    "if a == 5:\n",
    "    print(\"Block 5\")\n",
    "if a == 3:\n",
    "    print(\"Block 6\")"
   ]
  },
  {
   "cell_type": "markdown",
   "id": "fluid-mouth",
   "metadata": {},
   "source": [
    "Jedes `if`-Statement beginnt also eine neue Folge von `if`->`elif`->`else`-Statements, wobei die Anzahl der `elif`-Statements unbegrenzt ist."
   ]
  },
  {
   "cell_type": "markdown",
   "id": "verified-youth",
   "metadata": {},
   "source": [
    "Eine weitere Möglichkeit für Bedingungen bietet der `in`-Operator. Dieser kann unter anderem auf Strings angewendet werden. Dabei wird geprüft, ob ein String ein Teil eines anderen Strings ist. Die Verneinung wird mit dem `not`-Operator durchgeführt."
   ]
  },
  {
   "cell_type": "code",
   "execution_count": 43,
   "id": "peripheral-albany",
   "metadata": {},
   "outputs": [
    {
     "name": "stdout",
     "output_type": "stream",
     "text": [
      "if\n"
     ]
    }
   ],
   "source": [
    "s = \"dies ist ein Text\"\n",
    "\n",
    "if \"Te\" in s:\n",
    "    print(\"if\")\n",
    "else:\n",
    "    print(\"else\")"
   ]
  },
  {
   "cell_type": "code",
   "execution_count": 44,
   "id": "charming-northeast",
   "metadata": {},
   "outputs": [
    {
     "name": "stdout",
     "output_type": "stream",
     "text": [
      "else\n"
     ]
    }
   ],
   "source": [
    "t = \"ein anderer Text\"\n",
    "\n",
    "if \"Te\" not in t:\n",
    "    print(\"if\")\n",
    "else:\n",
    "    print(\"else\")"
   ]
  },
  {
   "cell_type": "markdown",
   "id": "painted-modem",
   "metadata": {},
   "source": [
    "###### not zur Negierung von booleans\n",
    "Der `not`-Operator kann nicht nur in Verbindung mit `in` verwendet werden, sonder auch um booleans generell zu verneinen. Wenn etwas `not True` ist, dann ist es `False` und umgekehrt genauso."
   ]
  },
  {
   "cell_type": "code",
   "execution_count": 46,
   "id": "arbitrary-prediction",
   "metadata": {},
   "outputs": [
    {
     "name": "stdout",
     "output_type": "stream",
     "text": [
      "False\n"
     ]
    }
   ],
   "source": [
    "bool = not True\n",
    "print(bool)"
   ]
  },
  {
   "cell_type": "markdown",
   "id": "hawaiian-shame",
   "metadata": {},
   "source": [
    "Da wir wissen, dass jede Bedingung bei einem `if`-Statement als boolean-Wert interpretiert wird, kann auch hier `not` zur Verneinung verwendet werden."
   ]
  },
  {
   "cell_type": "code",
   "execution_count": 48,
   "id": "spanish-auckland",
   "metadata": {},
   "outputs": [
    {
     "name": "stdout",
     "output_type": "stream",
     "text": [
      "else\n"
     ]
    }
   ],
   "source": [
    "a = 5\n",
    "\n",
    "if not a == 5:  # wenn nicht a==5, also wenn a!=5\n",
    "    print(\"if\")\n",
    "else:\n",
    "    print(\"else\")"
   ]
  },
  {
   "cell_type": "code",
   "execution_count": 50,
   "id": "enormous-chemical",
   "metadata": {},
   "outputs": [
    {
     "name": "stdout",
     "output_type": "stream",
     "text": [
      "if\n"
     ]
    }
   ],
   "source": [
    "s = \"string\"\n",
    "\n",
    "if not 'x' in s:  # wenn nicht 'x' in s, also wenn 'x' nicht in s\n",
    "    print(\"if\")\n",
    "else:\n",
    "    print(\"else\")"
   ]
  },
  {
   "cell_type": "markdown",
   "id": "thousand-option",
   "metadata": {},
   "source": [
    "Diese Schreibweisen sind also auch möglich, aber unüblich."
   ]
  }
 ],
 "metadata": {
  "kernelspec": {
   "display_name": "Python 3 (ipykernel)",
   "language": "python",
   "name": "python3"
  },
  "language_info": {
   "codemirror_mode": {
    "name": "ipython",
    "version": 3
   },
   "file_extension": ".py",
   "mimetype": "text/x-python",
   "name": "python",
   "nbconvert_exporter": "python",
   "pygments_lexer": "ipython3",
   "version": "3.9.6"
  }
 },
 "nbformat": 4,
 "nbformat_minor": 5
}
