{
 "cells": [
  {
   "cell_type": "markdown",
   "id": "56bf7554",
   "metadata": {},
   "source": [
    "# If Else\n",
    "\n",
    "Dieses Notebook behandelt das Thema if else"
   ]
  },
  {
   "cell_type": "code",
   "execution_count": null,
   "id": "6b5fb4fa",
   "metadata": {},
   "outputs": [],
   "source": [
    "\"text\"  # string\n",
    "\n",
    "4  # integer\n",
    "\n",
    "3.14  # float"
   ]
  },
  {
   "cell_type": "code",
   "execution_count": 1,
   "id": "605647cb",
   "metadata": {},
   "outputs": [],
   "source": [
    "x = 5"
   ]
  },
  {
   "cell_type": "code",
   "execution_count": 2,
   "id": "7bc377eb",
   "metadata": {},
   "outputs": [
    {
     "name": "stdout",
     "output_type": "stream",
     "text": [
      "5\n"
     ]
    }
   ],
   "source": [
    "print(x)"
   ]
  },
  {
   "cell_type": "code",
   "execution_count": 3,
   "id": "6ce28f16",
   "metadata": {},
   "outputs": [],
   "source": [
    "x = \"Peter\""
   ]
  },
  {
   "cell_type": "code",
   "execution_count": 6,
   "id": "a18fdd4f",
   "metadata": {},
   "outputs": [
    {
     "name": "stdout",
     "output_type": "stream",
     "text": [
      "Peter\n"
     ]
    }
   ],
   "source": [
    "print(x)"
   ]
  },
  {
   "cell_type": "code",
   "execution_count": 5,
   "id": "2728ea7b",
   "metadata": {},
   "outputs": [],
   "source": [
    "# boolean: Wahr oder Falsch / True oder False\n",
    "\n",
    "x = True"
   ]
  },
  {
   "cell_type": "code",
   "execution_count": 23,
   "id": "c75d446e",
   "metadata": {},
   "outputs": [
    {
     "name": "stdout",
     "output_type": "stream",
     "text": [
      "x ist gleich fünf\n",
      "zweite Zeile\n",
      "das wird immer ausgegeben\n"
     ]
    }
   ],
   "source": [
    "if x == 5:  # doppeltes gleich für Vergleiche\n",
    "    print(\"x ist gleich fünf\")\n",
    "    print(\"zweite Zeile\")\n",
    "elif x == 6:\n",
    "    print(\"x ist sechs\")\n",
    "else:\n",
    "    print(\"x ist weder fünf noch sechs\")\n",
    "    print(\"dies ist noch eingerückt\")\n",
    "    \n",
    "print(\"das wird immer ausgegeben\")"
   ]
  },
  {
   "cell_type": "code",
   "execution_count": 18,
   "id": "13a977ad",
   "metadata": {},
   "outputs": [],
   "source": [
    "x != 5  # ist ungleich"
   ]
  },
  {
   "cell_type": "code",
   "execution_count": 30,
   "id": "8ec8a6f2",
   "metadata": {},
   "outputs": [],
   "source": [
    "x = 4"
   ]
  },
  {
   "cell_type": "code",
   "execution_count": 31,
   "id": "612362bd",
   "metadata": {},
   "outputs": [
    {
     "data": {
      "text/plain": [
       "False"
      ]
     },
     "execution_count": 31,
     "metadata": {},
     "output_type": "execute_result"
    }
   ],
   "source": [
    "x == 5"
   ]
  },
  {
   "cell_type": "code",
   "execution_count": 51,
   "id": "9f611b28",
   "metadata": {},
   "outputs": [
    {
     "data": {
      "text/plain": [
       "True"
      ]
     },
     "execution_count": 51,
     "metadata": {},
     "output_type": "execute_result"
    }
   ],
   "source": [
    "x != 5"
   ]
  },
  {
   "cell_type": "code",
   "execution_count": 52,
   "id": "52693a9c",
   "metadata": {},
   "outputs": [
    {
     "data": {
      "text/plain": [
       "True"
      ]
     },
     "execution_count": 52,
     "metadata": {},
     "output_type": "execute_result"
    }
   ],
   "source": [
    "not (x == 5)"
   ]
  },
  {
   "cell_type": "code",
   "execution_count": 29,
   "id": "a9fac5ae",
   "metadata": {},
   "outputs": [
    {
     "name": "stdout",
     "output_type": "stream",
     "text": [
      " x ist nicht fünf\n"
     ]
    }
   ],
   "source": [
    "if x != 5:\n",
    "    print(\" x ist nicht fünf\")"
   ]
  },
  {
   "cell_type": "code",
   "execution_count": 33,
   "id": "b3bf2734",
   "metadata": {},
   "outputs": [
    {
     "name": "stdout",
     "output_type": "stream",
     "text": [
      "Bitte gib eine Antwort ein: Antwort von mir\n"
     ]
    }
   ],
   "source": [
    "a = input(\"Bitte gib eine Antwort ein: \")  # input gibt einen string zurück"
   ]
  },
  {
   "cell_type": "code",
   "execution_count": 40,
   "id": "3f94429e",
   "metadata": {},
   "outputs": [
    {
     "name": "stdout",
     "output_type": "stream",
     "text": [
      "Wie alt bist du? 22\n",
      "42.0\n"
     ]
    }
   ],
   "source": [
    "x = float(input('Wie alt bist du? '))  # typecasting\n",
    "print(x + 20)"
   ]
  },
  {
   "cell_type": "code",
   "execution_count": 43,
   "id": "9202561d",
   "metadata": {},
   "outputs": [
    {
     "data": {
      "text/plain": [
       "43"
      ]
     },
     "execution_count": 43,
     "metadata": {},
     "output_type": "execute_result"
    }
   ],
   "source": [
    "round(42.7)"
   ]
  },
  {
   "cell_type": "code",
   "execution_count": 48,
   "id": "918374e0",
   "metadata": {},
   "outputs": [
    {
     "name": "stdout",
     "output_type": "stream",
     "text": [
      "xx\n",
      "Zugang gewährt\n"
     ]
    }
   ],
   "source": [
    "a = input()\n",
    "\n",
    "if a not in \"passwort\":\n",
    "    print('Zugang gewährt')\n",
    "else:\n",
    "    print('falsches Passwort')"
   ]
  },
  {
   "cell_type": "code",
   "execution_count": 50,
   "id": "03054907",
   "metadata": {},
   "outputs": [
    {
     "data": {
      "text/plain": [
       "False"
      ]
     },
     "execution_count": 50,
     "metadata": {},
     "output_type": "execute_result"
    }
   ],
   "source": [
    "not True"
   ]
  },
  {
   "cell_type": "code",
   "execution_count": 53,
   "id": "339faac7",
   "metadata": {},
   "outputs": [
    {
     "data": {
      "text/plain": [
       "True"
      ]
     },
     "execution_count": 53,
     "metadata": {},
     "output_type": "execute_result"
    }
   ],
   "source": [
    "True and True"
   ]
  },
  {
   "cell_type": "code",
   "execution_count": 54,
   "id": "7e8dc75a",
   "metadata": {},
   "outputs": [
    {
     "data": {
      "text/plain": [
       "False"
      ]
     },
     "execution_count": 54,
     "metadata": {},
     "output_type": "execute_result"
    }
   ],
   "source": [
    "True and False"
   ]
  },
  {
   "cell_type": "code",
   "execution_count": 55,
   "id": "280ce0d1",
   "metadata": {},
   "outputs": [
    {
     "data": {
      "text/plain": [
       "False"
      ]
     },
     "execution_count": 55,
     "metadata": {},
     "output_type": "execute_result"
    }
   ],
   "source": [
    "False and True"
   ]
  },
  {
   "cell_type": "code",
   "execution_count": 56,
   "id": "d423ee51",
   "metadata": {},
   "outputs": [
    {
     "data": {
      "text/plain": [
       "False"
      ]
     },
     "execution_count": 56,
     "metadata": {},
     "output_type": "execute_result"
    }
   ],
   "source": [
    "False and False"
   ]
  },
  {
   "cell_type": "code",
   "execution_count": 57,
   "id": "bea93b33",
   "metadata": {},
   "outputs": [
    {
     "data": {
      "text/plain": [
       "True"
      ]
     },
     "execution_count": 57,
     "metadata": {},
     "output_type": "execute_result"
    }
   ],
   "source": [
    "True or True"
   ]
  },
  {
   "cell_type": "code",
   "execution_count": 58,
   "id": "a4d5d9a8",
   "metadata": {},
   "outputs": [
    {
     "data": {
      "text/plain": [
       "True"
      ]
     },
     "execution_count": 58,
     "metadata": {},
     "output_type": "execute_result"
    }
   ],
   "source": [
    "True or False"
   ]
  },
  {
   "cell_type": "code",
   "execution_count": 59,
   "id": "a3a37600",
   "metadata": {},
   "outputs": [
    {
     "data": {
      "text/plain": [
       "False"
      ]
     },
     "execution_count": 59,
     "metadata": {},
     "output_type": "execute_result"
    }
   ],
   "source": [
    "False or False"
   ]
  },
  {
   "cell_type": "code",
   "execution_count": 62,
   "id": "cb103b48",
   "metadata": {},
   "outputs": [],
   "source": [
    "x = 5\n",
    "y = 8"
   ]
  },
  {
   "cell_type": "code",
   "execution_count": 64,
   "id": "de5a6708",
   "metadata": {},
   "outputs": [
    {
     "data": {
      "text/plain": [
       "True"
      ]
     },
     "execution_count": 64,
     "metadata": {},
     "output_type": "execute_result"
    }
   ],
   "source": [
    "(x == 5) and (y != 7)"
   ]
  },
  {
   "cell_type": "code",
   "execution_count": 65,
   "id": "cb12f1ac",
   "metadata": {},
   "outputs": [],
   "source": [
    "x = 5"
   ]
  },
  {
   "cell_type": "code",
   "execution_count": 72,
   "id": "b09a2de4",
   "metadata": {},
   "outputs": [],
   "source": [
    "x = x * 6"
   ]
  },
  {
   "cell_type": "code",
   "execution_count": 73,
   "id": "5c59db0e",
   "metadata": {},
   "outputs": [
    {
     "data": {
      "text/plain": [
       "1080"
      ]
     },
     "execution_count": 73,
     "metadata": {},
     "output_type": "execute_result"
    }
   ],
   "source": [
    "x"
   ]
  },
  {
   "cell_type": "code",
   "execution_count": null,
   "id": "3db03cc4",
   "metadata": {},
   "outputs": [],
   "source": []
  },
  {
   "cell_type": "code",
   "execution_count": null,
   "id": "e50cc809",
   "metadata": {},
   "outputs": [],
   "source": []
  },
  {
   "cell_type": "code",
   "execution_count": null,
   "id": "a858f2f9",
   "metadata": {},
   "outputs": [],
   "source": []
  }
 ],
 "metadata": {
  "kernelspec": {
   "display_name": "Python 3 (ipykernel)",
   "language": "python",
   "name": "python3"
  },
  "language_info": {
   "codemirror_mode": {
    "name": "ipython",
    "version": 3
   },
   "file_extension": ".py",
   "mimetype": "text/x-python",
   "name": "python",
   "nbconvert_exporter": "python",
   "pygments_lexer": "ipython3",
   "version": "3.9.6"
  }
 },
 "nbformat": 4,
 "nbformat_minor": 5
}
