{
 "cells": [
  {
   "cell_type": "markdown",
   "id": "56bf7554",
   "metadata": {},
   "source": [
    "# If Else\n",
    "\n",
    "Dieses Notebook behandelt das Thema if else"
   ]
  },
  {
   "cell_type": "code",
   "execution_count": null,
   "id": "6b5fb4fa",
   "metadata": {},
   "outputs": [],
   "source": [
    "\"text\"  # string\n",
    "\n",
    "4  # integer\n",
    "\n",
    "3.14  # float"
   ]
  },
  {
   "cell_type": "code",
   "execution_count": 1,
   "id": "605647cb",
   "metadata": {},
   "outputs": [],
   "source": [
    "x = 5"
   ]
  },
  {
   "cell_type": "code",
   "execution_count": 2,
   "id": "7bc377eb",
   "metadata": {},
   "outputs": [
    {
     "name": "stdout",
     "output_type": "stream",
     "text": [
      "5\n"
     ]
    }
   ],
   "source": [
    "print(x)"
   ]
  },
  {
   "cell_type": "code",
   "execution_count": 3,
   "id": "6ce28f16",
   "metadata": {},
   "outputs": [],
   "source": [
    "x = \"Peter\""
   ]
  },
  {
   "cell_type": "code",
   "execution_count": 6,
   "id": "9c984648",
   "metadata": {},
   "outputs": [
    {
     "name": "stdout",
     "output_type": "stream",
     "text": [
      "Peter\n"
     ]
    }
   ],
   "source": [
    "print(x)"
   ]
  },
  {
   "cell_type": "code",
   "execution_count": 5,
   "id": "b18f3e10",
   "metadata": {},
   "outputs": [],
   "source": [
    "# boolean: Wahr oder Falsch / True oder False\n",
    "\n",
    "x = True"
   ]
  },
  {
   "cell_type": "code",
   "execution_count": 23,
   "id": "e170785a",
   "metadata": {},
   "outputs": [
    {
     "name": "stdout",
     "output_type": "stream",
     "text": [
      "x ist gleich fünf\n",
      "zweite Zeile\n",
      "das wird immer ausgegeben\n"
     ]
    }
   ],
   "source": [
    "if x == 5:  # doppeltes gleich für Vergleiche\n",
    "    print(\"x ist gleich fünf\")\n",
    "    print(\"zweite Zeile\")\n",
    "elif x == 6:\n",
    "    print(\"x ist sechs\")\n",
    "else:\n",
    "    print(\"x ist weder fünf noch sechs\")\n",
    "    print(\"dies ist noch eingerückt\")\n",
    "    \n",
    "print(\"das wird immer ausgegeben\")"
   ]
  },
  {
   "cell_type": "code",
   "execution_count": 18,
   "id": "2d737db7",
   "metadata": {},
   "outputs": [],
   "source": [
    "x != 5  # ist ungleich"
   ]
  },
  {
   "cell_type": "code",
   "execution_count": 30,
   "id": "443e1cb6",
   "metadata": {},
   "outputs": [],
   "source": [
    "x = 4"
   ]
  },
  {
   "cell_type": "code",
   "execution_count": 31,
   "id": "d8c1c310",
   "metadata": {},
   "outputs": [
    {
     "data": {
      "text/plain": [
       "False"
      ]
     },
     "execution_count": 31,
     "metadata": {},
     "output_type": "execute_result"
    }
   ],
   "source": [
    "x == 5"
   ]
  },
  {
   "cell_type": "code",
   "execution_count": 51,
   "id": "84639d34",
   "metadata": {},
   "outputs": [
    {
     "data": {
      "text/plain": [
       "True"
      ]
     },
     "execution_count": 51,
     "metadata": {},
     "output_type": "execute_result"
    }
   ],
   "source": [
    "x != 5"
   ]
  },
  {
   "cell_type": "code",
   "execution_count": 52,
   "id": "e863e3c6",
   "metadata": {},
   "outputs": [
    {
     "data": {
      "text/plain": [
       "True"
      ]
     },
     "execution_count": 52,
     "metadata": {},
     "output_type": "execute_result"
    }
   ],
   "source": [
    "not (x == 5)"
   ]
  },
  {
   "cell_type": "code",
   "execution_count": 29,
   "id": "41076954",
   "metadata": {},
   "outputs": [
    {
     "name": "stdout",
     "output_type": "stream",
     "text": [
      " x ist nicht fünf\n"
     ]
    }
   ],
   "source": [
    "if x != 5:\n",
    "    print(\" x ist nicht fünf\")"
   ]
  },
  {
   "cell_type": "code",
   "execution_count": 33,
   "id": "1a613bae",
   "metadata": {},
   "outputs": [
    {
     "name": "stdout",
     "output_type": "stream",
     "text": [
      "Bitte gib eine Antwort ein: Antwort von mir\n"
     ]
    }
   ],
   "source": [
    "a = input(\"Bitte gib eine Antwort ein: \")  # input gibt einen string zurück"
   ]
  },
  {
   "cell_type": "code",
   "execution_count": 40,
   "id": "f6b16ee8",
   "metadata": {},
   "outputs": [
    {
     "name": "stdout",
     "output_type": "stream",
     "text": [
      "Wie alt bist du? 22\n",
      "42.0\n"
     ]
    }
   ],
   "source": [
    "x = float(input('Wie alt bist du? '))  # typecasting\n",
    "print(x + 20)"
   ]
  },
  {
   "cell_type": "code",
   "execution_count": 43,
   "id": "29f2c644",
   "metadata": {},
   "outputs": [
    {
     "data": {
      "text/plain": [
       "43"
      ]
     },
     "execution_count": 43,
     "metadata": {},
     "output_type": "execute_result"
    }
   ],
   "source": [
    "round(42.7)"
   ]
  },
  {
   "cell_type": "code",
   "execution_count": 48,
   "id": "a7d0de4e",
   "metadata": {},
   "outputs": [
    {
     "name": "stdout",
     "output_type": "stream",
     "text": [
      "xx\n",
      "Zugang gewährt\n"
     ]
    }
   ],
   "source": [
    "a = input()\n",
    "\n",
    "if a not in \"passwort\":\n",
    "    print('Zugang gewährt')\n",
    "else:\n",
    "    print('falsches Passwort')"
   ]
  },
  {
   "cell_type": "code",
   "execution_count": 50,
   "id": "82a9f372",
   "metadata": {},
   "outputs": [
    {
     "data": {
      "text/plain": [
       "False"
      ]
     },
     "execution_count": 50,
     "metadata": {},
     "output_type": "execute_result"
    }
   ],
   "source": [
    "not True"
   ]
  },
  {
   "cell_type": "code",
   "execution_count": 53,
   "id": "a3912698",
   "metadata": {},
   "outputs": [
    {
     "data": {
      "text/plain": [
       "True"
      ]
     },
     "execution_count": 53,
     "metadata": {},
     "output_type": "execute_result"
    }
   ],
   "source": [
    "True and True"
   ]
  },
  {
   "cell_type": "code",
   "execution_count": 54,
   "id": "3a9ca7ac",
   "metadata": {},
   "outputs": [
    {
     "data": {
      "text/plain": [
       "False"
      ]
     },
     "execution_count": 54,
     "metadata": {},
     "output_type": "execute_result"
    }
   ],
   "source": [
    "True and False"
   ]
  },
  {
   "cell_type": "code",
   "execution_count": 55,
   "id": "fb9497b8",
   "metadata": {},
   "outputs": [
    {
     "data": {
      "text/plain": [
       "False"
      ]
     },
     "execution_count": 55,
     "metadata": {},
     "output_type": "execute_result"
    }
   ],
   "source": [
    "False and True"
   ]
  },
  {
   "cell_type": "code",
   "execution_count": 56,
   "id": "f19268fd",
   "metadata": {},
   "outputs": [
    {
     "data": {
      "text/plain": [
       "False"
      ]
     },
     "execution_count": 56,
     "metadata": {},
     "output_type": "execute_result"
    }
   ],
   "source": [
    "False and False"
   ]
  },
  {
   "cell_type": "code",
   "execution_count": 57,
   "id": "eec9a729",
   "metadata": {},
   "outputs": [
    {
     "data": {
      "text/plain": [
       "True"
      ]
     },
     "execution_count": 57,
     "metadata": {},
     "output_type": "execute_result"
    }
   ],
   "source": [
    "True or True"
   ]
  },
  {
   "cell_type": "code",
   "execution_count": 58,
   "id": "8de05fde",
   "metadata": {},
   "outputs": [
    {
     "data": {
      "text/plain": [
       "True"
      ]
     },
     "execution_count": 58,
     "metadata": {},
     "output_type": "execute_result"
    }
   ],
   "source": [
    "True or False"
   ]
  },
  {
   "cell_type": "code",
   "execution_count": 59,
   "id": "bd8febe8",
   "metadata": {},
   "outputs": [
    {
     "data": {
      "text/plain": [
       "False"
      ]
     },
     "execution_count": 59,
     "metadata": {},
     "output_type": "execute_result"
    }
   ],
   "source": [
    "False or False"
   ]
  },
  {
   "cell_type": "code",
   "execution_count": 62,
   "id": "b0c29fe5",
   "metadata": {},
   "outputs": [],
   "source": [
    "x = 5\n",
    "y = 8"
   ]
  },
  {
   "cell_type": "code",
   "execution_count": 64,
   "id": "47145e68",
   "metadata": {},
   "outputs": [
    {
     "data": {
      "text/plain": [
       "True"
      ]
     },
     "execution_count": 64,
     "metadata": {},
     "output_type": "execute_result"
    }
   ],
   "source": [
    "(x == 5) and (y != 7)"
   ]
  },
  {
   "cell_type": "code",
   "execution_count": null,
   "id": "88688574",
   "metadata": {},
   "outputs": [],
   "source": []
  }
 ],
 "metadata": {
  "kernelspec": {
   "display_name": "Python 3 (ipykernel)",
   "language": "python",
   "name": "python3"
  },
  "language_info": {
   "codemirror_mode": {
    "name": "ipython",
    "version": 3
   },
   "file_extension": ".py",
   "mimetype": "text/x-python",
   "name": "python",
   "nbconvert_exporter": "python",
   "pygments_lexer": "ipython3",
   "version": "3.9.6"
  }
 },
 "nbformat": 4,
 "nbformat_minor": 5
}
