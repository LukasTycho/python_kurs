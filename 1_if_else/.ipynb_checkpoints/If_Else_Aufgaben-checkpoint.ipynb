{
 "cells": [
  {
   "cell_type": "markdown",
   "metadata": {},
   "source": [
    "### Übungen\n",
    "Diese Übungen sind dazu da, den Stoff zu festigen."
   ]
  },
  {
   "cell_type": "markdown",
   "metadata": {},
   "source": [
    "1. Es gibt eine Variable ``x``. Wenn ``x`` größer als 6 ist, soll ``\"viel\"`` ausgegeben werden, sonst soll ``\"wenig\"`` ausgegeben werden."
   ]
  },
  {
   "cell_type": "code",
   "execution_count": null,
   "metadata": {},
   "outputs": [],
   "source": [
    "x = 42\n",
    "\n",
    "# dein Code hier"
   ]
  },
  {
   "cell_type": "markdown",
   "metadata": {},
   "source": [
    "2. Es gibt eine Variable ``x``. Wenn ``x`` größer als 6 ist, soll ``\"viel\"`` ausgegeben werden, wenn ``x`` mindestens 0 und höchstens 6 ist, soll ``\"wenig\"`` ausgegeben werden, wenn ``x`` kleiner als 0 ist, soll ``\"negativ\"`` ausgegeben werden."
   ]
  },
  {
   "cell_type": "code",
   "execution_count": null,
   "metadata": {},
   "outputs": [],
   "source": [
    "x = -3\n",
    "\n",
    "# dein Code hier"
   ]
  },
  {
   "cell_type": "markdown",
   "metadata": {},
   "source": [
    "3. Es gibt ein festgelegtes Passwort. Der Benutzer soll ein Passwort eingeben. Wenn das eingegebene Passwort mit dem festgelegten Passwort überein stimmt, soll ``\"richtig\"`` ausgegeben werden, sonst soll ``\"falsch\"`` ausgegeben werden."
   ]
  },
  {
   "cell_type": "code",
   "execution_count": null,
   "metadata": {},
   "outputs": [],
   "source": [
    "password = \"br1ght\"\n",
    "user_entry = input(\"Please enter the password: \")\n",
    "\n",
    "# dein Code hier"
   ]
  },
  {
   "cell_type": "markdown",
   "metadata": {},
   "source": [
    "4. Eine einfache Lotterie hat fünf Zahlen, die gewinnen. Der Benutzer soll seine Zahl eingeben. Schreibe Code, der prüft, ob die Zahl in den gewinnenden Zahlen ist."
   ]
  },
  {
   "cell_type": "code",
   "execution_count": null,
   "metadata": {},
   "outputs": [],
   "source": [
    "win_nums = \"2, 7, 12, 42, 66\"\n",
    "\n",
    "# dein Code hier"
   ]
  },
  {
   "cell_type": "markdown",
   "metadata": {},
   "source": [
    "### Matherätsel\n",
    "Wir wollen ein bisschen Kopfrechnen üben. Schreibe dafür ein Programm, welches eine Zahl nimmt, diese mit einer Zufallszahl multipliziert und dann das Ergebnis ausgibt. Dann soll die Zufallszahl von Benutzer ausgerechnet und eingegeben werden. Das Programm soll diese Eingabe prüfen und angeben, ob die Antwort richtig oder falsch ist.\n",
    "\n",
    "Beispiel (Benutzereingaben mit '>' gekennzeichnet):\n",
    "\n",
    "    > 3\n",
    "    15\n",
    "    > 5\n",
    "    Das ist korrekt.\n",
    "\n",
    "(Du darfst gerne noch mehr Text mit ausgeben, damit man weiß, was man wann eingeben soll.)\n",
    "\n",
    "Die Zufallszahl wird mit `random.randint(a, b)` generiert. Diese Funktion gibt einen integer-Wert in den Grenzen `a` und `b` zurück.\n",
    "\n",
    "###### Zusatzaufgabe\n",
    "Der Benutzer soll drei Versuche bekommen, die richtige Zahl auszurechnen. Wenn schon beim ersten oder zweiten Versuch die richtige Antwort gegeben wird, sollen die nachfolgenden Versuche übersprungen werden."
   ]
  },
  {
   "cell_type": "code",
   "execution_count": null,
   "metadata": {},
   "outputs": [],
   "source": [
    "import random\n",
    "\n",
    "zufallszahl = random.randint(3, 15)  # Zufallszahl ist mindestens 3 und höchstens 15, darf gerne angepasst werden\n",
    "\n",
    "# dein Code hier"
   ]
  },
  {
   "cell_type": "markdown",
   "metadata": {},
   "source": [
    "### Rezepte\n",
    "Jedes Rezept fängt mit Zutaten an. Unten steht ein abstraktes Kochbuch mit Zutaten für verschiedene Gerichte. Schreibe ein kurzes Programm, bei dem eine Zutat eingegeben wird und welches daraufhin ausgibt, welche Gerichte damit gemacht werden können."
   ]
  },
  {
   "cell_type": "code",
   "execution_count": 1,
   "metadata": {},
   "outputs": [],
   "source": [
    "pasta = \"tomato, basil, garlic, salt, pasta, olive oil\"\n",
    "apple_pie = \"apple, sugar, salt, cinnamon, flour, egg, butter\"\n",
    "ratatouille = \"aubergine, carrot, onion, tomato, garlic, olive oil, pepper, salt\"\n",
    "chocolate_cake = \"chocolate, sugar, salt, flour, coffee, butter\"\n",
    "omelette = \"egg, milk, bacon, tomato, salt, pepper\"\n",
    "\n",
    "# dein Code hier"
   ]
  },
  {
   "cell_type": "markdown",
   "metadata": {},
   "source": [
    "### Schaltjahr\n",
    "Schreibe ein Programm, welches für ein eingegebenes Jahr angibt, ob es sich um ein Schaltjahr handelt oder nicht. Schaltjahre sind alle Jahre, die durch 4 teilbar sind, mit Ausnahme der Jahre, die durch 100 teilbar sind, es sei denn das Jahr ist auch durch 400 teilbar. D. h. 1900 war kein Schaltjahr, 2000 aber schon (weil es durch 400 teilbar ist). Schaltjahre gibt es erst seit der Einführung des gregorianischen Kalenders im Jahre 1582."
   ]
  },
  {
   "cell_type": "code",
   "execution_count": 5,
   "metadata": {},
   "outputs": [],
   "source": [
    "# dein Code hier"
   ]
  },
  {
   "cell_type": "markdown",
   "metadata": {},
   "source": [
    "### Zahlen sortieren\n",
    "Es sollen drei Zahlen nacheinander eingegeben werden. Das Programm soll diese Zahlen dann der Größe nach wieder ausgeben, angefangen mit der kleinsten Zahl."
   ]
  },
  {
   "cell_type": "code",
   "execution_count": 6,
   "metadata": {},
   "outputs": [],
   "source": [
    "# dein Code hier"
   ]
  },
  {
   "cell_type": "markdown",
   "metadata": {},
   "source": [
    "### Noten\n",
    "Man kann in der Uni / Hochschule bestimmte Noten bekommen. Diese sind abhängig von den erreichten Punkten in Relation zur Gesamtpunktzahl. Die genauen Zuordnungen könnt ihr dieser Tabelle entnehmen:\n",
    "\n",
    "| Note \t| Prozent \t| verbal       \t |\n",
    "|:-----:|:---------:|:--------------:|\n",
    "| 1.0  \t| ≥ 95    \t| sehr gut     \t |\n",
    "| 1.3  \t| ≥ 90    \t| sehr gut     \t |\n",
    "| 1.7  \t| ≥ 85    \t| gut          \t |\n",
    "| 2.0  \t| ≥ 80    \t| gut          \t |\n",
    "| 2.3  \t| ≥ 75    \t| gut          \t |\n",
    "| 2.7  \t| ≥ 70    \t| befriedigend \t |\n",
    "| 3.0  \t| ≥ 65    \t| befriedigend \t |\n",
    "| 3.3  \t| ≥ 60    \t| befriedigend \t |\n",
    "| 3.7  \t| ≥ 55    \t| ausreichend  \t |\n",
    "| 4.0  \t| ≥ 50    \t| ausreichend  \t |\n",
    "| 5.0  \t| < 50    \t| ungenügend   \t |\n",
    "\n",
    "Schreibe ein Programm, bei dem man die Gesamtpunktzahl und die erreichte Punktzahl eingeben kann und welches einem dann sagt, welche Note man erreicht hat.\n",
    "\n",
    "###### Zusatzaufgabe\n",
    "Erweitere dein Programm, so dass man auch die Note und die Gesamtpunktzahl eingeben kann, und das Programm dann ausrechnet, wie viele Punkte man mindestens erreichen muss, um die Note zu bekommen."
   ]
  },
  {
   "cell_type": "code",
   "execution_count": null,
   "metadata": {},
   "outputs": [],
   "source": [
    "# dein Code hier"
   ]
  },
  {
   "cell_type": "markdown",
   "metadata": {},
   "source": [
    "### Münzwechsler\n",
    "Schreibe ein Programm, welches für einen beliebigen Geldbetrag (du kannst gerne ein Maximum setzen, z. B. höchstens 1.99 €) angibt, mit welchen Münzen dieser Betrag am effizientesten dargestellt werden kann.\n",
    "\n",
    "Beispiel: 96 ct → 1x 50 ct, 2x 20 ct, 1x 5 ct, 1x 1 ct"
   ]
  },
  {
   "cell_type": "code",
   "execution_count": null,
   "metadata": {},
   "outputs": [],
   "source": [
    "# dein Code hier"
   ]
  },
  {
   "cell_type": "markdown",
   "metadata": {},
   "source": [
    "### Wohin mit dem Springer?\n",
    "Der Springer im Schach bewegt sich in einem 'L': zwei nach vorne und einen zur Seite. Wenn der Springer genug Platz um sich herum hat, kann er so insgesamt acht verschiedene Felder anspringen. Wenn er jedoch am Rand oder in der Ecke steht, hat er weniger Felder zur Auswahl. Schreibe ein Programm, das die Position des Springers abfragt (Spalte von A bis H, Zeile von 1 bis 8) und dann angibt, wie viele Felder der Springer zur Auswahl hat."
   ]
  },
  {
   "cell_type": "code",
   "execution_count": null,
   "metadata": {},
   "outputs": [],
   "source": [
    "# dein Code hier"
   ]
  }
 ],
 "metadata": {
  "kernelspec": {
   "display_name": "Python 3 (ipykernel)",
   "language": "python",
   "name": "python3"
  },
  "language_info": {
   "codemirror_mode": {
    "name": "ipython",
    "version": 3
   },
   "file_extension": ".py",
   "mimetype": "text/x-python",
   "name": "python",
   "nbconvert_exporter": "python",
   "pygments_lexer": "ipython3",
   "version": "3.9.6"
  }
 },
 "nbformat": 4,
 "nbformat_minor": 4
}
