{
 "cells": [
  {
   "cell_type": "markdown",
   "metadata": {},
   "source": [
    "### Übungen\n",
    "Diese Übungen sind dazu da, den Stoff zu festigen."
   ]
  },
  {
   "cell_type": "markdown",
   "metadata": {},
   "source": [
    "1. Es gibt eine Variable ``x``. Wenn ``x`` größer als 6 ist, soll ``\"viel\"`` ausgegeben werden, sonst soll ``\"wenig\"`` ausgegeben werden."
   ]
  },
  {
   "cell_type": "code",
   "execution_count": 1,
   "metadata": {},
   "outputs": [
    {
     "name": "stdout",
     "output_type": "stream",
     "text": [
      "viel\n"
     ]
    }
   ],
   "source": [
    "x = 42\n",
    "\n",
    "if x > 6:\n",
    "    print('viel')\n",
    "else:\n",
    "    print('wenig')"
   ]
  },
  {
   "cell_type": "markdown",
   "metadata": {},
   "source": [
    "2. Es gibt eine Variable ``x``. Wenn ``x`` größer als 6 ist, soll ``\"viel\"`` ausgegeben werden, wenn ``x`` mindestens 0 und höchstens 6 ist, soll ``\"wenig\"`` ausgegeben werden, wenn ``x`` kleiner als 0 ist, soll ``\"negativ\"`` ausgegeben werden."
   ]
  },
  {
   "cell_type": "code",
   "execution_count": 3,
   "metadata": {},
   "outputs": [
    {
     "name": "stdout",
     "output_type": "stream",
     "text": [
      "wenig\n"
     ]
    }
   ],
   "source": [
    "x = 3\n",
    "\n",
    "if x > 6:\n",
    "    print('viel')\n",
    "elif x >= 0:\n",
    "    print('wenig')\n",
    "else:\n",
    "    print('negativ')"
   ]
  },
  {
   "cell_type": "markdown",
   "metadata": {},
   "source": [
    "3. Es gibt ein festgelegtes Passwort. Der Benutzer soll ein Passwort eingeben. Wenn das eingegebene Passwort mit dem festgelegten Passwort überein stimmt, soll ``\"richtig\"`` ausgegeben werden, sonst soll ``\"falsch\"`` ausgegeben werden."
   ]
  },
  {
   "cell_type": "code",
   "execution_count": 4,
   "metadata": {},
   "outputs": [
    {
     "name": "stdout",
     "output_type": "stream",
     "text": [
      "Please enter the password: bright\n",
      "falsch\n"
     ]
    }
   ],
   "source": [
    "password = \"br1ght\"\n",
    "user_entry = input(\"Please enter the password: \")\n",
    "\n",
    "if user_entry == password:\n",
    "    print('richtig')\n",
    "else:\n",
    "    print('falsch')"
   ]
  },
  {
   "cell_type": "markdown",
   "metadata": {},
   "source": [
    "4. Eine einfache Lotterie hat fünf Zahlen, die gewinnen. Der Benutzer soll seine Zahl eingeben. Schreibe Code, der prüft, ob die Zahl in den gewinnenden Zahlen ist."
   ]
  },
  {
   "cell_type": "code",
   "execution_count": 5,
   "metadata": {},
   "outputs": [
    {
     "name": "stdout",
     "output_type": "stream",
     "text": [
      "Please enter your number: 7\n",
      "You won!\n"
     ]
    }
   ],
   "source": [
    "win_nums = \"2, 7, 12, 42, 66\"\n",
    "\n",
    "user_num = input('Please enter your number: ')\n",
    "\n",
    "if user_num in win_nums:\n",
    "    print('You won!')\n",
    "else:\n",
    "    print('Sorry, you lost.')"
   ]
  },
  {
   "cell_type": "markdown",
   "metadata": {},
   "source": [
    "### Matherätsel\n",
    "Wir wollen ein bisschen Kopfrechnen üben. Schreibe dafür ein Programm, welches eine Zahl nimmt, diese mit einer Zufallszahl multipliziert und dann das Ergebnis ausgibt. Dann soll die Zufallszahl von Benutzer ausgerechnet und eingegeben werden. Das Programm soll diese Eingabe prüfen und angeben, ob die Antwort richtig oder falsch ist.\n",
    "\n",
    "Beispiel (Benutzereingaben mit '>' gekennzeichnet):\n",
    "\n",
    "    > 3\n",
    "    15\n",
    "    > 5\n",
    "    Das ist korrekt.\n",
    "\n",
    "(Du darfst gerne noch mehr Text mit ausgeben, damit man weiß, was man wann eingeben soll.)\n",
    "\n",
    "Die Zufallszahl wird mit `random.randint(a, b)` generiert. Diese Funktion gibt einen integer-Wert in den Grenzen `a` und `b` zurück.\n",
    "\n",
    "###### Zusatzaufgabe\n",
    "Der Benutzer soll drei Versuche bekommen, die richtige Zahl auszurechnen. Wenn schon beim ersten oder zweiten Versuch die richtige Antwort gegeben wird, sollen die nachfolgenden Versuche übersprungen werden."
   ]
  },
  {
   "cell_type": "code",
   "execution_count": 10,
   "metadata": {},
   "outputs": [
    {
     "name": "stdout",
     "output_type": "stream",
     "text": [
      "Bitte gib eine Zahl ein:\n",
      "5\n",
      "Deine Zahl wurde mit einer anderen Zahl multipliziert. Hier ist das Ergebnis:\n",
      "75\n",
      "Was ist die andere Zahl?\n",
      "13\n",
      "Da hast du dich verrechnet. Versuche es nochmal.\n",
      "16\n",
      "Da hast du dich verrechnet. Versuche es nochmal.\n",
      "15\n",
      "Das ist korrekt!\n"
     ]
    }
   ],
   "source": [
    "import random\n",
    "\n",
    "zufallszahl = random.randint(3, 15)       # Zufallszahl ist mindestens 3 und höchstens 15, darf gerne angepasst werden\n",
    "\n",
    "print(\"Bitte gib eine Zahl ein:\")\n",
    "user_zahl = int(input())                  # Spieler gibt eine Zahl ein\n",
    "result = user_zahl * zufallszahl          # Beide Zahlen werden multipliziert\n",
    "print(\"Deine Zahl wurde mit einer anderen Zahl multipliziert. Hier ist das Ergebnis:\")\n",
    "print(result)\n",
    "print(\"Was ist die andere Zahl?\")\n",
    "user_answer = int(input())                # Spieler gibt zweite Zahl ein\n",
    "if user_answer == zufallszahl:            # Wenn die zweite Zahl vom Spieler die gleiche wie die vom Computer ist...\n",
    "    print(\"Das ist korrekt!\")             # ...dann hat der Spieler gewonnen\n",
    "else:                                     # sonst...\n",
    "    print(\"Da hast du dich verrechnet. Versuche es nochmal.\")  # ...darf er es nochmal versuchen\n",
    "    user_answer = int(input())\n",
    "    if user_answer == zufallszahl:\n",
    "        print(\"Das ist korrekt!\")\n",
    "    else:\n",
    "        print(\"Da hast du dich verrechnet. Versuche es nochmal.\")\n",
    "        user_answer = int(input())\n",
    "        if user_answer == zufallszahl:\n",
    "            print(\"Das ist korrekt!\")\n",
    "        else:\n",
    "            print(\"Da hast du dich verrechnet.\")"
   ]
  },
  {
   "cell_type": "markdown",
   "metadata": {},
   "source": [
    "### Rezepte\n",
    "Jedes Rezept fängt mit Zutaten an. Unten steht ein abstraktes Kochbuch mit Zutaten für verschiedene Gerichte. Schreibe ein kurzes Programm, bei dem eine Zutat eingegeben wird und welches daraufhin ausgibt, welche Gerichte damit gemacht werden können."
   ]
  },
  {
   "cell_type": "code",
   "execution_count": 21,
   "metadata": {},
   "outputs": [
    {
     "name": "stdout",
     "output_type": "stream",
     "text": [
      "Gib eine Zutat ein: olive oil\n",
      "Du kannst Pasta kochen.\n",
      "Du kannst Ratatouille kochen.\n"
     ]
    }
   ],
   "source": [
    "pasta = \"tomato, basil, garlic, salt, pasta, olive oil\"\n",
    "apple_pie = \"apple, sugar, salt, cinnamon, flour, egg, butter\"\n",
    "ratatouille = \"aubergine, carrot, onion, tomato, garlic, olive oil, pepper, salt\"\n",
    "chocolate_cake = \"chocolate, sugar, salt, flour, coffee, butter\"\n",
    "omelette = \"egg, milk, bacon, tomato, salt, pepper\"\n",
    "\n",
    "zutat = input('Gib eine Zutat ein: ').lower()  # das .lower() wandelt den input in Kleinbuchstaben um\n",
    "if zutat in pasta:\n",
    "    print('Du kannst Pasta kochen.')\n",
    "if zutat in apple_pie:\n",
    "    print('Du kannst Apfelkuchen backen.')\n",
    "if zutat in ratatouille:\n",
    "    print('Du kannst Ratatouille kochen.')\n",
    "if zutat in chocolate_cake:\n",
    "    print('Du kannst Schokokuchen backen.')\n",
    "if zutat in omelette:\n",
    "    print('Du kannst Omelette kochen.')\n",
    "    \n",
    "# Alternative Lösung mit einem Dictionary (kommt später im Semester):\n",
    "\n",
    "# gerichte = {'Pasta': pasta, 'Apfelkuchen': apple_pie, 'Ratatouille': ratatouille,\n",
    "#             'Schokokuchen': chocolate_cake, 'Omelette': omelette}\n",
    "\n",
    "# for gericht, zutaten in gerichte.items():\n",
    "#     if zutat in zutaten:\n",
    "#         print(f'Du kannst {gericht} machen.')"
   ]
  },
  {
   "cell_type": "markdown",
   "metadata": {},
   "source": [
    "### Schaltjahr\n",
    "Schreibe ein Programm, welches für ein eingegebenes Jahr angibt, ob es sich um ein Schaltjahr handelt oder nicht. Schaltjahre sind alle Jahre, die durch 4 teilbar sind, mit Ausnahme der Jahre, die durch 100 teilbar sind, es sei denn das Jahr ist auch durch 400 teilbar. D. h. 1900 war kein Schaltjahr, 2000 aber schon (weil es durch 400 teilbar ist). Schaltjahre gibt es erst seit der Einführung des gregorianischen Kalenders im Jahre 1582."
   ]
  },
  {
   "cell_type": "code",
   "execution_count": 8,
   "metadata": {},
   "outputs": [
    {
     "name": "stdout",
     "output_type": "stream",
     "text": [
      "Gib ein Jahr ein: 1625\n",
      "Das Jahr ist kein Schaltjahr.\n"
     ]
    }
   ],
   "source": [
    "jahr = int(input('Gib ein Jahr ein: '))\n",
    "if jahr >= 1582 and not jahr % 4 and (jahr % 100 or not jahr % 400):\n",
    "# Alternative: if jahr >= 1582 and jahr % 4 == 0 and (jahr % 100 != 0 or jahr % 400 == 0):\n",
    "# 0 wird als False evaluiert und alle anderen Zahlen als True, deshalb funktionier die if-Abfrage\n",
    "# auch ohne die direkten Vergleiche mit den Zahlen, aber wichtig: beachte das not!\n",
    "    print('Das Jahr ist ein Schaltjahr.')\n",
    "else:\n",
    "    print('Das Jahr ist kein Schaltjahr.')"
   ]
  },
  {
   "cell_type": "markdown",
   "metadata": {},
   "source": [
    "### Zahlen sortieren\n",
    "Es sollen drei Zahlen nacheinander eingegeben werden. Das Programm soll diese Zahlen dann der Größe nach wieder ausgeben, angefangen mit der kleinsten Zahl."
   ]
  },
  {
   "cell_type": "code",
   "execution_count": 14,
   "metadata": {},
   "outputs": [
    {
     "name": "stdout",
     "output_type": "stream",
     "text": [
      "5\n",
      "8\n",
      "1\n",
      "sortiert:\n",
      "1\n",
      "5\n",
      "8\n"
     ]
    }
   ],
   "source": [
    "# Lösung 1\n",
    "\n",
    "a = int(input())\n",
    "b = int(input())\n",
    "c = int(input())\n",
    "\n",
    "print('sortiert:')\n",
    "if a < b and a < c:\n",
    "    print(a)\n",
    "    if b < c:\n",
    "        print(b)\n",
    "        print(c)\n",
    "    else:\n",
    "        print(c)\n",
    "        print(b)\n",
    "elif b < a and b < c:\n",
    "    print(b)\n",
    "    if a < c:\n",
    "        print(a)\n",
    "        print(c)\n",
    "    else:\n",
    "        print(c)\n",
    "        print(a)\n",
    "else:\n",
    "    print(c)\n",
    "    if a < b:\n",
    "        print(a)\n",
    "        print(b)\n",
    "    else:\n",
    "        print(b)\n",
    "        print(a)"
   ]
  },
  {
   "cell_type": "code",
   "execution_count": 20,
   "metadata": {},
   "outputs": [
    {
     "name": "stdout",
     "output_type": "stream",
     "text": [
      "3\n",
      "1\n",
      "2\n",
      "sortiert:\n",
      "1 2 3\n"
     ]
    }
   ],
   "source": [
    "# Lösung 2\n",
    "\n",
    "a = int(input())\n",
    "b = int(input())\n",
    "c = int(input())\n",
    "\n",
    "print('sortiert:')\n",
    "\n",
    "if a < b:\n",
    "    klein = a\n",
    "    gross = b\n",
    "else:\n",
    "    klein = b\n",
    "    gross = a\n",
    "if c < klein:\n",
    "    mittel = klein\n",
    "    klein = c\n",
    "elif c > gross:\n",
    "    mittel = gross\n",
    "    gross = c\n",
    "else:\n",
    "    mittel = c\n",
    "\n",
    "print(klein, mittel, gross)"
   ]
  },
  {
   "cell_type": "markdown",
   "metadata": {},
   "source": [
    "### Noten\n",
    "Man kann in der Uni / Hochschule bestimmte Noten bekommen. Diese sind abhängig von den erreichten Punkten in Relation zur Gesamtpunktzahl. Die genauen Zuordnungen könnt ihr dieser Tabelle entnehmen:\n",
    "\n",
    "| Note \t| Prozent \t| verbal       \t |\n",
    "|:-----:|:---------:|:--------------:|\n",
    "| 1.0  \t| ≥ 95    \t| sehr gut     \t |\n",
    "| 1.3  \t| ≥ 90    \t| sehr gut     \t |\n",
    "| 1.7  \t| ≥ 85    \t| gut          \t |\n",
    "| 2.0  \t| ≥ 80    \t| gut          \t |\n",
    "| 2.3  \t| ≥ 75    \t| gut          \t |\n",
    "| 2.7  \t| ≥ 70    \t| befriedigend \t |\n",
    "| 3.0  \t| ≥ 65    \t| befriedigend \t |\n",
    "| 3.3  \t| ≥ 60    \t| befriedigend \t |\n",
    "| 3.7  \t| ≥ 55    \t| ausreichend  \t |\n",
    "| 4.0  \t| ≥ 50    \t| ausreichend  \t |\n",
    "| 5.0  \t| < 50    \t| ungenügend   \t |\n",
    "\n",
    "Schreibe ein Programm, bei dem man die Gesamtpunktzahl und die erreichte Punktzahl eingeben kann und welches einem dann sagt, welche Note man erreicht hat.\n",
    "\n",
    "###### Zusatzaufgabe\n",
    "Erweitere dein Programm, so dass man auch die Note und die Gesamtpunktzahl eingeben kann, und das Programm dann ausrechnet, wie viele Punkte man mindestens erreichen muss, um die Note zu bekommen."
   ]
  },
  {
   "cell_type": "code",
   "execution_count": 4,
   "metadata": {},
   "outputs": [
    {
     "name": "stdout",
     "output_type": "stream",
     "text": [
      "Was willst du wissen? (Note oder Punkte) punkte\n",
      "Bitte gib die Note ein, die du erreichen willst: 2.3\n",
      "Bitte gib die Gesamtpunktzahl ein: 94\n",
      "Für eine 2.3 brauchst du 63 Punkte.\n"
     ]
    }
   ],
   "source": [
    "import math\n",
    "\n",
    "variante = input('Was willst du wissen? (Note oder Punkte) ').lower()\n",
    "\n",
    "if variante == 'note':\n",
    "    punkte_erreicht = float(input('Bitte gib die erreichten Punkte ein: '))\n",
    "elif variante == 'punkte':\n",
    "    note = float(input('Bitte gib die Note ein, die du erreichen willst: '))\n",
    "else:\n",
    "    print('Das ist keine gültige Eingabe.')\n",
    "    quit()\n",
    "\n",
    "punkte_gesamt = float(input('Bitte gib die Gesamtpunktzahl ein: '))\n",
    "\n",
    "if variante == 'note':\n",
    "    prozent = punkte_erreicht / punkte_gesamt\n",
    "    if prozent >= 0.95:\n",
    "        note = 1.0\n",
    "    elif prozent >= 0.90:\n",
    "        note = 1.3\n",
    "    elif prozent >= 0.85:\n",
    "        note = 1.7\n",
    "    elif prozent >= 0.80:\n",
    "        note = 2.0\n",
    "    elif prozent >= 0.75:\n",
    "        note = 2.3\n",
    "    elif prozent >= 0.70:\n",
    "        note = 2.7\n",
    "    elif prozent >= 0.65:\n",
    "        note = 3.0\n",
    "    elif prozent >= 0.60:\n",
    "        note = 3.3\n",
    "    elif prozent >= 0.55:\n",
    "        note = 3.7\n",
    "    elif prozent >= 0.50:\n",
    "        note = 4.0\n",
    "    else:\n",
    "        note = 5.0\n",
    "        \n",
    "    print('Mit ' + str(punkte_erreicht) + ' Punkten bekommst du eine ' + str(note) + '.')\n",
    "\n",
    "else:\n",
    "    if note == 1.0:\n",
    "        prozent == 0.95\n",
    "    elif note == 1.3:\n",
    "        prozent == 0.9\n",
    "    elif note == 1.7:\n",
    "        prozent == 0.85\n",
    "    elif note == 2.0:\n",
    "        prozent == 0.8\n",
    "    elif note == 2.3:\n",
    "        prozent == 0.75\n",
    "    elif note == 2.7:\n",
    "        prozent == 0.7\n",
    "    elif note == 3.0:\n",
    "        prozent == 0.65\n",
    "    elif note == 3.3:\n",
    "        prozent == 0.6\n",
    "    elif note == 3.7:\n",
    "        prozent == 0.55\n",
    "    elif note == 4.0:\n",
    "        prozent == 0.5\n",
    "    elif note == 5.0:\n",
    "        prozent == 0\n",
    "    else:\n",
    "        print('Diese Note wird nicht vergeben.')\n",
    "        \n",
    "    punkte_erreicht = math.ceil(punkte_gesamt * prozent)\n",
    "    \n",
    "    print('Für eine ' + str(note) + ' brauchst du ' + str(punkte_erreicht) + ' Punkte.')\n",
    "    \n",
    "# Diese Aufgabe lässt sich auch einfacher lösen, das kommt aber erst später im Semester."
   ]
  },
  {
   "cell_type": "markdown",
   "metadata": {},
   "source": [
    "### Münzwechsler\n",
    "Schreibe ein Programm, welches für einen beliebigen Geldbetrag (du kannst gerne ein Maximum setzen, z. B. höchstens 1.99 €) angibt, mit welchen Münzen dieser Betrag am effizientesten dargestellt werden kann.\n",
    "\n",
    "Beispiel: 96 ct → 1x 50 ct, 2x 20 ct, 1x 5 ct, 1x 1 ct"
   ]
  },
  {
   "cell_type": "code",
   "execution_count": 8,
   "metadata": {},
   "outputs": [
    {
     "name": "stdout",
     "output_type": "stream",
     "text": [
      "Bitte gib einen Geldbetrag in Cent ein: 243\n",
      "243ct lassen sich zusammensetzen aus:\n",
      "1 Zwei-Euro-Münze\n",
      "2 20ct-Münzen\n",
      "1 2ct-Münze\n",
      "1 1ct-Münze\n"
     ]
    }
   ],
   "source": [
    "startbetrag = int(input('Bitte gib einen Geldbetrag in Cent ein: '))\n",
    "betrag = startbetrag\n",
    "zwei_euro = betrag // 200\n",
    "betrag = betrag - zwei_euro * 200\n",
    "ein_euro = betrag // 100\n",
    "betrag = betrag - ein_euro * 100\n",
    "fuenzig_cent = betrag // 50\n",
    "betrag = betrag - fuenzig_cent * 50\n",
    "zwanzig_cent = betrag // 20\n",
    "betrag = betrag - zwanzig_cent * 50\n",
    "zehn_cent = betrag // 10\n",
    "betrag = betrag - zehn_cent * 10\n",
    "fuenf_cent = betrag // 5\n",
    "betrag = betrag - fuenf_cent * 5\n",
    "zwei_cent = betrag // 2\n",
    "betrag = betrag - zwei_cent * 2\n",
    "ein_cent = betrag\n",
    "\n",
    "print(f'{startbetrag}ct lassen sich zusammensetzen aus:')\n",
    "if zwei_euro > 1:\n",
    "    print(f'{zwei_euro} Zwei-Euro-Münzen')\n",
    "elif zwei_euro == 1:\n",
    "    print(f'{zwei_euro} Zwei-Euro-Münze')\n",
    "if ein_euro > 1:\n",
    "    print(f'{ein_euro} Ein-Euro-Münzen')\n",
    "elif ein_euro == 1:\n",
    "    print(f'{ein_euro} Ein-Euro-Münze')\n",
    "if fuenzig_cent > 1:\n",
    "    print(f'{fuenzig_cent} 50ct-Münzen')\n",
    "elif fuenzig_cent == 1:\n",
    "    print(f'{fuenzig_cent} 50ct-Münze')\n",
    "if zwanzig_cent > 1:\n",
    "    print(f'{zwanzig_cent} 20ct-Münzen')\n",
    "elif zwanzig_cent == 1:\n",
    "    print(f'{zwanzig_cent} 20ct-Münze')\n",
    "if zehn_cent > 1:\n",
    "    print(f'{zehn_cent} 10ct-Münzen')\n",
    "elif zehn_cent == 1:\n",
    "    print(f'{zehn_cent} 10ct-Münze')\n",
    "if fuenf_cent > 1:\n",
    "    print(f'{fuenf_cent} 5ct-Münzen')\n",
    "elif fuenf_cent == 1:\n",
    "    print(f'{fuenf_cent} 5ct-Münze')\n",
    "if zwei_cent > 1:\n",
    "    print(f'{zwei_cent} 2ct-Münzen')\n",
    "elif zwei_cent == 1:\n",
    "    print(f'{zwei_cent} 2ct-Münze')\n",
    "if ein_cent > 1:\n",
    "    print(f'{ein_cent} 1ct-Münzen')\n",
    "elif ein_cent == 1:\n",
    "    print(f'{ein_cent} 1ct-Münze')\n"
   ]
  },
  {
   "cell_type": "markdown",
   "metadata": {},
   "source": [
    "### Wohin mit dem Springer?\n",
    "Der Springer im Schach bewegt sich in einem 'L': zwei nach vorne und einen zur Seite. Wenn der Springer genug Platz um sich herum hat, kann er so insgesamt acht verschiedene Felder anspringen. Wenn er jedoch am Rand oder in der Ecke steht, hat er weniger Felder zur Auswahl. Schreibe ein Programm, das die Position des Springers abfragt (Spalte von A bis H, Zeile von 1 bis 8) und dann angibt, wie viele Felder der Springer zur Auswahl hat."
   ]
  },
  {
   "cell_type": "code",
   "execution_count": 13,
   "metadata": {},
   "outputs": [
    {
     "name": "stdout",
     "output_type": "stream",
     "text": [
      "Gib die Position des Springers an: e6\n",
      "Der Springer kann 8 Felder anspringen.\n"
     ]
    }
   ],
   "source": [
    "pos = input('Gib die Position des Springers an: ').upper()\n",
    "\n",
    "if '1' in pos or '8' in pos:\n",
    "    if 'A' in pos or 'H' in pos:\n",
    "        anz = 2\n",
    "    elif 'B' in pos or 'G' in pos:\n",
    "        anz = 3\n",
    "    else:\n",
    "        anz = 4\n",
    "elif '2' in pos or '7' in pos:\n",
    "    if 'A' in pos or 'H' in pos:\n",
    "        anz = 3\n",
    "    elif 'B' in pos or 'G' in pos:\n",
    "        anz = 4\n",
    "    else:\n",
    "        anz = 6\n",
    "else:\n",
    "    if 'A' in pos or 'H' in pos:\n",
    "        anz = 4\n",
    "    elif 'B' in pos or 'G' in pos:\n",
    "        anz = 6\n",
    "    else:\n",
    "        anz = 8\n",
    "\n",
    "print(f'Der Springer kann {anz} Felder anspringen.')"
   ]
  }
 ],
 "metadata": {
  "kernelspec": {
   "display_name": "Python 3 (ipykernel)",
   "language": "python",
   "name": "python3"
  },
  "language_info": {
   "codemirror_mode": {
    "name": "ipython",
    "version": 3
   },
   "file_extension": ".py",
   "mimetype": "text/x-python",
   "name": "python",
   "nbconvert_exporter": "python",
   "pygments_lexer": "ipython3",
   "version": "3.9.6"
  }
 },
 "nbformat": 4,
 "nbformat_minor": 4
}
