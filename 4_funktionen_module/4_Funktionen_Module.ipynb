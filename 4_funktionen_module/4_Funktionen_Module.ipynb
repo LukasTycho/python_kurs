{
 "cells": [
  {
   "cell_type": "markdown",
   "id": "expensive-exploration",
   "metadata": {},
   "source": [
    "# Funktionen\n",
    "Eine Funktion ist ein Block Code, der ausgeführt wird, wenn die Funktion aufgerufen wird. Wir haben bereits mehrere Funktionen kennen gelernt und verwendet, zum Beispiel die ``print()`` Funktion. Eine Funktion kann mehrere Parameter haben, die man beim Funktionsaufruf definieren kann, und ein Funktion kann Werte zurück geben.  \n",
    "Das ist ähnlich wie bei einer mathematischen Funktion: ``y = f(x)``. In diesem Fall ist ``f`` die Funktion, ``x`` der Parameter und ``y`` der Rückgabewert. ``y`` ist abhängig von ``x``, das heißt die Wahl des Parameters beeinflusst den Rückgabewert der Funktion.  \n",
    "Das ist beim Programmieren im Prinzip genauso. Nehmen wir wieder die ``print()`` Funktion als Beispiel: das Ergebnis der Funktion ist abhängig vom Parameter. Oder ein anderes Beispiel: ``y = random.randint(a, b)``. ``a`` und ``b`` sind bei dieser Funktion ja die Grenzen, in denen die Zufallszahl liegt. ``y`` ist der Rückgabewert der Funktion; beim Aufruf der Funktion wird ein Wert erzeugt und in ``y`` gespeichert. Dieser Wert ist abhängig von den Parametern ``a`` und ``b``.\n",
    "\n",
    "Wir können Funktionen aber natürlich auch selber schreiben. Dafür benötigen wird das keyword ``def`` wie *definition*."
   ]
  },
  {
   "cell_type": "code",
   "execution_count": 1,
   "id": "willing-guard",
   "metadata": {},
   "outputs": [
    {
     "name": "stdout",
     "output_type": "stream",
     "text": [
      "Hallo Welt 123\n"
     ]
    }
   ],
   "source": [
    "def hallo_welt():\n",
    "    print(\"Hallo Welt 123\")\n",
    "    \n",
    "hallo_welt()"
   ]
  },
  {
   "cell_type": "markdown",
   "id": "hundred-watson",
   "metadata": {},
   "source": [
    "Die Funktion besteht aus:\n",
    "- dem keyword ``def``\n",
    "- dem Namen der Funktion gefolgt von Klammern ``hallo_welt()``\n",
    "- einem Doppelpunkt ``:``\n",
    "- und einem eingerückten Codeblock\n",
    "\n",
    "In Zeile 4 wird die Funktion aufgerufen. In dem Moment springt Python quasi hoch zur Funktion und führt den Code-Block aus. Wenn die Funktion abgearbeitet ist, geht es nach dem Funktionsaufruf weiter. Da unser Beispielprogramm keine Zeile 5 hat, ist es dann zu Ende.\n",
    "\n",
    "Diese Beispielfunktion ist sehr einfach und macht nichts anderes, als einen bestimmten Text auszugeben. Prinzipiell kann eine Funktion aber beliebig kompliziert werden, je nach Bedarf. Oben haben wir von Parametern gesprochen. Diese werden in den Klammern hintern dem Funktionsnamen angegeben. Mithilfe dieser Parameter können wird Argumente an die Funktion liefern. Parameter und Argument bezeichnet in einer Funktion letzendlich dasselbe, allerdings ist der Parameter die Variable und das Argument der Wert, der in dieser Variable abgelegt wird. Deshalb definieren wird eine Funktion mit Parametern *(params)*, geben beim Aufruf der Funktion aber Argumente *(args)* an. Als Beispiel nehmen wir eine einfache Funktion, die die Summe von zwei Zahlen ausgibt:"
   ]
  },
  {
   "cell_type": "code",
   "execution_count": 5,
   "id": "indie-disclosure",
   "metadata": {},
   "outputs": [
    {
     "name": "stdout",
     "output_type": "stream",
     "text": [
      "8\n"
     ]
    }
   ],
   "source": [
    "def summe(a, b):  # a und b sind die Parameter\n",
    "    c = a + b  # diese Parameter können wir in der Funktion verwenden\n",
    "    print(c)\n",
    "    \n",
    "summe(3, 5)  # wir geben der Funktion Argumente"
   ]
  },
  {
   "cell_type": "markdown",
   "id": "occasional-database",
   "metadata": {},
   "source": [
    "Probier das mal selber aus, indem du eine Funktion schreibst, die das Produkt von zwei Zahlen bildet und ausgibt:"
   ]
  },
  {
   "cell_type": "code",
   "execution_count": null,
   "id": "broke-indication",
   "metadata": {},
   "outputs": [],
   "source": [
    "# deine Funktion hier"
   ]
  },
  {
   "cell_type": "markdown",
   "id": "given-concord",
   "metadata": {},
   "source": [
    "Funktionen können auch Werte zurück geben. Dafür brauchen wir das keyword ``return``. Beim Aufruf der Funktion wird diese dann als ihr Rückgabewert evaluiert und kann so in eine Variable gespeichert werden. Nehmen wir als Beispiel wieder die Summe:"
   ]
  },
  {
   "cell_type": "code",
   "execution_count": 7,
   "id": "tropical-booth",
   "metadata": {},
   "outputs": [
    {
     "name": "stdout",
     "output_type": "stream",
     "text": [
      "12\n"
     ]
    }
   ],
   "source": [
    "def summe(a, b):\n",
    "    c = a + b\n",
    "    return c  # der Wert in c wird zurück gegeben\n",
    "\n",
    "y = summe(7, 5)\n",
    "print(y)"
   ]
  },
  {
   "cell_type": "markdown",
   "id": "owned-shanghai",
   "metadata": {},
   "source": [
    "**Anmerkung:** Wir können in diesem Code ein paar Zuweisungen einsparen. (Rechen)Operationen können auch direkt bei ``return`` oder als Funktionsargument evaluiert werden:"
   ]
  },
  {
   "cell_type": "code",
   "execution_count": 9,
   "id": "threaded-rouge",
   "metadata": {},
   "outputs": [
    {
     "name": "stdout",
     "output_type": "stream",
     "text": [
      "12\n"
     ]
    }
   ],
   "source": [
    "def summe(a, b):\n",
    "    return a + b  # wir brauchen kein c\n",
    "\n",
    "print(summe(7, 5))  # und kein y"
   ]
  },
  {
   "cell_type": "markdown",
   "id": "lucky-miracle",
   "metadata": {},
   "source": [
    "### Mehr Argumente\n",
    "Bei der Summenfunktion haben wir zwei Parameter definiert. Daher müssen wir diese Funktion auch mit zwei Parametern aufrufen, nicht mehr und nicht weniger, ansonsten wird ein Fehler geworfen. Aber auch hier sagt uns die Fehlermeldung direkt, was wir falsch gemacht haben!"
   ]
  },
  {
   "cell_type": "code",
   "execution_count": 10,
   "id": "upper-puppy",
   "metadata": {},
   "outputs": [
    {
     "ename": "TypeError",
     "evalue": "summe() missing 1 required positional argument: 'b'",
     "output_type": "error",
     "traceback": [
      "\u001b[1;31m---------------------------------------------------------------------------\u001b[0m",
      "\u001b[1;31mTypeError\u001b[0m                                 Traceback (most recent call last)",
      "\u001b[1;32m<ipython-input-10-45de3fc33e90>\u001b[0m in \u001b[0;36m<module>\u001b[1;34m\u001b[0m\n\u001b[1;32m----> 1\u001b[1;33m \u001b[0msumme\u001b[0m\u001b[1;33m(\u001b[0m\u001b[1;36m7\u001b[0m\u001b[1;33m)\u001b[0m\u001b[1;33m\u001b[0m\u001b[1;33m\u001b[0m\u001b[0m\n\u001b[0m",
      "\u001b[1;31mTypeError\u001b[0m: summe() missing 1 required positional argument: 'b'"
     ]
    }
   ],
   "source": [
    "summe(7)"
   ]
  },
  {
   "cell_type": "code",
   "execution_count": 11,
   "id": "failing-lender",
   "metadata": {},
   "outputs": [
    {
     "ename": "TypeError",
     "evalue": "summe() takes 2 positional arguments but 3 were given",
     "output_type": "error",
     "traceback": [
      "\u001b[1;31m---------------------------------------------------------------------------\u001b[0m",
      "\u001b[1;31mTypeError\u001b[0m                                 Traceback (most recent call last)",
      "\u001b[1;32m<ipython-input-11-60e034c994a6>\u001b[0m in \u001b[0;36m<module>\u001b[1;34m\u001b[0m\n\u001b[1;32m----> 1\u001b[1;33m \u001b[0msumme\u001b[0m\u001b[1;33m(\u001b[0m\u001b[1;36m1\u001b[0m\u001b[1;33m,\u001b[0m \u001b[1;36m2\u001b[0m\u001b[1;33m,\u001b[0m \u001b[1;36m3\u001b[0m\u001b[1;33m)\u001b[0m\u001b[1;33m\u001b[0m\u001b[1;33m\u001b[0m\u001b[0m\n\u001b[0m",
      "\u001b[1;31mTypeError\u001b[0m: summe() takes 2 positional arguments but 3 were given"
     ]
    }
   ],
   "source": [
    "summe(1, 2, 3)"
   ]
  },
  {
   "cell_type": "markdown",
   "id": "handed-housing",
   "metadata": {},
   "source": [
    "##### \\*args\n",
    "Eine Summe kann aber ja auch aus mehr als nur zwei Summanden bestehen. Eine Möglichkeit, dies in einer Funktion umzusetzen, ist eine Liste als Argument zu verwenden. Funktionsargumente können grundsätzlich jeder beliebiger Datentyp sein, dies muss aber natürlich in der Funktion entsprechend berücksichtigt werden:"
   ]
  },
  {
   "cell_type": "code",
   "execution_count": 12,
   "id": "sensitive-badge",
   "metadata": {},
   "outputs": [
    {
     "name": "stdout",
     "output_type": "stream",
     "text": [
      "15\n"
     ]
    }
   ],
   "source": [
    "def summe(summanden):\n",
    "    y = 0\n",
    "    for x in summanden:\n",
    "        y += x\n",
    "    return y\n",
    "\n",
    "print(summe([1, 2, 3, 4, 5]))"
   ]
  },
  {
   "cell_type": "markdown",
   "id": "original-sacramento",
   "metadata": {},
   "source": [
    "Python gibt uns aber auch die Möglichkeit, die Anzahl der Argumente variabel zu lassen. Wenn ein Sternchen vor den Parameter gesetzt wird, werden mehrere Argumente als Tuple in den einen Parameter gespeichert:"
   ]
  },
  {
   "cell_type": "code",
   "execution_count": 15,
   "id": "blocked-disabled",
   "metadata": {},
   "outputs": [
    {
     "name": "stdout",
     "output_type": "stream",
     "text": [
      "<class 'tuple'>\n",
      "15\n"
     ]
    }
   ],
   "source": [
    "def summe(*summanden):\n",
    "    print(type(summanden))  # Datentyp von summanden\n",
    "    y = 0\n",
    "    for x in summanden:\n",
    "        y += x\n",
    "    return y\n",
    "\n",
    "print(summe(1, 2, 3, 4, 5))"
   ]
  },
  {
   "cell_type": "markdown",
   "id": "objective-demand",
   "metadata": {},
   "source": [
    "Die Funktionen ist nur mit einem Parameter definiert, in Zeile 8 haben wir aber 5 Argumente an die Funktion gegeben. Diese Argumente wurden in einen Tuple geschrieben, der in der Variable ``summanden`` gespeichert wurde.\n",
    "\n",
    "##### keyword arguments\n",
    "Bei den Funktionen mit mehreren Argumenten ist es so, dass die Reihenfolge der Argumente darüber entscheidet, in welchen Parameter sie geschrieben werden. Es handelt sich also um positionelle Argumente."
   ]
  },
  {
   "cell_type": "code",
   "execution_count": 17,
   "id": "handmade-detroit",
   "metadata": {},
   "outputs": [
    {
     "name": "stdout",
     "output_type": "stream",
     "text": [
      "Hallo\n",
      "42\n",
      "[1, 2, 3]\n"
     ]
    }
   ],
   "source": [
    "def order(var1, var2, var3):\n",
    "    print(var1)\n",
    "    print(var2)\n",
    "    print(var3)\n",
    "    \n",
    "order('Hallo', 42, [1, 2, 3])"
   ]
  },
  {
   "cell_type": "markdown",
   "id": "responsible-entrance",
   "metadata": {},
   "source": [
    "``'Hallo'`` wurde als erstes Argument übergeben und wurde dementsprechend in den ersten Parameter ``var1`` gespeichert. In Python gibt es allerdings zusätzlich die Möglichkeit, Argumente über den Namen des Parameters zu übergeben. Man spricht in dem Fall von *keyword arguments (kwargs)*."
   ]
  },
  {
   "cell_type": "code",
   "execution_count": 18,
   "id": "silver-mongolia",
   "metadata": {},
   "outputs": [
    {
     "name": "stdout",
     "output_type": "stream",
     "text": [
      "42\n",
      "[1, 2, 3]\n",
      "Hallo\n"
     ]
    }
   ],
   "source": [
    "def order(var1, var2, var3):\n",
    "    print(var1)\n",
    "    print(var2)\n",
    "    print(var3)\n",
    "    \n",
    "order(var3='Hallo', var1=42, var2=[1, 2, 3])"
   ]
  },
  {
   "cell_type": "markdown",
   "id": "enormous-vegetarian",
   "metadata": {},
   "source": [
    "In diesem Fall war ``'Hallo'`` wieder das erste Argument, wir haben aber festgelegt, dass es in ``var3`` gespeichert wird. Keyword Argumente sind also unabhängig von der Reihenfolge. Keyword und positionelle Argumente können auch gemischt werden, dabei ist allerdings zu beachten, dass alle positionellen Argumente immer vor den keyword Argumenten zugewiesen werden müssen."
   ]
  },
  {
   "cell_type": "code",
   "execution_count": 20,
   "id": "worse-allowance",
   "metadata": {},
   "outputs": [
    {
     "name": "stdout",
     "output_type": "stream",
     "text": [
      "Hallo\n",
      "[1, 2, 3]\n",
      "42\n"
     ]
    }
   ],
   "source": [
    "def order(var1, var2, var3):\n",
    "    print(var1)\n",
    "    print(var2)\n",
    "    print(var3)\n",
    "    \n",
    "order('Hallo', var3=42, var2=[1, 2, 3])"
   ]
  },
  {
   "cell_type": "markdown",
   "id": "expected-reply",
   "metadata": {},
   "source": [
    "``'Hallo'`` wurde als erstes positionelle Argument im ersten Parameter gespeichert, die darauf folgenden keyword Argumente wurden in den angegeben Parametern gespeichert.\n",
    "\n",
    "##### \\*\\*kwargs\n",
    "Auch bei keyword Argumenten kann es sein, dass wir eine variable Anzahl Argumente verarbeiten wollen. Dafür wird ein doppeltes Sternchen vor den Parameter gesetzt. Die übergeben Argumente werden dann als Dictionary gespeichert."
   ]
  },
  {
   "cell_type": "code",
   "execution_count": 24,
   "id": "nominated-message",
   "metadata": {},
   "outputs": [
    {
     "name": "stdout",
     "output_type": "stream",
     "text": [
      "fname - Max\n",
      "lname - Mustermann\n",
      "year - 11\n"
     ]
    }
   ],
   "source": [
    "def new_student(**student):\n",
    "    for x in student:\n",
    "        print(x, '-', student[x])\n",
    "        \n",
    "new_student(fname='Max', lname='Mustermann', year=11)"
   ]
  },
  {
   "cell_type": "markdown",
   "id": "offensive-ballet",
   "metadata": {},
   "source": [
    "Jetzt haben wir 4 verschiedene Argumenttypen kennen gelernt, die alle in einer Funktion gemeinsam verwendet werden können. Dabei ist folgende Reihenfolge zu beachten:  \n",
    "``function_name(args, *args, kwargs, **kwargs)``  \n",
    "In der Regel braucht man aber nicht alle vier Typen auf einmal.\n",
    "\n",
    "### Default-Werte für Parameter\n",
    "Den Parametern einer Funktion können Default-Werte zugewiesen werden. Diese Werte werden verwendet, wenn beim Funktionsaufruf kein entsprechendes Argument übergeben wird. Dafür wird der Default-Wert in der Funktionsdefinition dem Parameter zugewiesen."
   ]
  },
  {
   "cell_type": "code",
   "execution_count": 25,
   "id": "stupid-watch",
   "metadata": {},
   "outputs": [
    {
     "name": "stdout",
     "output_type": "stream",
     "text": [
      "Der Schüler Max Mustermann ist in Klasse 11.\n",
      "Der Schüler Peter Müller ist in Klasse 9.\n"
     ]
    }
   ],
   "source": [
    "def new_student(fname, lname, year=11):\n",
    "    print(f\"Der Schüler {fname} {lname} ist in Klasse {year}.\")\n",
    "\n",
    "new_student('Max', 'Mustermann')\n",
    "new_student('Peter', 'Müller', 9)"
   ]
  },
  {
   "cell_type": "markdown",
   "id": "optional-friday",
   "metadata": {},
   "source": [
    "Beim ersten Funktionsaufruf in Zeile 4 wurden nur zwei Argumente übergeben, für ``year`` wurde der Default-Wert ``11`` verwendet; beim zweiten Funktionsaufruf in Zeile 5 wurde als drittes Argument ``9`` übergeben, dieses Argument hat den Default-Wert für ``year`` überschrieben und wurde stattdessen verwendet. In diesem Beispiel wurden die Argumente positionell verwendet, das geht aber genauso mit keyword Argumenten."
   ]
  },
  {
   "cell_type": "code",
   "execution_count": 26,
   "id": "smaller-bargain",
   "metadata": {},
   "outputs": [
    {
     "name": "stdout",
     "output_type": "stream",
     "text": [
      "Der Schüler Max Mustermann ist in Klasse 7.\n"
     ]
    }
   ],
   "source": [
    "new_student(lname='Mustermann', fname='Max', year=7)"
   ]
  },
  {
   "cell_type": "markdown",
   "id": "measured-bosnia",
   "metadata": {},
   "source": [
    "### Mehr Rückgabewerte\n",
    "Wir haben bei Dictionaries die Funktion ``.items()`` kennen gelernt, die zwei Werte zurück gibt: den key und den value. Natürlich können wir auch bei eigenen Funktionen mehrere Rückgabewerte haben. Dafür müssen einfach alle Rückgabewerte mit Kommata getrennt hinter dem ``return`` keyword angegeben werden. Diese Rückgabewerte können beim Funktionsaufruf entweder als Tuple in eine einzelne Variable geschrieben werden, oder direkt in mehrere Variablen, die wiederum mit Kommata getrennt geschrieben werden. Dabei muss die Anzahl der Variablen mit der Anzahl der Rückgabewerte übereinstimmen. Es ist zum Beispiel nicht möglich, nur zwei von vier Rückgabewerten zuzuweisen."
   ]
  },
  {
   "cell_type": "code",
   "execution_count": 3,
   "id": "killing-romance",
   "metadata": {},
   "outputs": [
    {
     "name": "stdout",
     "output_type": "stream",
     "text": [
      "(1, 2, 3, 4)\n",
      "1\n",
      "2\n",
      "3\n",
      "4\n"
     ]
    }
   ],
   "source": [
    "def mr():  # Funktion mit mehreren return values\n",
    "    return 1, 2, 3, 4\n",
    "\n",
    "t = mr()  # alle return values als Tuple\n",
    "print(t)\n",
    "\n",
    "a, b, c, d = mr()  # alle return values einzeln\n",
    "print(a)\n",
    "print(b)\n",
    "print(c)\n",
    "print(d)"
   ]
  },
  {
   "cell_type": "markdown",
   "id": "separate-diversity",
   "metadata": {},
   "source": [
    "### Übungen\n",
    "##### Volumen eines Quaders\n",
    "Schreibe eine Funktion, die das Volumen eines Quaders berechnet. Die Parameter sind Länge, Breite und Höhe des Quaders, der Rückgabewert ist das Volumen."
   ]
  },
  {
   "cell_type": "code",
   "execution_count": 10,
   "id": "productive-consultancy",
   "metadata": {},
   "outputs": [],
   "source": [
    "# hier deine Funktion"
   ]
  },
  {
   "cell_type": "markdown",
   "id": "artistic-pakistan",
   "metadata": {},
   "source": [
    "##### BMI\n",
    "Der Body-Mass-Index berechnet sich aus der Körpergröße in Metern und dem Gewicht in Kilogramm nach\n",
    "\n",
    "$\\text{BMI} = \\frac{\\text{Gewicht}}{\\text{Größe}^2}$ .\n",
    "\n",
    "Schreibe eine Funktion, die Gewicht und Größe einer Person entgegen nimmt und den BMI zurück gibt."
   ]
  },
  {
   "cell_type": "code",
   "execution_count": null,
   "id": "fatty-antenna",
   "metadata": {},
   "outputs": [],
   "source": [
    "# deine Funktion hier"
   ]
  },
  {
   "cell_type": "markdown",
   "id": "professional-cinema",
   "metadata": {},
   "source": [
    "##### Kleiner Gauß\n",
    "Schreibe eine Funktion, die alle Zahlen von ``0`` bis ``x`` addiert und das Ergebnis zurück gibt. ``x`` ist dabei ein Funktionsparameter."
   ]
  },
  {
   "cell_type": "code",
   "execution_count": null,
   "id": "still-sewing",
   "metadata": {},
   "outputs": [],
   "source": [
    "# deine Funktion hier"
   ]
  },
  {
   "cell_type": "markdown",
   "id": "fifth-wagner",
   "metadata": {},
   "source": [
    "# Module\n",
    "Module sind Sammlungen von Funktionen (und Klassen). Es gibt diverse Basis-Module in Python, zum Beispiel ``random`` oder ``math``, und es gibt diverse third-party Module, zum Beispiel ``matplotlib``, die man separat via ``pip install {modul}`` installieren kann. Es gibt in Python für fast alles ein passendes Modul. So gibt es zum Beispiel Module, mit denen Philips Hue Lampen gesteuert werden können, oder mit denen LEGO Züge programmiert werden können. Um ein Modul zu verwenden, muss dieses mit dem ``import`` Statement geladen werden. Mit ``as`` kann dem Modul ein neuer Name zugwiesen werden, unter dem es dann angesprochen werden kann. Mit der Punktnotation kann dann auf die Funktionen des Moduls zugegriffen werden."
   ]
  },
  {
   "cell_type": "code",
   "execution_count": 37,
   "id": "distant-start",
   "metadata": {},
   "outputs": [
    {
     "name": "stdout",
     "output_type": "stream",
     "text": [
      "0.6197894503002163\n"
     ]
    }
   ],
   "source": [
    "import random  # import Statement\n",
    "\n",
    "print(random.random())  # Punktnotation um auf Funktion zuzugreifen"
   ]
  },
  {
   "cell_type": "code",
   "execution_count": 38,
   "id": "nonprofit-treasurer",
   "metadata": {},
   "outputs": [
    {
     "name": "stdout",
     "output_type": "stream",
     "text": [
      "0.41514254091930436\n"
     ]
    }
   ],
   "source": [
    "import random as rnd  # import as, bei random aber unüblich\n",
    "\n",
    "print(rnd.random())  # das random Modul wird jetzt mit dem Namen 'rnd' aufgerufen"
   ]
  },
  {
   "cell_type": "markdown",
   "id": "lesser-ratio",
   "metadata": {},
   "source": [
    "Mit dem ``from`` keyword ist es auch möglich, nur bestimmte Teile eines Moduls zu importieren. Die Syntax dafür ist: `from {modul} import {funktion}`"
   ]
  },
  {
   "cell_type": "code",
   "execution_count": 44,
   "id": "respected-paraguay",
   "metadata": {},
   "outputs": [
    {
     "name": "stdout",
     "output_type": "stream",
     "text": [
      "2\n"
     ]
    }
   ],
   "source": [
    "from random import randint  # importiere nur randint() aus dem Modul random\n",
    "\n",
    "print(randint(1, 6))  # da wir randint() direkt importiert haben, können wir auch direkt darauf zugreifen"
   ]
  },
  {
   "cell_type": "markdown",
   "id": "medieval-latin",
   "metadata": {},
   "source": [
    "Wir können Module auch selber erstellen. Module sind einfache Python-Dateien (.py), die die gewünschten Funktionen enthalten. Zur Verdeutlichung habe ich mit ``bsp_module.py`` ein Modul mit drei einfachen Funktionen erstellt, welches wir jetzt importieren und verwenden können. Vorraussetzung dafür ist, dass Python das Modul findet. Die einfachste Möglichkeit dafür ist, die Datei im selben Ordner abzulegen, in dem man aktuell programmiert. Alternativ gibt es unter Windows eine PATH-Variable, in der man einen oder mehrere Dateipfade angeben kann, in denen Python nach Modulen sucht."
   ]
  },
  {
   "cell_type": "code",
   "execution_count": 1,
   "id": "discrete-renaissance",
   "metadata": {},
   "outputs": [
    {
     "name": "stdout",
     "output_type": "stream",
     "text": [
      "Hello World!\n",
      "Würfel: 6\n",
      "30\n"
     ]
    }
   ],
   "source": [
    "import bsp_modul as bm\n",
    "\n",
    "bm.hello_world()\n",
    "print('Würfel:', bm.wuerfel())\n",
    "print(bm.summe(1, 2, 3, 7, 8, 9))"
   ]
  },
  {
   "cell_type": "markdown",
   "id": "breeding-pottery",
   "metadata": {},
   "source": [
    "# Docstrings\n",
    "Es ist immer sinnvoll, allen Code, den man schreibt, zu dokumentieren. Dies wird meistens mit Kommentaren gemacht. Für Funktionen und Module gibt es dafür Docstrings. Diese stehen ganz am Anfang von Modulen und Funktionen und werden als Multiline-String mit drei Anführungszeichen geschrieben. Diese Docstrings werden automatisch das ``__doc__`` Attribut einer Funktion bzw. eines Moduls und können zum Beispiel mit der ``help()`` Funktion ausgelesen werden."
   ]
  },
  {
   "cell_type": "code",
   "execution_count": 2,
   "id": "wicked-tuner",
   "metadata": {},
   "outputs": [
    {
     "name": "stdout",
     "output_type": "stream",
     "text": [
      "Help on function summe in module __main__:\n",
      "\n",
      "summe(a, b)\n",
      "    summe(a, b) -> a + b\n",
      "\n",
      "---------------------\n",
      "summe(a, b) -> a + b\n"
     ]
    }
   ],
   "source": [
    "def summe(a, b):\n",
    "    \"\"\"summe(a, b) -> a + b\"\"\"\n",
    "    return a + b\n",
    "\n",
    "help(summe)  # die help-Funktion gibt unter anderem den Docstring aus\n",
    "print('---------------------')\n",
    "print(summe.__doc__)  # der Docstring kann auch direkt aufgerufen werden"
   ]
  },
  {
   "cell_type": "markdown",
   "id": "spoken-specialist",
   "metadata": {},
   "source": [
    "Auch das Beispiel Modul, welches wir oben verwendet haben, liefert zusätzliche Informationen über den Docstring:"
   ]
  },
  {
   "cell_type": "code",
   "execution_count": 2,
   "id": "third-universal",
   "metadata": {},
   "outputs": [
    {
     "name": "stdout",
     "output_type": "stream",
     "text": [
      "Help on module bsp_modul:\n",
      "\n",
      "NAME\n",
      "    bsp_modul\n",
      "\n",
      "DESCRIPTION\n",
      "    module example\n",
      "    Author: Lukas Mendelsohn\n",
      "    \n",
      "    This module contains three functions. Its only use is to be an example of what a module might look like.\n",
      "    \n",
      "    Functions:\n",
      "    hello_world(): prints \"Hello World\"\n",
      "    wuerfel(): rolls a six sided dice\n",
      "    summe(): calculates the sum of all args\n",
      "\n",
      "FUNCTIONS\n",
      "    hello_world()\n",
      "        Print 'Hello World!'\n",
      "    \n",
      "    summe(*args)\n",
      "        Calculate the sum of all arguments.\n",
      "    \n",
      "    wuerfel()\n",
      "        Roll a digital dice.\n",
      "        Returns a random value between 1 and 6.\n",
      "\n",
      "FILE\n",
      "    c:\\users\\micro\\onedrive\\studium\\python kurs\\4_funktionen_module\\bsp_modul.py\n",
      "\n",
      "\n"
     ]
    }
   ],
   "source": [
    "help(bm)"
   ]
  },
  {
   "cell_type": "markdown",
   "id": "every-mauritius",
   "metadata": {},
   "source": [
    "Auch Python-Basis-Funktionen haben Docstrings. Docstrings sollten immer angeben, was die Funktion macht, und Informationen zu allen Parametern und Rückgabewerten enthalten. Für Docstrings gibt es auch einen Styleguide, der vorschreibt, wie sie aussehen sollten. Der Styleguide ist [PEP 257](https://www.python.org/dev/peps/pep-0257/)."
   ]
  },
  {
   "cell_type": "code",
   "execution_count": 5,
   "id": "victorian-perth",
   "metadata": {},
   "outputs": [
    {
     "name": "stdout",
     "output_type": "stream",
     "text": [
      "Help on built-in function print in module builtins:\n",
      "\n",
      "print(...)\n",
      "    print(value, ..., sep=' ', end='\\n', file=sys.stdout, flush=False)\n",
      "    \n",
      "    Prints the values to a stream, or to sys.stdout by default.\n",
      "    Optional keyword arguments:\n",
      "    file:  a file-like object (stream); defaults to the current sys.stdout.\n",
      "    sep:   string inserted between values, default a space.\n",
      "    end:   string appended after the last value, default a newline.\n",
      "    flush: whether to forcibly flush the stream.\n",
      "\n"
     ]
    }
   ],
   "source": [
    "help(print)"
   ]
  }
 ],
 "metadata": {
  "kernelspec": {
   "display_name": "Python 3 (ipykernel)",
   "language": "python",
   "name": "python3"
  },
  "language_info": {
   "codemirror_mode": {
    "name": "ipython",
    "version": 3
   },
   "file_extension": ".py",
   "mimetype": "text/x-python",
   "name": "python",
   "nbconvert_exporter": "python",
   "pygments_lexer": "ipython3",
   "version": "3.9.6"
  }
 },
 "nbformat": 4,
 "nbformat_minor": 5
}
