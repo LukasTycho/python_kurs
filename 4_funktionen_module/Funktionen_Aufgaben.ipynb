{
 "cells": [
  {
   "cell_type": "markdown",
   "metadata": {},
   "source": [
    "### Übungen"
   ]
  },
  {
   "cell_type": "markdown",
   "metadata": {},
   "source": [
    "1. Schreibe eine Funktion, die das Produkt von zwei Zahlen zurück gibt."
   ]
  },
  {
   "cell_type": "code",
   "execution_count": 1,
   "metadata": {},
   "outputs": [],
   "source": [
    "# deine Funktion hier"
   ]
  },
  {
   "cell_type": "markdown",
   "metadata": {},
   "source": [
    "2. Gib den zwei Zahlen aus der Funktion sinnvolle Standardwerte."
   ]
  },
  {
   "cell_type": "markdown",
   "metadata": {},
   "source": [
    "3. Schreibe eine Funktion, die das Volumen eines Quaders berechnet. Die Parameter sind Länge, Breite und Höhe des Quaders, der Rückgabewert ist das Volumen."
   ]
  },
  {
   "cell_type": "code",
   "execution_count": null,
   "metadata": {},
   "outputs": [],
   "source": [
    "# deine Funktion hier"
   ]
  },
  {
   "cell_type": "markdown",
   "metadata": {},
   "source": [
    "4. Der Body-Mass-Index berechnet sich aus der Körpergröße in Metern und dem Gewicht in Kilogramm nach\n",
    "\n",
    "   $\\text{BMI} = \\frac{\\text{Gewicht}}{\\text{Größe}^2}$ .\n",
    "\n",
    "   Schreibe eine Funktion, die Gewicht und Größe einer Person entgegen nimmt und den BMI zurück gibt."
   ]
  },
  {
   "cell_type": "code",
   "execution_count": null,
   "metadata": {},
   "outputs": [],
   "source": [
    "# deine Funktion hier"
   ]
  },
  {
   "cell_type": "markdown",
   "metadata": {},
   "source": [
    "5. Schreibe eine Funktion, die alle Zahlen von ``0`` bis ``x`` addiert und das Ergebnis zurück gibt. ``x`` ist dabei ein Funktionsparameter."
   ]
  },
  {
   "cell_type": "code",
   "execution_count": null,
   "metadata": {},
   "outputs": [],
   "source": [
    "# deine Funktion hier"
   ]
  },
  {
   "cell_type": "markdown",
   "metadata": {},
   "source": [
    "### Fakultät v2\n",
    "Schreibe eine Funktion, die für eine Zahl deren Fakultät ausrechnet. Verwende **nicht** den loop von letzter Woche, sondern überlege, wie sich dieses Problem rekursiv lösen lässt.\n",
    "\n",
    "\n",
    "##### Rekursion\n",
    "> Als Rekursion (lateinisch recurrere ‚zurücklaufen‘) bezeichnet man den abstrakten Vorgang, dass Regeln auf ein Produkt, das sie selbst erzeugt haben, von neuem angewandt werden. [[Wikipedia](https://de.wikipedia.org/wiki/Rekursion)]\n",
    "\n",
    "Im Programmieren heißt das, dass eine Funktion sich selbst aufruft. Das kann zu endlosen Aufrufen führen, sollte daher also, genauso wie loops, gut durchdacht werden. Beispiel:"
   ]
  },
  {
   "cell_type": "code",
   "execution_count": 2,
   "metadata": {},
   "outputs": [
    {
     "name": "stdout",
     "output_type": "stream",
     "text": [
      "1\n",
      "2\n",
      "3\n",
      "4\n",
      "5\n",
      "6\n",
      "7\n",
      "8\n",
      "9\n",
      "10\n"
     ]
    }
   ],
   "source": [
    "# print numbers from 1 to N\n",
    "\n",
    "def print_nums(N):\n",
    "    if N > 1:\n",
    "        print_nums(N-1)\n",
    "    print(N)\n",
    "    \n",
    "print_nums(10)"
   ]
  },
  {
   "cell_type": "markdown",
   "metadata": {},
   "source": [
    "Diese Funktion ruft sich selbst auf mit N-1, und erst wenn N = 1 ist, wird der Wert ausgegeben.\n",
    "\n",
    "<img src=\"Rekursion_Bsp.png\" alt=\"Rekursion\" style=\"width:45%;\"/>\n",
    "\n",
    "Das ist auch mit einer Schleife möglich, und in diesem Beispiel wäre eine Schleife sogar kürzer. Die Berechnung der Fakultät lässt sich mit Rekursion allerdings mit weniger Code lösen als mit einer Schleife."
   ]
  },
  {
   "cell_type": "code",
   "execution_count": 1,
   "metadata": {},
   "outputs": [
    {
     "name": "stdout",
     "output_type": "stream",
     "text": [
      "1\n"
     ]
    }
   ],
   "source": [
    "# dein Code hier\n",
    "# 5! = 5 * 4 * 3 * 2 * 1\n",
    "# 5! = 5 * 4!\n",
    "\n",
    "def faktorial(n):\n",
    "    if n <= 1:\n",
    "        return 1\n",
    "    else:\n",
    "        return n * faktorial(n-1)\n",
    " \n",
    "print(faktorial(-5))"
   ]
  },
  {
   "cell_type": "markdown",
   "metadata": {},
   "source": [
    "### Zahlenspaß\n",
    "Schreibe ein Programm, das das Matherätsel und das Größer-Kleiner-Spiel von letzter Woche starten kann. Das Programm soll den Benutzer fragen, was er spielen möchte, und dann das entsprechende Programm aufrufen. Schreibe dafür jeweils eine Funktion für das Matherätsel und das Größer-Kleiner-Spiel."
   ]
  },
  {
   "cell_type": "code",
   "execution_count": null,
   "metadata": {},
   "outputs": [],
   "source": [
    "# dein Code hier"
   ]
  },
  {
   "cell_type": "markdown",
   "metadata": {},
   "source": [
    "### Kettenrechnen\n",
    "Schreibe eine Funktion, die 5 Werte entgegen nehmen kann und diese verrechnet. Diese 5 Werte sollen sein:\n",
    "- Ausgangswert\n",
    "- additive Konstante\n",
    "- subtraktive Konstante\n",
    "- Faktor\n",
    "- Divisor\n",
    "\n",
    "Die Rechnung sieht also folgendermaßen aus:  \n",
    "(Ausgangswert + additive Konstante - subtraktive Konstante) * Faktor / Divisor = Ergebnis  \n",
    "Das Ergebnis soll von der Funktion zurückgegeben werden.\n",
    "\n",
    "Es soll möglich sein, weniger als 5 Werte zu übergeben. Dies ist auf verschiedene Weisen machbar.\n",
    "\n",
    "> **Tipp:** Denke an die neutralen Elemente der Rechenoperationen:  \n",
    "> ``x + 0 = x``  \n",
    "> ``x - 0 = x``  \n",
    "> ``x * 1 = x``  \n",
    "> ``x / 1 = x``"
   ]
  },
  {
   "cell_type": "code",
   "execution_count": null,
   "metadata": {},
   "outputs": [],
   "source": [
    "# dein Code hier"
   ]
  },
  {
   "cell_type": "markdown",
   "metadata": {},
   "source": [
    "### Primzahlen\n",
    "Primzahlen sind Zahlen, die nur durch 1 und sich selbst teilbar sind. Schreibe eine Funktion ``find_prime_numbers()``, die in einem bestimmten Bereich alle Primzahlen findet und ausgibt. Diese Funktion soll als Argumente die Unter- und Obergrenze des Bereichs entgegen nehmen. Schreibe ebenfalls eine Hilfsfunktion ``is_prime_number()``, die für eine bestimmte Zahl prüft, ob es sich dabei um eine Primzahl handelt und dementsprechend ``True`` oder ``False`` zurück gibt. Die Funktion ``find_prime_numbers()`` soll die Funktion ``is_prime_number()`` verwenden."
   ]
  },
  {
   "cell_type": "code",
   "execution_count": null,
   "metadata": {},
   "outputs": [],
   "source": [
    "# dein Code hier"
   ]
  }
 ],
 "metadata": {
  "kernelspec": {
   "display_name": "Python 3 (ipykernel)",
   "language": "python",
   "name": "python3"
  },
  "language_info": {
   "codemirror_mode": {
    "name": "ipython",
    "version": 3
   },
   "file_extension": ".py",
   "mimetype": "text/x-python",
   "name": "python",
   "nbconvert_exporter": "python",
   "pygments_lexer": "ipython3",
   "version": "3.9.6"
  }
 },
 "nbformat": 4,
 "nbformat_minor": 4
}
