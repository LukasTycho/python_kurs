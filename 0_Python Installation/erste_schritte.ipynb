{
 "cells": [
  {
   "cell_type": "markdown",
   "id": "wound-hospital",
   "metadata": {},
   "source": [
    "# Python Einführung\n",
    "In Jupyter Notebooks kann man sowohl Text im [markdown-Format](https://www.markdownguide.org/basic-syntax/) als auch Python-Code schreiben. Markdown bietet viele Möglichkeiten zur Textformatierung wie Listen, Tabellen und Bilder.\n",
    "Zur Einführung kommen jetzt ein paar Zeilen Code."
   ]
  },
  {
   "cell_type": "code",
   "execution_count": 1,
   "id": "powerful-james",
   "metadata": {},
   "outputs": [],
   "source": [
    "# Kommentare werden in Python mit einem 'hash' (#) geschrieben.\n",
    "# Kommentare werden nicht als Code ausgeführt."
   ]
  },
  {
   "cell_type": "markdown",
   "id": "8e0c217b",
   "metadata": {},
   "source": [
    "### Variablen\n",
    "Alle Daten werden in Variablen gespeichert. Eine Variable ist im Prinzip nichts anderes als ein einfacher Name für beliebig komplexe Daten. Dieser Name darf nicht mit einer Zahl beginnen, kann aber sonst beliebig gewählt werden. Der Name darf auch Zahlen enthalten. Sinnvoll ist ein Name, der den Inhalt der Variablen beschreibt, z.B. ``masse_kg`` für eine Masse in Kilogramm. In Python ist es üblich, die Variablennamen klein zu schreiben und mehrere Wörter im Name durch einen Unterstrich zu trennen, z.B. ``masse_tomaten_kg``. Die Zuweisung von Daten zu einer Variablen geschieht mit einem Gleichheitszeichen."
   ]
  },
  {
   "cell_type": "code",
   "execution_count": 1,
   "id": "ed325493",
   "metadata": {},
   "outputs": [],
   "source": [
    "masse_tomaten_kg = 1.25"
   ]
  },
  {
   "cell_type": "markdown",
   "id": "46d4fd5a",
   "metadata": {},
   "source": [
    "In der Variablen ``masse_tomaten_kg`` ist jetzt der Wert ``1.25`` gespeichert. Wenn wir nochmal auf den Wert zugreifen müssen, können wir dies über die Variable machen. Falls sich der Wert ändert, weil wir ein paar Tomaten gegessen haben, können wir der Variable einfach den neuen Wert zuweisen. Dieser neue Wert wird dann überall dort verwendet, wo wir auf die Variable zugreifen."
   ]
  },
  {
   "cell_type": "code",
   "execution_count": 2,
   "id": "1797c24b",
   "metadata": {},
   "outputs": [
    {
     "name": "stdout",
     "output_type": "stream",
     "text": [
      "1.25\n",
      "0.8\n"
     ]
    }
   ],
   "source": [
    "print(masse_tomaten_kg)\n",
    "masse_tomaten_kg = 0.8\n",
    "print(masse_tomaten_kg)"
   ]
  },
  {
   "cell_type": "markdown",
   "id": "applicable-customs",
   "metadata": {},
   "source": [
    "###  primitive Datentypen\n",
    "Daten werden Datentypen zugeordnet. Der Datentyp bestimmt mögliche Werte und Eigenschaften der Daten. Jede Variable hat einen Datentyp. Wenn einer Variable ein neuer Wert zugewiesen wird, kann sich auch der Datentyp ändern.\n",
    "\n",
    "In Python gibt es drei primitive Datentypen, die als Variablen gespeichert werden können.\n",
    "- integer numbers (int)\n",
    "- floating point numbers (float)\n",
    "- string\n",
    "\n",
    "Zwei dieser drei Typen sind numerisch, können also zum Rechnen verwendet werden. Der Unterschied ist, dass ints immer ganzzahlig sind und floats Kommata enthalten (kann auch .0 sein). Strings werden durch einfache oder doppelte Anführungszeichen gekennzeichnet."
   ]
  },
  {
   "cell_type": "code",
   "execution_count": 2,
   "id": "incredible-integration",
   "metadata": {},
   "outputs": [],
   "source": [
    "# int\n",
    "a = 5\n",
    "\n",
    "# float\n",
    "b = 3.14\n",
    "c = 42.0  # hat zwar keine Nachkommestellen, aufgrund des Kommas ist es aber ein float\n",
    "\n",
    "# string\n",
    "s = \"Hallo Welt\"\n",
    "t = 'Hallo Wilhelmshaven'\n",
    "\n",
    "text = 'Jonas\\' sagt \"Hallo\"'"
   ]
  },
  {
   "cell_type": "markdown",
   "id": "lesser-given",
   "metadata": {},
   "source": [
    "### ``print()``\n",
    "Mit der `print()`-Funktion kann Text auf der Konsole ausgegeben werden. Als Argument muss einfach der Text übergeben werden. Man kann auch mehrere Argumente übergeben, die dann mit einem Leerzeichen als separator nacheinander ausgegeben werden."
   ]
  },
  {
   "cell_type": "code",
   "execution_count": 5,
   "id": "electrical-final",
   "metadata": {},
   "outputs": [
    {
     "name": "stdout",
     "output_type": "stream",
     "text": [
      "Hallo Welt Hallo Wilhelmshaven3.14\n",
      "Hallo Welt Hallo Wilhelmshaven 3.14\n"
     ]
    }
   ],
   "source": [
    "# Verketten von Strings\n",
    "print(\"Hallo Welt \" + t + str(b))\n",
    "\n",
    "# mit Komma getrennt\n",
    "print(\"Hallo Welt\", t, b)"
   ]
  },
  {
   "cell_type": "markdown",
   "id": "dietary-poland",
   "metadata": {},
   "source": [
    "### ``input()``\n",
    "Mit der `input()`-Funktion kann Text vom Benutzer abgefragt und in eine Variable gespeichert werden. Der Rückgabewert von `input()` ist immer ein String, auch wenn nur Zahlen eingegeben werden. Wenn für Rechnungen ein Zahlenwert benötigt wird, kann der String einfach umgewandelt werden. Dies kann aber zu Fehlern führen, wenn etwas anderes als Zahlen eingegeben wird."
   ]
  },
  {
   "cell_type": "code",
   "execution_count": 7,
   "id": "breeding-emergency",
   "metadata": {},
   "outputs": [
    {
     "name": "stdout",
     "output_type": "stream",
     "text": [
      "Bitte gib etwas ein: Hallo\n",
      "Bitte gib eine Zahl ein: 4\n",
      "Hallo 4\n"
     ]
    }
   ],
   "source": [
    "user_var = input(\"Bitte gib etwas ein: \")\n",
    "zahl = float(input(\"Bitte gib eine Zahl ein: \"))\n",
    "\n",
    "print(user_var, zahl)"
   ]
  },
  {
   "cell_type": "markdown",
   "id": "periodic-filling",
   "metadata": {},
   "source": [
    "### Mathematische Operatoren\n",
    "In Python können numerische Werte nach den Regeln der Mathematik miteinander verrechnet werden. Dafür werden diese Rechenzeichen verwendet:\n",
    "\n",
    "\n",
    "| Operator | Rechenart |\n",
    "| --- | --- |\n",
    "| + | Addition |\n",
    "| - | Subtraktion |\n",
    "| * | Multiplikation |\n",
    "| / | Division |\n",
    "| // | Ganzzahldivision |\n",
    "| ** | Potenz |\n",
    "| ( ) | Klammern |\n",
    "| % | modulo |\n",
    "\n",
    "Bei den meisten Rechenoperationen gilt: Wenn alle verrechneten Werte Integers sind, ist das Ergebnis auch ein Integer. Wenn mindestens einer der verrechneten Werte ein Float ist, dann ist das Ergebnis auch ein Float.  \n",
    "Ausnahme: Bei der Division ist das Ergebnis **immer** ein Float, auch wenn Dividend und Divisor beide Integers sind.\n",
    "\n",
    "Die Ganzzahldivision hat als Ergebnis immer eine ganze Zahl. Wenn die Division eine Kommazahl ergibt, wird diese abgerundet, unabhängig von den Nachkommastellen! Aber auch hier gilt: Wenn der Dividend oder der Divisor (oder beide) Floats sind, ist das Ergebnis auch ein Float; nur wenn beide Integers sind, ist das Ergebnis auch ein Integer."
   ]
  },
  {
   "cell_type": "code",
   "execution_count": 3,
   "id": "chief-lingerie",
   "metadata": {},
   "outputs": [
    {
     "data": {
      "text/plain": [
       "4"
      ]
     },
     "execution_count": 3,
     "metadata": {},
     "output_type": "execute_result"
    }
   ],
   "source": [
    "14 // 3"
   ]
  },
  {
   "cell_type": "markdown",
   "id": "regular-reform",
   "metadata": {},
   "source": [
    "Der ``modulo``-Operator gibt den Rest bei einer Division zurück. Beispiel:"
   ]
  },
  {
   "cell_type": "code",
   "execution_count": 105,
   "id": "informal-michigan",
   "metadata": {},
   "outputs": [
    {
     "data": {
      "text/plain": [
       "2"
      ]
     },
     "execution_count": 105,
     "metadata": {},
     "output_type": "execute_result"
    }
   ],
   "source": [
    "14 % 3"
   ]
  },
  {
   "cell_type": "markdown",
   "id": "prerequisite-walker",
   "metadata": {},
   "source": [
    "Wenn man 14 durch 3 teilt, erhält man 4 mit einem Rest von 2. Dieser Rest wird ausgegeben. Damit kann auch geprüft werden, ob eine Zahl durch eine andere teilbar ist: der Rest muss dann 0 sein.\n",
    "\n",
    "Wenn eine numerische Variable mit einer Zahl verrechnet werden soll und das Ergebnis wieder in dieselbe Variable gespeichert werden soll, kann die Rechenoperation mit einem Gleichheitszeichen verknüpft werden:"
   ]
  },
  {
   "cell_type": "code",
   "execution_count": 89,
   "id": "exposed-inflation",
   "metadata": {
    "scrolled": true
   },
   "outputs": [
    {
     "name": "stdout",
     "output_type": "stream",
     "text": [
      "a = 7\n",
      "b = 7\n"
     ]
    }
   ],
   "source": [
    "a = 2\n",
    "a = a + 5  # zu a wird 5 addiert und wieder in a gespeichert\n",
    "print(\"a =\", a)\n",
    "\n",
    "b = 2\n",
    "b += 5  # dies ist identisch mit b = b + 5\n",
    "print(\"b =\", b)"
   ]
  },
  {
   "cell_type": "markdown",
   "id": "aboriginal-central",
   "metadata": {},
   "source": [
    "Das geht mit jeder Rechenoperation:"
   ]
  },
  {
   "cell_type": "code",
   "execution_count": 91,
   "id": "square-consent",
   "metadata": {},
   "outputs": [
    {
     "name": "stdout",
     "output_type": "stream",
     "text": [
      "1\n",
      "6\n",
      "4.0\n",
      "8\n",
      "2\n"
     ]
    }
   ],
   "source": [
    "a = 4\n",
    "a -=3\n",
    "print(a)\n",
    "\n",
    "b = 2\n",
    "b *= 3\n",
    "print(b)\n",
    "\n",
    "c = 12\n",
    "c /= 3\n",
    "print(c)\n",
    "\n",
    "d = 2\n",
    "d **= 3\n",
    "print(d)\n",
    "\n",
    "e = 11\n",
    "e %= 3\n",
    "print(e)"
   ]
  },
  {
   "cell_type": "code",
   "execution_count": 8,
   "id": "cardiac-affairs",
   "metadata": {
    "scrolled": false
   },
   "outputs": [
    {
     "name": "stdout",
     "output_type": "stream",
     "text": [
      "zahl\n"
     ]
    },
    {
     "ename": "ValueError",
     "evalue": "could not convert string to float: 'zahl'",
     "output_type": "error",
     "traceback": [
      "\u001b[1;31m---------------------------------------------------------------------------\u001b[0m",
      "\u001b[1;31mValueError\u001b[0m                                Traceback (most recent call last)",
      "\u001b[1;32m<ipython-input-8-146260922775>\u001b[0m in \u001b[0;36m<module>\u001b[1;34m\u001b[0m\n\u001b[1;32m----> 1\u001b[1;33m \u001b[0mkeine_zahl\u001b[0m \u001b[1;33m=\u001b[0m \u001b[0mfloat\u001b[0m\u001b[1;33m(\u001b[0m\u001b[0minput\u001b[0m\u001b[1;33m(\u001b[0m\u001b[1;33m)\u001b[0m\u001b[1;33m)\u001b[0m\u001b[1;33m\u001b[0m\u001b[1;33m\u001b[0m\u001b[0m\n\u001b[0m",
      "\u001b[1;31mValueError\u001b[0m: could not convert string to float: 'zahl'"
     ]
    }
   ],
   "source": [
    "keine_zahl = float(input())"
   ]
  },
  {
   "cell_type": "markdown",
   "id": "614da0d1",
   "metadata": {},
   "source": [
    "### Booleans\n",
    "\n",
    "Boolean (``bool``) ist ein Datentyp, der genau zwei Werte hat: ``True`` und ``False`` (manchmal auch: ``1`` und ``0``).\n",
    "Booleans können als Flags (Kennzeichen) verwendet werden, z.B. ``has_pencil = True`` wäre ein Kennzeichen, dass eine Person einen Stift bei sich trägt. Booleans entstehen aber auch bei Vergleichen. Vergleiche können mit diesen Operatoren durchgeführt werden:\n",
    "\n",
    "|  Operator  | Bedeutung  |  \n",
    "| --- | --- |\n",
    "|  == | gleich  |  \n",
    "|  != | ungleich  |  \n",
    "|  <  | kleiner als  |  \n",
    "|  >  | größer als  |  \n",
    "|  <= | kleiner oder gleich  |  \n",
    "|  >= | größer oder gleich  | \n",
    "\n",
    "Beispiele:"
   ]
  },
  {
   "cell_type": "code",
   "execution_count": 3,
   "id": "59bbf307",
   "metadata": {},
   "outputs": [
    {
     "data": {
      "text/plain": [
       "True"
      ]
     },
     "execution_count": 3,
     "metadata": {},
     "output_type": "execute_result"
    }
   ],
   "source": [
    "5 == 5"
   ]
  },
  {
   "cell_type": "code",
   "execution_count": 4,
   "id": "ab0cf1da",
   "metadata": {},
   "outputs": [
    {
     "data": {
      "text/plain": [
       "False"
      ]
     },
     "execution_count": 4,
     "metadata": {},
     "output_type": "execute_result"
    }
   ],
   "source": [
    "5 == 4"
   ]
  },
  {
   "cell_type": "code",
   "execution_count": 5,
   "id": "4af3e60b",
   "metadata": {},
   "outputs": [
    {
     "data": {
      "text/plain": [
       "True"
      ]
     },
     "execution_count": 5,
     "metadata": {},
     "output_type": "execute_result"
    }
   ],
   "source": [
    "5 != 4"
   ]
  },
  {
   "cell_type": "code",
   "execution_count": 6,
   "id": "9111a4d9",
   "metadata": {},
   "outputs": [
    {
     "data": {
      "text/plain": [
       "True"
      ]
     },
     "execution_count": 6,
     "metadata": {},
     "output_type": "execute_result"
    }
   ],
   "source": [
    "5 > 4"
   ]
  },
  {
   "cell_type": "code",
   "execution_count": 7,
   "id": "58e6803c",
   "metadata": {},
   "outputs": [
    {
     "data": {
      "text/plain": [
       "False"
      ]
     },
     "execution_count": 7,
     "metadata": {},
     "output_type": "execute_result"
    }
   ],
   "source": [
    "5 <= 4"
   ]
  },
  {
   "cell_type": "markdown",
   "id": "1600c859",
   "metadata": {},
   "source": [
    "Alle diese Vergleiche werden zu einem Boolean evaluiert. Booleans können mit ``not`` verneint werden und mit ``and`` und ``or`` verknüpft werden. Mit `and` können zwei Booleans verknüpft werden: das Ergebnis ist nur dann `True`, wenn beide Booleans `True` sind. Mit ``or`` können zwei Booleans verknüpft werden: das Ergebnis ist dann ``True``, wenn mindestens einer der beiden Booleans ``True`` ist.\n",
    "\n",
    "Beispiele:"
   ]
  },
  {
   "cell_type": "code",
   "execution_count": 8,
   "id": "748395d7",
   "metadata": {},
   "outputs": [
    {
     "data": {
      "text/plain": [
       "False"
      ]
     },
     "execution_count": 8,
     "metadata": {},
     "output_type": "execute_result"
    }
   ],
   "source": [
    "not True"
   ]
  },
  {
   "cell_type": "code",
   "execution_count": 2,
   "id": "novel-longer",
   "metadata": {},
   "outputs": [
    {
     "data": {
      "text/plain": [
       "True"
      ]
     },
     "execution_count": 2,
     "metadata": {},
     "output_type": "execute_result"
    }
   ],
   "source": [
    "True and True"
   ]
  },
  {
   "cell_type": "code",
   "execution_count": 3,
   "id": "accurate-title",
   "metadata": {},
   "outputs": [
    {
     "data": {
      "text/plain": [
       "False"
      ]
     },
     "execution_count": 3,
     "metadata": {},
     "output_type": "execute_result"
    }
   ],
   "source": [
    "True and False"
   ]
  },
  {
   "cell_type": "code",
   "execution_count": 4,
   "id": "loaded-exclusive",
   "metadata": {},
   "outputs": [
    {
     "data": {
      "text/plain": [
       "False"
      ]
     },
     "execution_count": 4,
     "metadata": {},
     "output_type": "execute_result"
    }
   ],
   "source": [
    "False and False"
   ]
  },
  {
   "cell_type": "code",
   "execution_count": 5,
   "id": "weighted-election",
   "metadata": {},
   "outputs": [
    {
     "data": {
      "text/plain": [
       "True"
      ]
     },
     "execution_count": 5,
     "metadata": {},
     "output_type": "execute_result"
    }
   ],
   "source": [
    "True or True"
   ]
  },
  {
   "cell_type": "code",
   "execution_count": 6,
   "id": "compressed-operation",
   "metadata": {},
   "outputs": [
    {
     "data": {
      "text/plain": [
       "True"
      ]
     },
     "execution_count": 6,
     "metadata": {},
     "output_type": "execute_result"
    }
   ],
   "source": [
    "True or False"
   ]
  },
  {
   "cell_type": "code",
   "execution_count": 7,
   "id": "olympic-humanity",
   "metadata": {
    "scrolled": true
   },
   "outputs": [
    {
     "data": {
      "text/plain": [
       "False"
      ]
     },
     "execution_count": 7,
     "metadata": {},
     "output_type": "execute_result"
    }
   ],
   "source": [
    "False or False"
   ]
  },
  {
   "cell_type": "markdown",
   "id": "bright-substance",
   "metadata": {},
   "source": [
    "Die drei keywords `not`, `and` und `or` können auch beliebig miteinander verkettet werden. Wie bei mathematsichen Operatoren gibt es auch bei boolschen Operatoren eine Reihenfolge, in der sie abgearbeitet werden. Zuerst `not`, dann `and`, und zum Schluss `or`. Klammern überschreiben diese Reihenfolge und haben immer Priorität. Du kannst ja mal überlegen, was bei den folgenden Ketten heraus kommt."
   ]
  },
  {
   "cell_type": "code",
   "execution_count": 1,
   "id": "clear-structure",
   "metadata": {},
   "outputs": [
    {
     "data": {
      "text/plain": [
       "True"
      ]
     },
     "execution_count": 1,
     "metadata": {},
     "output_type": "execute_result"
    }
   ],
   "source": [
    "not (True and False) and (not True or not False)"
   ]
  },
  {
   "cell_type": "code",
   "execution_count": null,
   "id": "inappropriate-cruise",
   "metadata": {},
   "outputs": [],
   "source": [
    "not not True"
   ]
  },
  {
   "cell_type": "code",
   "execution_count": 2,
   "id": "occupied-provision",
   "metadata": {},
   "outputs": [
    {
     "data": {
      "text/plain": [
       "True"
      ]
     },
     "execution_count": 2,
     "metadata": {},
     "output_type": "execute_result"
    }
   ],
   "source": [
    "(4 < 5) and (5 != 7)"
   ]
  },
  {
   "cell_type": "code",
   "execution_count": null,
   "id": "military-spank",
   "metadata": {},
   "outputs": [],
   "source": [
    "(\"hello\" == \"Hello\") or (True == True) and (9 >= 4+5)"
   ]
  },
  {
   "cell_type": "code",
   "execution_count": null,
   "id": "cooperative-tiffany",
   "metadata": {},
   "outputs": [],
   "source": [
    "False and False or True"
   ]
  },
  {
   "cell_type": "code",
   "execution_count": null,
   "id": "smaller-contract",
   "metadata": {},
   "outputs": [],
   "source": [
    "False and (False or True)"
   ]
  },
  {
   "cell_type": "code",
   "execution_count": null,
   "id": "better-guatemala",
   "metadata": {},
   "outputs": [],
   "source": [
    "2 + 2 == 4 and not 2 + 2 == 5 and 2 * 2 == 2 + 2"
   ]
  },
  {
   "cell_type": "code",
   "execution_count": null,
   "id": "lightweight-soviet",
   "metadata": {},
   "outputs": [],
   "source": [
    "not False or True"
   ]
  },
  {
   "cell_type": "code",
   "execution_count": null,
   "id": "executed-aaron",
   "metadata": {},
   "outputs": [],
   "source": [
    "not (False or True)"
   ]
  },
  {
   "cell_type": "markdown",
   "id": "rubber-professor",
   "metadata": {},
   "source": [
    "#### Verwendung von Strings und Numerischen als Booleans\n",
    "Strings und Zahlenwerte können auch als Booleans interpretiert werden. Leere Strings werden als ``False`` interpretiert, alle anderen Strings werden als ``True`` interpretiert. Bei Zahlenwerten wird ``0`` als ``False`` interpretiert, alle anderen Zahlen werden als ``True`` interpretiert. Mit der Funktion ``bool()`` kann ein beliebiger Datentyp in einen Boolean umgewandelt werden, damit können wir prüfen, wie ein Wert interpretiert wird:"
   ]
  },
  {
   "cell_type": "code",
   "execution_count": 64,
   "id": "mighty-advancement",
   "metadata": {},
   "outputs": [
    {
     "data": {
      "text/plain": [
       "False"
      ]
     },
     "execution_count": 64,
     "metadata": {},
     "output_type": "execute_result"
    }
   ],
   "source": [
    "bool(0)"
   ]
  },
  {
   "cell_type": "code",
   "execution_count": 69,
   "id": "substantial-calvin",
   "metadata": {},
   "outputs": [
    {
     "data": {
      "text/plain": [
       "True"
      ]
     },
     "execution_count": 69,
     "metadata": {},
     "output_type": "execute_result"
    }
   ],
   "source": [
    "bool(1)"
   ]
  },
  {
   "cell_type": "code",
   "execution_count": 70,
   "id": "white-solomon",
   "metadata": {},
   "outputs": [
    {
     "data": {
      "text/plain": [
       "True"
      ]
     },
     "execution_count": 70,
     "metadata": {},
     "output_type": "execute_result"
    }
   ],
   "source": [
    "bool(-4)"
   ]
  },
  {
   "cell_type": "code",
   "execution_count": 63,
   "id": "intense-typing",
   "metadata": {},
   "outputs": [
    {
     "data": {
      "text/plain": [
       "True"
      ]
     },
     "execution_count": 63,
     "metadata": {},
     "output_type": "execute_result"
    }
   ],
   "source": [
    "bool(0.0000001)"
   ]
  },
  {
   "cell_type": "code",
   "execution_count": 66,
   "id": "changing-taxation",
   "metadata": {},
   "outputs": [
    {
     "data": {
      "text/plain": [
       "False"
      ]
     },
     "execution_count": 66,
     "metadata": {},
     "output_type": "execute_result"
    }
   ],
   "source": [
    "bool(\"\")"
   ]
  },
  {
   "cell_type": "code",
   "execution_count": 71,
   "id": "fourth-announcement",
   "metadata": {
    "scrolled": true
   },
   "outputs": [
    {
     "data": {
      "text/plain": [
       "True"
      ]
     },
     "execution_count": 71,
     "metadata": {},
     "output_type": "execute_result"
    }
   ],
   "source": [
    "bool(\"Hello World\")"
   ]
  },
  {
   "cell_type": "markdown",
   "id": "comprehensive-moral",
   "metadata": {},
   "source": [
    "### Literale\n",
    "In den Beispielen oben werden die Booleans keiner Variablen zugewiesen. Die allgemeine Bezeichnung dafür ist *Literal*. Ein Literal ist also ein direkter Wert von einem bestimmten Datentyp. Literale können auch bei Zuweisungen verwendet werden. Dafür betrachten wir folgendes Beispiel:"
   ]
  },
  {
   "cell_type": "code",
   "execution_count": 48,
   "id": "bright-vintage",
   "metadata": {},
   "outputs": [],
   "source": [
    "a = 5\n",
    "b = \"Hello World!\"\n",
    "c = True"
   ]
  },
  {
   "cell_type": "markdown",
   "id": "satisfactory-border",
   "metadata": {},
   "source": [
    "In Zeile 1 ist `a` eine Variable und `5` ist ein numerisches Literal.  \n",
    "In Zeile 2 ist `b` eine Variable und `\"Hello World!\"` ist ein String-Literal.  \n",
    "In Zeile 3 ist `c` eine Variable und `True` ist ein Boolean-Literal.\n",
    "\n",
    "Literale sind also direkte Werte, wohingegen Variablen Namen sind, unter denen Werte gespeichert sind.\n",
    "\n",
    "In einer Python-Console werden die Werte von Literalen direkt ausgegeben. In komplexeren Programmen haben Literale keinen Effekt. Dazu aber später mehr."
   ]
  }
 ],
 "metadata": {
  "kernelspec": {
   "display_name": "Python 3 (ipykernel)",
   "language": "python",
   "name": "python3"
  },
  "language_info": {
   "codemirror_mode": {
    "name": "ipython",
    "version": 3
   },
   "file_extension": ".py",
   "mimetype": "text/x-python",
   "name": "python",
   "nbconvert_exporter": "python",
   "pygments_lexer": "ipython3",
   "version": "3.9.6"
  }
 },
 "nbformat": 4,
 "nbformat_minor": 5
}
