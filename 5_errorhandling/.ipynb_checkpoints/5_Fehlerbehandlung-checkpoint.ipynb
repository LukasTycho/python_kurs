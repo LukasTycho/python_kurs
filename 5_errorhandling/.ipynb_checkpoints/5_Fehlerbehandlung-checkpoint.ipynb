{
 "cells": [
  {
   "cell_type": "markdown",
   "id": "athletic-wages",
   "metadata": {},
   "source": [
    "## Fehlerbehandlung\n",
    "Wir haben bereits mehrfach gesehen, dass Python uns darauf hinweist, wenn unser Code einen Fehler bzw. eine *Exception* enthält. Diese Fehlermeldungen sorgen oft für Frustration, sind aber tatsächlich sehr hilfreich. Die Fehlermeldung enthält nämlich Informationen, die zum Beheben des Fehlers hilfreich sind:\n",
    "- die Datei, in der der Fehler ist\n",
    "- die Zeile, in der der Fehler ist\n",
    "- bei Laufzeitfehlern: das Modul, in dem der Fehler ist\n",
    "- bei Syntaxfehlern: die Position in der Zeile, wo der Fehler ist\n",
    "- den Fehlertyp\n",
    "- und eine etwas genauere Beschreibung des Fehlers\n",
    "\n",
    "Deshalb ist es auch sinnvoll, Code regelmäßig zum Testen auszuführen, auch wenn das Programm noch nicht fertig ist. Gute Programmierer testen regelmäßig ihren Code, auch wenn es nur kleine Teile eines Programms sind. Gerade, wenn man nicht weiter kommt, kann es hilfreich sein, einfach mal auszuprobieren, was man schon hat. Dann kann man auch gut sehen, was noch gemacht werden muss, was noch verbessert werden kann, und was schon gut läuft."
   ]
  },
  {
   "cell_type": "code",
   "execution_count": 5,
   "id": "likely-worry",
   "metadata": {},
   "outputs": [
    {
     "name": "stdout",
     "output_type": "stream",
     "text": [
      "1\n",
      "2\n",
      "3\n"
     ]
    },
    {
     "ename": "IndexError",
     "evalue": "list index out of range",
     "output_type": "error",
     "traceback": [
      "\u001b[1;31m---------------------------------------------------------------------------\u001b[0m",
      "\u001b[1;31mIndexError\u001b[0m                                Traceback (most recent call last)",
      "\u001b[1;32m<ipython-input-5-c038f3f3a94f>\u001b[0m in \u001b[0;36m<module>\u001b[1;34m\u001b[0m\n\u001b[0;32m      2\u001b[0m \u001b[0ml\u001b[0m \u001b[1;33m=\u001b[0m \u001b[1;33m[\u001b[0m\u001b[1;36m1\u001b[0m\u001b[1;33m,\u001b[0m \u001b[1;36m2\u001b[0m\u001b[1;33m,\u001b[0m \u001b[1;36m3\u001b[0m\u001b[1;33m]\u001b[0m\u001b[1;33m\u001b[0m\u001b[1;33m\u001b[0m\u001b[0m\n\u001b[0;32m      3\u001b[0m \u001b[1;32mfor\u001b[0m \u001b[0mi\u001b[0m \u001b[1;32min\u001b[0m \u001b[0mrange\u001b[0m\u001b[1;33m(\u001b[0m\u001b[1;36m4\u001b[0m\u001b[1;33m)\u001b[0m\u001b[1;33m:\u001b[0m\u001b[1;33m\u001b[0m\u001b[1;33m\u001b[0m\u001b[0m\n\u001b[1;32m----> 4\u001b[1;33m     \u001b[0mprint\u001b[0m\u001b[1;33m(\u001b[0m\u001b[0ml\u001b[0m\u001b[1;33m[\u001b[0m\u001b[0mi\u001b[0m\u001b[1;33m]\u001b[0m\u001b[1;33m)\u001b[0m\u001b[1;33m\u001b[0m\u001b[1;33m\u001b[0m\u001b[0m\n\u001b[0m\u001b[0;32m      5\u001b[0m \u001b[1;33m\u001b[0m\u001b[0m\n\u001b[0;32m      6\u001b[0m \u001b[0mprint\u001b[0m\u001b[1;33m(\u001b[0m\u001b[1;34m'Programmende'\u001b[0m\u001b[1;33m)\u001b[0m\u001b[1;33m\u001b[0m\u001b[1;33m\u001b[0m\u001b[0m\n",
      "\u001b[1;31mIndexError\u001b[0m: list index out of range"
     ]
    }
   ],
   "source": [
    "# Beispiel 1: Runtime\n",
    "l = [1, 2, 3]\n",
    "for i in range(4):\n",
    "    print(l[i])\n",
    "    \n",
    "print('Programmende')"
   ]
  },
  {
   "cell_type": "code",
   "execution_count": 2,
   "id": "confused-singapore",
   "metadata": {},
   "outputs": [
    {
     "ename": "SyntaxError",
     "evalue": "invalid syntax (<ipython-input-2-1a9c5d11b123>, line 1)",
     "output_type": "error",
     "traceback": [
      "\u001b[1;36m  File \u001b[1;32m\"<ipython-input-2-1a9c5d11b123>\"\u001b[1;36m, line \u001b[1;32m1\u001b[0m\n\u001b[1;33m    for i in range(3)\u001b[0m\n\u001b[1;37m                     ^\u001b[0m\n\u001b[1;31mSyntaxError\u001b[0m\u001b[1;31m:\u001b[0m invalid syntax\n"
     ]
    }
   ],
   "source": [
    "# Beispiel 2: Syntax\n",
    "for i in range(3)\n",
    "    print('x')"
   ]
  },
  {
   "cell_type": "markdown",
   "id": "disabled-hamburg",
   "metadata": {},
   "source": [
    "Bei Fehlern wird unterschieden zwischen Laufzeit- oder *Runtime*fehlern und Syntaxfehlern.\n",
    "\n",
    "Bei **Syntaxfehlern** handelt es sich um Fehler, die beim Schreiben von Code auftreten. Die Syntax ist ja wie die Grammatik einer Programmiersprache, z.B. werden bei Python Schleifen immer mit einem Doppelpunkt geschrieben. Wenn diese Syntax misachtet wird, kann der Code nicht ausgeführt werden. Bevor der Python Interpreter also irgendetwas macht, gibt es direkt eine Fehlermeldung, wie oben in Beispiel 2. Diese Fehler sind unproblematisch, da sie einfach behoben werden können und dann nicht mehr auftreten. Viele IDEs weisen noch vor dem ersten Ausführen des Codes bereits auf eventuelle Syntaxfehler hin.\n",
    "\n",
    "**Laufzeitfehler** sind da etwas kritischer. Diese Fehler treten beim Ausführen des Programmes auf und führen zu einem, in der Regel unerwünschten, Programmabbruch. In Beispiel 1 liegt ein ``IndexError`` vor, es wird versucht, auf einen Index der Liste zuzgreifen, der nicht existiert. Da Python nicht weiß, wie es danach weitergehen soll oder zu welchen Folgefehlern das führen könnte, wird das Programm abgebrochen. Die Ausgabe ``'Programmende'`` wird nicht mehr erreicht. In diesem Fall ist das nicht weiter schlimm, in komplexeren Programmen kann das aber zum Einen sehr ärgerlich sein, wenn man ständig neu starten muss, zum Anderen kann es auch zu Datenverlust führen. Dieses Problem hat bestimmt jeder schon mal erlebt, z.B. wenn Word abstürzt und alles, was man geschrieben hat, plötzlich weg ist; oder wenn ein Spiel abstürzt bevor man gespeichert hat.  \n",
    "Deshalb ist es die Verantwortung des Programmieres, solche Fehler zu verhindern. Dies kann manuell gemacht werden, oder automatisch. Eine manuelle Fehlerbehandlung ist oft die bessere Lösung. Im Beispiel 1 könnte der Fehler mit ``len(l)`` umgangen werden. Ein anderes Beispiel wäre ein Programm, das zwei Zahlen dividiert. Bei diesen Zahlen handelt es sich um Benutzereingaben, der Benutzer kann also auch eine ``0`` für den Nenner eingeben. Da dies nicht geht, muss dieser Fehler abgefangen werden, es muss also vor der Division geprüft werden, ob der Nenner ``b`` gleich ``0`` ist, und wenn ja, dann sollte der Benutzer einen entsprechenden Hinweis bekommen und eine neue Zahl eingeben.\n",
    "\n",
    "Setze diese manuelle Fehlerbehandlung in Übung 1 um."
   ]
  },
  {
   "cell_type": "code",
   "execution_count": 13,
   "id": "incorporate-twins",
   "metadata": {},
   "outputs": [
    {
     "name": "stdout",
     "output_type": "stream",
     "text": [
      "Zahl 1 (Zähler): 5\n",
      "Zahl 2 (Nenner): 0\n"
     ]
    },
    {
     "ename": "ZeroDivisionError",
     "evalue": "float division by zero",
     "output_type": "error",
     "traceback": [
      "\u001b[1;31m---------------------------------------------------------------------------\u001b[0m",
      "\u001b[1;31mZeroDivisionError\u001b[0m                         Traceback (most recent call last)",
      "\u001b[1;32m<ipython-input-13-0a63f4c5a9b4>\u001b[0m in \u001b[0;36m<module>\u001b[1;34m\u001b[0m\n\u001b[0;32m      2\u001b[0m \u001b[0ma\u001b[0m \u001b[1;33m=\u001b[0m \u001b[0mfloat\u001b[0m\u001b[1;33m(\u001b[0m\u001b[0minput\u001b[0m\u001b[1;33m(\u001b[0m\u001b[1;34m'Zahl 1 (Zähler): '\u001b[0m\u001b[1;33m)\u001b[0m\u001b[1;33m)\u001b[0m\u001b[1;33m\u001b[0m\u001b[1;33m\u001b[0m\u001b[0m\n\u001b[0;32m      3\u001b[0m \u001b[0mb\u001b[0m \u001b[1;33m=\u001b[0m \u001b[0mfloat\u001b[0m\u001b[1;33m(\u001b[0m\u001b[0minput\u001b[0m\u001b[1;33m(\u001b[0m\u001b[1;34m'Zahl 2 (Nenner): '\u001b[0m\u001b[1;33m)\u001b[0m\u001b[1;33m)\u001b[0m\u001b[1;33m\u001b[0m\u001b[1;33m\u001b[0m\u001b[0m\n\u001b[1;32m----> 4\u001b[1;33m \u001b[0mc\u001b[0m \u001b[1;33m=\u001b[0m \u001b[0ma\u001b[0m \u001b[1;33m/\u001b[0m \u001b[0mb\u001b[0m\u001b[1;33m\u001b[0m\u001b[1;33m\u001b[0m\u001b[0m\n\u001b[0m\u001b[0;32m      5\u001b[0m \u001b[0mprint\u001b[0m\u001b[1;33m(\u001b[0m\u001b[0mstr\u001b[0m\u001b[1;33m(\u001b[0m\u001b[0ma\u001b[0m\u001b[1;33m)\u001b[0m \u001b[1;33m+\u001b[0m \u001b[1;34m' geteilt durch '\u001b[0m \u001b[1;33m+\u001b[0m \u001b[0mstr\u001b[0m\u001b[1;33m(\u001b[0m\u001b[0mb\u001b[0m\u001b[1;33m)\u001b[0m \u001b[1;33m+\u001b[0m \u001b[1;34m' ist gleich '\u001b[0m \u001b[1;33m+\u001b[0m \u001b[0mstr\u001b[0m\u001b[1;33m(\u001b[0m\u001b[0mc\u001b[0m\u001b[1;33m)\u001b[0m\u001b[1;33m)\u001b[0m\u001b[1;33m\u001b[0m\u001b[1;33m\u001b[0m\u001b[0m\n",
      "\u001b[1;31mZeroDivisionError\u001b[0m: float division by zero"
     ]
    }
   ],
   "source": [
    "# Übung 1: manuelle Fehlerbehandlung\n",
    "a = float(input('Zahl 1 (Zähler): '))\n",
    "b = float(input('Zahl 2 (Nenner): '))\n",
    "c = a / b\n",
    "print(str(a) + ' geteilt durch ' + str(b) + ' ist gleich ' + str(c))"
   ]
  },
  {
   "cell_type": "markdown",
   "id": "musical-bookmark",
   "metadata": {},
   "source": [
    "#### try und except\n",
    "Manche Fehler lassen sich nicht manuell behandeln. Nehmen wir wieder die Division als Beispiel:"
   ]
  },
  {
   "cell_type": "code",
   "execution_count": 8,
   "id": "alert-foundation",
   "metadata": {},
   "outputs": [
    {
     "name": "stdout",
     "output_type": "stream",
     "text": [
      "Zahl 1 (Zähler): hallo\n"
     ]
    },
    {
     "ename": "ValueError",
     "evalue": "could not convert string to float: 'hallo'",
     "output_type": "error",
     "traceback": [
      "\u001b[1;31m---------------------------------------------------------------------------\u001b[0m",
      "\u001b[1;31mValueError\u001b[0m                                Traceback (most recent call last)",
      "\u001b[1;32m<ipython-input-8-6746e81d5cf1>\u001b[0m in \u001b[0;36m<module>\u001b[1;34m\u001b[0m\n\u001b[0;32m      1\u001b[0m \u001b[1;31m# Beispiel 3\u001b[0m\u001b[1;33m\u001b[0m\u001b[1;33m\u001b[0m\u001b[1;33m\u001b[0m\u001b[0m\n\u001b[1;32m----> 2\u001b[1;33m \u001b[0ma\u001b[0m \u001b[1;33m=\u001b[0m \u001b[0mfloat\u001b[0m\u001b[1;33m(\u001b[0m\u001b[0minput\u001b[0m\u001b[1;33m(\u001b[0m\u001b[1;34m'Zahl 1 (Zähler): '\u001b[0m\u001b[1;33m)\u001b[0m\u001b[1;33m)\u001b[0m\u001b[1;33m\u001b[0m\u001b[1;33m\u001b[0m\u001b[0m\n\u001b[0m\u001b[0;32m      3\u001b[0m \u001b[0mb\u001b[0m \u001b[1;33m=\u001b[0m \u001b[0mfloat\u001b[0m\u001b[1;33m(\u001b[0m\u001b[0minput\u001b[0m\u001b[1;33m(\u001b[0m\u001b[1;34m'Zahl 1 (Nenner): '\u001b[0m\u001b[1;33m)\u001b[0m\u001b[1;33m)\u001b[0m\u001b[1;33m\u001b[0m\u001b[1;33m\u001b[0m\u001b[0m\n\u001b[0;32m      4\u001b[0m \u001b[0mc\u001b[0m \u001b[1;33m=\u001b[0m \u001b[0ma\u001b[0m \u001b[1;33m/\u001b[0m \u001b[0mb\u001b[0m\u001b[1;33m\u001b[0m\u001b[1;33m\u001b[0m\u001b[0m\n\u001b[0;32m      5\u001b[0m \u001b[0mprint\u001b[0m\u001b[1;33m(\u001b[0m\u001b[0mstr\u001b[0m\u001b[1;33m(\u001b[0m\u001b[0ma\u001b[0m\u001b[1;33m)\u001b[0m \u001b[1;33m+\u001b[0m \u001b[1;34m' geteilt durch '\u001b[0m \u001b[1;33m+\u001b[0m \u001b[0mstr\u001b[0m\u001b[1;33m(\u001b[0m\u001b[0mb\u001b[0m\u001b[1;33m)\u001b[0m \u001b[1;33m+\u001b[0m \u001b[1;34m' ist gleich '\u001b[0m \u001b[1;33m+\u001b[0m \u001b[0mstr\u001b[0m\u001b[1;33m(\u001b[0m\u001b[0mc\u001b[0m\u001b[1;33m)\u001b[0m\u001b[1;33m)\u001b[0m\u001b[1;33m\u001b[0m\u001b[1;33m\u001b[0m\u001b[0m\n",
      "\u001b[1;31mValueError\u001b[0m: could not convert string to float: 'hallo'"
     ]
    }
   ],
   "source": [
    "# Beispiel 3\n",
    "a = float(input('Zahl 1 (Zähler): '))\n",
    "b = float(input('Zahl 2 (Nenner): '))\n",
    "c = a / b\n",
    "print(str(a) + ' geteilt durch ' + str(b) + ' ist gleich ' + str(c))"
   ]
  },
  {
   "cell_type": "markdown",
   "id": "finnish-biography",
   "metadata": {},
   "source": [
    "Hier wurde statt einer Zahl ein Wort eingegeben. Der Input wird mit der ``float()`` Funktion in einen numerischen Wert umgewandelt, was mit einem Wort aber nicht möglich ist. Deshalb wird ein Fehler geworfen. Es muss also sichergestellt werden, dass nur Zahlen eingegeben werden. Dies ist manuell aber nicht (einfach) möglich. Deshalb gibt es das ``try - except`` Statement. Dies ist aufgeteilt in zwei Blöcke: im ``try`` Block wird versucht, Code auszuführen; der ``except`` Block wird ausgeführt, wenn es im ``try`` Block einen Fehler gibt. Wie bei Python üblich müssen wir auch hier wieder auf den Doppelpunkt und die Einrückung achten. Schauen wir uns das in einem Beispiel an:"
   ]
  },
  {
   "cell_type": "code",
   "execution_count": 16,
   "id": "english-penalty",
   "metadata": {},
   "outputs": [
    {
     "name": "stdout",
     "output_type": "stream",
     "text": [
      "Zahl 1 (Zähler): 5\n",
      "Zahl 2 (Nenner): hallo\n",
      "Ups. Das ist keine Zahl.\n",
      "---------------------\n",
      "Zahl 1 (Zähler): 5\n",
      "Zahl 2 (Nenner): 7\n",
      "5.0 geteilt durch 7.0 ist gleich 0.7142857142857143\n"
     ]
    }
   ],
   "source": [
    "# Beispiel 4: try and except\n",
    "def div():\n",
    "    try:\n",
    "        a = float(input('Zahl 1 (Zähler): '))\n",
    "        b = float(input('Zahl 2 (Nenner): '))\n",
    "        c = a / b\n",
    "        print(str(a) + ' geteilt durch ' + str(b) + ' ist gleich ' + str(c))\n",
    "    except ValueError:\n",
    "        print('Ups. Das ist keine Zahl.')\n",
    "        \n",
    "div()\n",
    "print('---------------------')\n",
    "div()"
   ]
  },
  {
   "cell_type": "markdown",
   "id": "spoken-operator",
   "metadata": {},
   "source": [
    "In diesem Beispiel wird standardmäßig der ``try`` Block ausgeführt. Wenn es im ``try`` Block zu einem Fehler kommt, hier haben wir ein Wort statt einer Zahl eingegeben, bricht der ``try`` Block ab und es wird der entsprechende ``except`` Block ausgeführt. Wenn im ``try`` Block kein Fehler auftritt, dann wird auch kein ``except`` Block ausgeführt.\n",
    "\n",
    "Ein ``except`` Block kann durch den Fehlertyp spezifiziert werden. In Beispiel 4 steht ``except ValueError``, das heißt dieser ``except`` Block behandelt nur Fehler vom Typ ValueError. Wenn ein anderer Fehler auftritt, gibt es eine Fehlermeldung mit Programmabbruch. Dementsprechend kann ein ``try - except`` Statement mehrere ``except`` Blöcke haben, die von oben nach unten abgearbeitet werden. Ein ``except`` Block kann auch mehrere Fehlertypen behandeln, diese müssen dann als Tuple angegeben werden. Ein ``except`` Block mit dem allgemeinen ``Exception`` behandelt alle Fehler."
   ]
  },
  {
   "cell_type": "code",
   "execution_count": 17,
   "id": "collect-dollar",
   "metadata": {},
   "outputs": [
    {
     "name": "stdout",
     "output_type": "stream",
     "text": [
      "Zahl 1 (Zähler): 5\n",
      "Zahl 2 (Nenner): hallo\n",
      "Ups. Das ist keine Zahl.\n",
      "---------------------\n",
      "Zahl 1 (Zähler): 5\n",
      "Zahl 2 (Nenner): 0\n",
      "Durch 0 kann nicht geteilt werden.\n"
     ]
    }
   ],
   "source": [
    "# Beispiel 5: mehrere except Blöcke\n",
    "def div():\n",
    "    try:\n",
    "        a = float(input('Zahl 1 (Zähler): '))\n",
    "        b = float(input('Zahl 2 (Nenner): '))\n",
    "        c = a / b\n",
    "        print(str(a) + ' geteilt durch ' + str(b) + ' ist gleich ' + str(c))\n",
    "    except ValueError:\n",
    "        print('Ups. Das ist keine Zahl.')\n",
    "    except ZeroDivisionError:\n",
    "        print('Durch 0 kann nicht geteilt werden.')\n",
    "    except Exception:\n",
    "        print('Es ist ein unbekannter Fehler aufgetreten.')\n",
    "        \n",
    "div()\n",
    "print('---------------------')\n",
    "div()"
   ]
  },
  {
   "cell_type": "code",
   "execution_count": 19,
   "id": "sweet-costa",
   "metadata": {},
   "outputs": [
    {
     "name": "stdout",
     "output_type": "stream",
     "text": [
      "Zahl 1 (Zähler): 5\n",
      "Zahl 2 (Nenner): hallo\n",
      "Es ist ein Fehler aufgetreten.\n",
      "---------------------\n",
      "Zahl 1 (Zähler): 5\n",
      "Zahl 2 (Nenner): 0\n",
      "Es ist ein Fehler aufgetreten.\n"
     ]
    }
   ],
   "source": [
    "# Beispiel 6: mehrere Fehlertypen in einem except Block\n",
    "def div():\n",
    "    try:\n",
    "        a = float(input('Zahl 1 (Zähler): '))\n",
    "        b = float(input('Zahl 2 (Nenner): '))\n",
    "        c = a / b\n",
    "        print(str(a) + ' geteilt durch ' + str(b) + ' ist gleich ' + str(c))\n",
    "    except (ValueError, ZeroDivisionError):\n",
    "        print('Es ist ein Fehler aufgetreten.')\n",
    "        \n",
    "div()\n",
    "print('---------------------')\n",
    "div()"
   ]
  },
  {
   "cell_type": "markdown",
   "id": "weekly-airport",
   "metadata": {},
   "source": [
    "In Beispiel 6 wurden zwei Fehlertypen mit einem ``except`` Block abgefangen. Das verkürzt zwar den Code, die Fehlerbehandlung wird dadurch aber unspezifischer. In Beispiel 5 hat der Benutzer eine Information darüber bekommen, was der Fehler ist, in Beispiel 6 fehlt diese Information.\n",
    "\n",
    "Hier ist noch eine Übung.\n",
    "\n",
    "###### Übung 2\n",
    "Gegeben ist die Funktion ``return_item()``, die ein Element aus einer Liste zurück gibt. Untersuche, welche Fehler auftreten können und fange diese Fehler ab."
   ]
  },
  {
   "cell_type": "code",
   "execution_count": null,
   "id": "removed-holder",
   "metadata": {},
   "outputs": [],
   "source": [
    "# Übung 2\n",
    "import random\n",
    "\n",
    "\n",
    "def return_item(idx):\n",
    "    k = random.randint(3, 10)  # length of random list\n",
    "    my_list = []\n",
    "    for i in range(k):  # fill random list with random numbers\n",
    "        my_list.append(random.random())\n",
    "    return my_list[idx]\n",
    "\n",
    "\n",
    "idx = int(input())\n",
    "print(return_item(idx))"
   ]
  }
 ],
 "metadata": {
  "kernelspec": {
   "display_name": "Python 3 (ipykernel)",
   "language": "python",
   "name": "python3"
  },
  "language_info": {
   "codemirror_mode": {
    "name": "ipython",
    "version": 3
   },
   "file_extension": ".py",
   "mimetype": "text/x-python",
   "name": "python",
   "nbconvert_exporter": "python",
   "pygments_lexer": "ipython3",
   "version": "3.9.6"
  }
 },
 "nbformat": 4,
 "nbformat_minor": 5
}
