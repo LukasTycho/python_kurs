{
 "cells": [
  {
   "cell_type": "markdown",
   "id": "sized-familiar",
   "metadata": {},
   "source": [
    "## File I/O\n",
    "In Python ist es natürlich möglich, Dateien einzulesen und Daten in Dateien abzuspeichern. Wir beschäftigen uns nur mit reinen Textdateien. Die wichtigsten Dateiformate für uns sind ``.txt`` und ``.csv``. csv steht für comma-separated-value, die Dateien sind vom Prinzip her wie eine Tabelle, wobei die Spalten durch Kommata voneinander getrennt werden.\n",
    "\n",
    "### Dateien lesen\n",
    "Dateien können mit ``open(filename)`` geöffnet werden. Wichtig ist, dass Dateien auch wieder geschlossen werden. Spätestens am Ende des Programm macht Python das automatisch, man kann Dateien vorher aber auch mit ``.close()`` schließen. Mit ``.read()`` oder ``.readline()`` kann Text aus der Datei eingelesen werden. Der Datentyp ist dabei immer ``String``."
   ]
  },
  {
   "cell_type": "code",
   "execution_count": 1,
   "id": "earlier-pipeline",
   "metadata": {},
   "outputs": [
    {
     "name": "stdout",
     "output_type": "stream",
     "text": [
      "Eine unvorhergesehene Gesellschaft\n",
      "\n",
      "---\n",
      "\n",
      "\n",
      "---\n",
      "In einer Höhle in der Erde, da lebte ein Hobbit. Nicht in einem schmutzigen, nassen Loch, in das die Enden von irgendwelchen Würmern herabbaumelten und das nach Schlamm und Moder roch. Auch nicht etwa in einer trockenen Kieshöhle, die so kahl war, dass man sich nicht einmal niedersetzen oder gemütlich frühstücken konnte. Es war eine Hobbithöhle, und das bedeutet Behaglichkeit.\n",
      "\n",
      "---\n",
      "Diese Höhle hatte eine kreisrunde Tür wie ein Bullauge. Sie war grün gestrichen und in der Mitte saß ein glänzend gelber Messingknopf. Die Tür führte zu einer röhrenförmig langen Halle, zu einer Art Tunnel, einem Tunnel mit getäfelten Wänden. Der Boden war mit Fliesen und Teppichen ausgelegt, es gab Stühle da von feinster Politur und an den Wänden Haken in Massen für Hüte und Mäntel, denn der Hobbit hatte Besucher sehr gern. Der Tunnel wand und wand sich, führte aber nicht tief ins Innere des Berges hinein, den alle Leute viele Meilen weit rund im Lande schlechthin »den Berg« nannten. Zahlreiche kleine, runde Türen öffneten sich zu diesem Tunnel, zunächst auf der einen Seite und dann auch auf der anderen. Treppen zu steigen brauchte der Hobbit nicht: Schlafräume, Badezimmer, Keller, Speisekammern (eine Masse von Speisekammern), Kleiderschränke (ganze Räume standen ausschließlich für die Unterbringung seiner Garderobe zur Verfügung), Küchen, Esszimmer – alles lag an demselben langen Korridor. Die besten Zimmer lagen übrigens auf der linken Seite (wenn man hineinkommt), denn ausschließlich diese hatten Fenster, tief gesetzte, runde Fenster, die hinaus auf den Garten blickten und über die Wiesen, die sich gemächlich hinab bis zum Fluss neigten.\n",
      "Dieser Hobbit war ein sehr wohlhabender Hobbit und sein Name war Beutlin. Die Beutlins hatten seit undenklichen Zeiten in der Nachbarschaft des »Berges« gelebt und die Leute hielten sie für außerordentlich achtbar – nicht nur weil die meisten der Beutlins reich, sondern weil sie noch nie in ein Abenteuer verstrickt gewesen waren und nie etwas Unvorhergesehenes getan hatten. Man konnte im Voraus sagen, was ein Beutlin auf eine Frage antworten würde, ohne dass man sich die Mühe machen musste, diese Frage wirklich zu stellen. Dies hier aber ist eine Geschichte von einem Beutlin, der trotzdem Abenteuer erlebte und sich selbst über völlig unvorhergesehene Fragen reden hörte. Vielleicht verlor er bei seinen Nachbarn an Ansehen, aber er gewann – nun, ihr werdet ja sehen, ob er am Ende überhaupt etwas gewann.\n",
      "Die Mutter unseres Hobbits – was ist eigentlich ein Hobbit? Ich glaube, dass die Hobbits heutzutage einer Beschreibung bedürfen, da sie selten geworden sind und scheu vor den »Großen Leuten«, wie sie uns zu nennen pflegen. Sie sind (oder waren) ungefähr halb so groß wie wir und kleiner als die bärtigen Zwerge (sie tragen jedoch keine Bärte). Es ist wenig, sozusagen gar nichts von Zauberei an ihnen, ausgenommen die alltägliche Gabe, rasch und lautlos zu verschwinden, wenn großes dummes Volk wie du und ich angetapst kommt und Radau macht wie Elefanten, was sie übrigens eine Meile weit hören können. Sie neigen dazu, ein bisschen fett in der Magengegend zu werden. Sie kleiden sich in leuchtende Farben (hauptsächlich in Grün und Gelb). Schuhe kennen sie überhaupt nicht, denn an ihren Füßen wachsen natürliche, lederartige Sohlen und dickes, warmes, braunes Haar, ganz ähnlich wie das Zeug auf ihrem Kopf (das übrigens kraus ist). Die Hobbits haben lange, geschickte, braune Finger, gutmütige Gesichter und sie lachen ein tiefes, saftiges Lachen (besonders nach den Mahlzeiten; Mittagessen halten sie zweimal am Tag, wenn sie es bekommen können). Nun, das sei vorerst genug und wir wollen fortfahren.\n",
      "Bilbo Beutlin hieß unser Hobbit und seine Mutter war die berühmte Belladonna Tuk, eine der drei ausgezeichneten Töchter des alten Tuk. Der alte Tuk war das Haupt der Hobbits, die jenseits des »Wassers« wohnten, des schmalen Flusses am Fuß des Berges. Es wurde oft gemunkelt, dass vor langer Zeit einmal ein Tuk eine Fee geheiratet habe. Das war natürlich Unsinn. Aber sicherlich war bei ihnen nicht alles hobbitmäßig. Denn ab und zu ging ein Angehöriger der Tuks fort und stürzte sich in Abenteuer. Sie verschwanden heimlich und die Familie vertuschte es. Tatsache ist jedenfalls, dass die Tuks nicht ganz so geachtet waren wie die Beutlins, obgleich sie unzweifelhaft reicher waren.\n",
      "Nicht, dass Belladonna Tuk jemals in irgendwelche Abenteuer verwickelt gewesen wäre, nachdem sie die Frau von Mister Bungo Beutlin geworden war. Bungo, Bilbos Vater, baute (teilweise mit ihrem Geld) für sie die kostspieligste Hobbithöhle, die jemals unterhalb oder oberhalb des Berges oder jenseits des Wassers gebaut worden war. Und dort lebten sie bis an das Ende ihrer Tage. Indessen ist es wahrscheinlich, dass Bilbo, ihr einziger Sohn, obgleich er doch aussah und sich genauso benahm wie eine zweite Ausgabe seines grundsoliden und behäbigen Vaters, irgendetwas Wunderliches in seinen Anlagen von der Tukseite übernommen hatte. Es war etwas, das nur auf die Chance wartete, um ans Licht zu kommen. Die Chance ergab sich erst, als Bilbo Beutlin etwa fünfzig Jahre alt geworden war, in der wunderschönen Hobbithöhle wohnte, die sein Vater erbaut hatte, und sich augenscheinlich zur Ruhe gesetzt hatte.\n",
      "\n",
      "Quelle: https://www.dtv.de/_files_media/title_pdf/leseprobe-7151.pdf\n",
      "\n",
      "---\n",
      "\n"
     ]
    }
   ],
   "source": [
    "# Beispiel 1\n",
    "\n",
    "f = open(\"Der_kleine_Hobbit_Leseprobe.txt\", encoding='utf8')\n",
    "txt = f.readline()  # 1. Zeile\n",
    "print(txt)\n",
    "print('---')\n",
    "txt = f.readline()  # 2. Zeile\n",
    "print(txt)\n",
    "print('---')\n",
    "txt = f.readline()  # 3. Zeile\n",
    "print(txt)\n",
    "print('---')\n",
    "txt = f.read()  # Rest vom Text\n",
    "print(txt)\n",
    "print('---')\n",
    "txt = f.read()  # Jetzt kann nichts mehr eingelesen werden\n",
    "print(txt)"
   ]
  },
  {
   "cell_type": "markdown",
   "id": "hollywood-default",
   "metadata": {},
   "source": [
    "Beim Einlesen von Dateien verwendet Python quasi einen Cursor, der sich die Position innerhalb der Datei merkt. Beim Öffnen einer Datei befindet sich dieser Cursor ganz am Anfang, deshalb können wir direkt anfangen, Text einzulesen. ``readline()`` liest vom Cursor bis zum nächsten Zeilenumbruch, ``read()`` liest vom Cursor bis zum Ende der Datei. Aufgrund des Cursors kann in Beispiel 1 der zweite Aufruf von ``f.read()`` keinen Text mehr einlesen, da sich der Cursor bereits am Ende der Datei befindet. Mit ``seek()`` können wir die Position des Cursors verwenden. ``seek(0)`` setzt den Cursor wieder an den Anfang der Datei. Die Zahl zählt dabei die Zeichen. Wenn wir nur eine bestimmte Menge Text einlesen wollen, können wir ``read()`` auch mit einer Zahl als Argument aufrufen."
   ]
  },
  {
   "cell_type": "code",
   "execution_count": 16,
   "id": "frozen-friendship",
   "metadata": {},
   "outputs": [
    {
     "name": "stdout",
     "output_type": "stream",
     "text": [
      "Eine unvorhergesehene Gesellschaft\n",
      "\n",
      "---\n",
      "Eine un\n"
     ]
    }
   ],
   "source": [
    "# Beispiel 2\n",
    "\n",
    "f.seek(0)\n",
    "txt = f.readline()\n",
    "print(txt)\n",
    "print('---')\n",
    "f.seek(0)\n",
    "txt = f.read(7)\n",
    "print(txt)"
   ]
  },
  {
   "cell_type": "markdown",
   "id": "professional-humanitarian",
   "metadata": {},
   "source": [
    "Bei der Anzahl der Zeichen werden Escape-Sequenzen mitgezählt! Das heißt, ein Zeilenumbruch zählt als zwei Zeichen, weil die Escape-Sequenz für einen Zeilenumbruch ``\\n`` ist."
   ]
  },
  {
   "cell_type": "code",
   "execution_count": 17,
   "id": "norwegian-pattern",
   "metadata": {},
   "outputs": [
    {
     "name": "stdout",
     "output_type": "stream",
     "text": [
      "'Eine unvorhergesehene Gesellschaft\\n'\n"
     ]
    }
   ],
   "source": [
    "# Beispiel 3\n",
    "\n",
    "f.seek(0)\n",
    "txt = f.readline()\n",
    "print(repr(txt))"
   ]
  },
  {
   "cell_type": "markdown",
   "id": "automated-halloween",
   "metadata": {},
   "source": [
    "### In Dateien schreiben\n",
    "File-Objekte haben auch eine ``.write()`` Funktion, mit der wir Text in eine Datei schreiben können. Probieren wir das mal aus:"
   ]
  },
  {
   "cell_type": "code",
   "execution_count": 19,
   "id": "flying-letter",
   "metadata": {},
   "outputs": [
    {
     "ename": "UnsupportedOperation",
     "evalue": "not writable",
     "output_type": "error",
     "traceback": [
      "\u001b[1;31m---------------------------------------------------------------------------\u001b[0m",
      "\u001b[1;31mUnsupportedOperation\u001b[0m                      Traceback (most recent call last)",
      "\u001b[1;32m<ipython-input-19-a8db89c7f052>\u001b[0m in \u001b[0;36m<module>\u001b[1;34m\u001b[0m\n\u001b[0;32m      1\u001b[0m \u001b[1;31m# Beispiel 4\u001b[0m\u001b[1;33m\u001b[0m\u001b[1;33m\u001b[0m\u001b[1;33m\u001b[0m\u001b[0m\n\u001b[0;32m      2\u001b[0m \u001b[1;33m\u001b[0m\u001b[0m\n\u001b[1;32m----> 3\u001b[1;33m \u001b[0mf\u001b[0m\u001b[1;33m.\u001b[0m\u001b[0mwrite\u001b[0m\u001b[1;33m(\u001b[0m\u001b[1;34m\"neuer Text\"\u001b[0m\u001b[1;33m)\u001b[0m\u001b[1;33m\u001b[0m\u001b[1;33m\u001b[0m\u001b[0m\n\u001b[0m\u001b[0;32m      4\u001b[0m \u001b[1;33m\u001b[0m\u001b[0m\n\u001b[0;32m      5\u001b[0m \u001b[0mf\u001b[0m\u001b[1;33m.\u001b[0m\u001b[0mclose\u001b[0m\u001b[1;33m(\u001b[0m\u001b[1;33m)\u001b[0m\u001b[1;33m\u001b[0m\u001b[1;33m\u001b[0m\u001b[0m\n",
      "\u001b[1;31mUnsupportedOperation\u001b[0m: not writable"
     ]
    }
   ],
   "source": [
    "# Beispiel 4\n",
    "\n",
    "f.write(\"neuer Text\")\n",
    "\n",
    "f.close()"
   ]
  },
  {
   "cell_type": "markdown",
   "id": "executed-ecology",
   "metadata": {},
   "source": [
    "Als Fehlermeldung bekommen wir ``not writable``. Wenn wir eine Datei öffnen, wird diese in einem bestimmten Modus geöffnet. Standardmäßig ist dies der Lesemodus ohne Schreibrechte. Diese Modi gibt es:\n",
    "\n",
    "|Zeichen    |Modus    |\n",
    "|:----------:|:----------|   \n",
    "|'r'| Read mode (standard) |  \n",
    "|'w'| Write mode (überschreibt den vorherigen Dateiinhalt) |  \n",
    "|'a'| Write mode, *append*: setzt die aktuelle Position ans Dateiende |\n",
    "|'x'| Write mode, *exclusive creation*: klappt nur, wenn die Datei noch nicht existiert | \n",
    "|'b'| Binary mode (+ other) |\n",
    "|'+'| Read/Write mode (+ other) |\n",
    "\n",
    "Wenn wir eine Datei mit ``w`` öffnen, können wir also in diese Datei schreiben. Dabei wird allerdings der alte Inhalt der Datei gelöscht. Aber wenn eine Datei noch nicht existiert, wird sie automatisch erstellt."
   ]
  },
  {
   "cell_type": "code",
   "execution_count": 23,
   "id": "forced-belgium",
   "metadata": {},
   "outputs": [
    {
     "ename": "UnsupportedOperation",
     "evalue": "not readable",
     "output_type": "error",
     "traceback": [
      "\u001b[1;31m---------------------------------------------------------------------------\u001b[0m",
      "\u001b[1;31mUnsupportedOperation\u001b[0m                      Traceback (most recent call last)",
      "\u001b[1;32m<ipython-input-23-987ab9ba719d>\u001b[0m in \u001b[0;36m<module>\u001b[1;34m\u001b[0m\n\u001b[0;32m      4\u001b[0m \u001b[0mf\u001b[0m\u001b[1;33m.\u001b[0m\u001b[0mwrite\u001b[0m\u001b[1;33m(\u001b[0m\u001b[1;34m\"Hallo Welt!\"\u001b[0m\u001b[1;33m)\u001b[0m\u001b[1;33m\u001b[0m\u001b[1;33m\u001b[0m\u001b[0m\n\u001b[0;32m      5\u001b[0m \u001b[1;33m\u001b[0m\u001b[0m\n\u001b[1;32m----> 6\u001b[1;33m \u001b[0mtxt\u001b[0m \u001b[1;33m=\u001b[0m \u001b[0mf\u001b[0m\u001b[1;33m.\u001b[0m\u001b[0mread\u001b[0m\u001b[1;33m(\u001b[0m\u001b[1;33m)\u001b[0m\u001b[1;33m\u001b[0m\u001b[1;33m\u001b[0m\u001b[0m\n\u001b[0m\u001b[0;32m      7\u001b[0m \u001b[0mprint\u001b[0m\u001b[1;33m(\u001b[0m\u001b[0mtxt\u001b[0m\u001b[1;33m)\u001b[0m\u001b[1;33m\u001b[0m\u001b[1;33m\u001b[0m\u001b[0m\n",
      "\u001b[1;31mUnsupportedOperation\u001b[0m: not readable"
     ]
    }
   ],
   "source": [
    "# Beispiel 5\n",
    "\n",
    "f = open('bsp_5.txt', 'w')\n",
    "f.write(\"Hallo Welt!\")\n",
    "\n",
    "txt = f.read()\n",
    "print(txt)"
   ]
  },
  {
   "cell_type": "markdown",
   "id": "modified-welsh",
   "metadata": {},
   "source": [
    "Jetzt können wir zwar in die Datei schreiben, aber nicht mehr aus der Datei lesen. Um beides zu ermöglichen, muss ein ``+`` an den Modus angehängt werden. Außerdem müssen wir daran denken, den Cursor wieder an den Anfang zu setzen, wenn wir lesen wollen. Denn auch das Schreiben in eine Datei verschiebt den Cursor entsprechend."
   ]
  },
  {
   "cell_type": "code",
   "execution_count": 47,
   "id": "unnecessary-metropolitan",
   "metadata": {},
   "outputs": [
    {
     "name": "stdout",
     "output_type": "stream",
     "text": [
      "Hallo Welt!\n"
     ]
    }
   ],
   "source": [
    "# Beispiel 6\n",
    "\n",
    "f = open('bsp_5.txt', 'w+')\n",
    "f.write(\"Hallo Welt!\")\n",
    "\n",
    "f.seek(0)\n",
    "txt = f.read()\n",
    "print(txt)\n",
    "f.close()"
   ]
  },
  {
   "cell_type": "markdown",
   "id": "lasting-abortion",
   "metadata": {},
   "source": [
    "#### Buffer\n",
    "Wenn wir mit ``.write()`` in eine Datei schreiben, und die Datei dann vom Dateiexplorer (Windows-Explorer) aus öffnen, kann es sein, dass unser Text noch nicht in der Datei steht. Um die Festplatten zu schonen, wird der Text zunächst in einen Zwischenspeicher geschrieben. Dieser Speicher wird regelmäßg (bei einer bestimmten Datenmenge) in die Datei geschrieben. Das Schreiben aus dem Zwischenspeicher in die Datei kann aber auch von uns veranlasst werden mit der ``.flush()`` Funktion. Beim Schließen der Datei wird auch noch einmal der Zwischenspeicher in die Datei geschrieben.\n",
    "\n",
    "#### ``print()``\n",
    "Wenn wir einen Blick in die Dokumentation der ``print()`` Funktion werfen, sehen wir einen ``file``-Parameter:"
   ]
  },
  {
   "cell_type": "code",
   "execution_count": 48,
   "id": "voluntary-bridge",
   "metadata": {},
   "outputs": [
    {
     "name": "stdout",
     "output_type": "stream",
     "text": [
      "Help on built-in function print in module builtins:\n",
      "\n",
      "print(...)\n",
      "    print(value, ..., sep=' ', end='\\n', file=sys.stdout, flush=False)\n",
      "    \n",
      "    Prints the values to a stream, or to sys.stdout by default.\n",
      "    Optional keyword arguments:\n",
      "    file:  a file-like object (stream); defaults to the current sys.stdout.\n",
      "    sep:   string inserted between values, default a space.\n",
      "    end:   string appended after the last value, default a newline.\n",
      "    flush: whether to forcibly flush the stream.\n",
      "\n"
     ]
    }
   ],
   "source": [
    "help(print)"
   ]
  },
  {
   "cell_type": "markdown",
   "id": "possible-variable",
   "metadata": {},
   "source": [
    "Dieser ist standardmäßig auf ``sys.stdout`` gesetzt, also die Kommandozeile. Es kann aber auch ein File-Objekt übergeben werden. Das ist also eine zweite Möglichkeit, Daten in eine Datei zu schreiben.\n",
    "\n",
    "### Iterable\n",
    "Eine Datei kann auch in einer ``for``-Schleife verwendet werden. Dabei werden nacheinander die Zeilen ausgelesen:"
   ]
  },
  {
   "cell_type": "code",
   "execution_count": 3,
   "id": "ruled-couple",
   "metadata": {},
   "outputs": [
    {
     "name": "stdout",
     "output_type": "stream",
     "text": [
      "'Eine unvorhergesehene Gesellschaft\\n'\n",
      "'\\n'\n",
      "'In einer Höhle in der Erde, da lebte ein Hobbit. Nicht in einem schmutzigen, nas'\n",
      "'Diese Höhle hatte eine kreisrunde Tür wie ein Bullauge. Sie war grün gestrichen '\n",
      "'Dieser Hobbit war ein sehr wohlhabender Hobbit und sein Name war Beutlin. Die Be'\n",
      "'Die Mutter unseres Hobbits – was ist eigentlich ein Hobbit? Ich glaube, dass die'\n",
      "'Bilbo Beutlin hieß unser Hobbit und seine Mutter war die berühmte Belladonna Tuk'\n",
      "'Nicht, dass Belladonna Tuk jemals in irgendwelche Abenteuer verwickelt gewesen w'\n",
      "'\\n'\n",
      "'Quelle: https://www.dtv.de/_files_media/title_pdf/leseprobe-7151.pdf\\n'\n"
     ]
    }
   ],
   "source": [
    "# Beispiel 7\n",
    "\n",
    "f = open(\"Der_kleine_Hobbit_Leseprobe.txt\", encoding='utf8')\n",
    "\n",
    "for line in f:\n",
    "    print(repr(line[:80]))  # gib nur die ersten 80 Zeichen jeder Zeile aus\n",
    "    \n",
    "f.close()"
   ]
  },
  {
   "cell_type": "markdown",
   "id": "turkish-danger",
   "metadata": {},
   "source": [
    "### ``with``\n",
    "Mit dem ``with`` Statement können wir uns das Schließen der Datei sparen."
   ]
  },
  {
   "cell_type": "code",
   "execution_count": 57,
   "id": "occupational-angle",
   "metadata": {},
   "outputs": [
    {
     "name": "stdout",
     "output_type": "stream",
     "text": [
      "Eine unvorhergesehene Gesellschaft\n",
      "\n",
      "True\n"
     ]
    }
   ],
   "source": [
    "# Beispiel 8\n",
    "\n",
    "with open(\"Der_kleine_Hobbit_Leseprobe.txt\") as f:\n",
    "    print(f.readline())\n",
    "\n",
    "print(f.closed)"
   ]
  },
  {
   "cell_type": "markdown",
   "id": "suspended-express",
   "metadata": {},
   "source": [
    "Mit dem ``with`` Statement sagen wir, wir wollen die mit ``open()`` angegebene Datei als ``f`` verwenden. Dies gilt aber nur für den ``with``-Code-Block, also den eingerückten Code. Am Ende dieses Code-Blocks wird die Datei automatisch geschlossen. Mit dem ``.closed`` Attribut können wir prüfen, dass die Datei tatsächlich geschlossen wurde.\n",
    "\n",
    "### Was alles schief gehen kann\n",
    "Beim Arbeiten mit Dateien können diverse Fehler auftreten, zum Beispiel:\n",
    "\n",
    "* Eine Datei, die geöffnet werden soll, existiert nicht. \n",
    "* Eine Datei ist bereits in einem anderem Programm geöffnet.\n",
    "* Ein anderes Programm modifiziert eine Datei während wir sie in Bearbeitung haben.\n",
    "* Ein Benutzer hat nicht die Rechte, eine Datei zu öffnen oder zu ändern.\n",
    "* Ein Laufwerk oder Ordner existiert nicht. \n",
    "* Ein externes Laufwerk wird während des Bearbeitens abgezogen.\n",
    "* Ein Netzlaufwerk ist wegen einer unterbrochenene Netzwerkverbindung nicht mehr verfügbar.\n",
    "* Es ist nicht genügend Speicherplatz vorhanden, um die gewünschten Daten zu Schreiben. \n",
    "* ...\n",
    "\n",
    "Mit ``try-except`` haben wir eine Möglichkeit, diese Fehler abzufangen und entsprechend zu behandeln. Vor allem das Öffnen und Schreiben einer Datei sollte sichergestellt werden, damit die Datei auch im Fehlerfalls korrekt geschlossen werden kann.\n",
    "\n",
    "### ``.split()`` und ``.join()``\n",
    "Mit ``.split()`` können wir einen String an einem bestimmten Zeichen trennen. Das Ergebnis ist eine Liste, die die einzelnen Teile des Strings enthält."
   ]
  },
  {
   "cell_type": "code",
   "execution_count": 58,
   "id": "fifteen-nightmare",
   "metadata": {},
   "outputs": [
    {
     "name": "stdout",
     "output_type": "stream",
     "text": [
      "['Hier', 'steht', 'ein', 'Satz', 'mit', 'sieben', 'Wörtern.']\n"
     ]
    }
   ],
   "source": [
    "# Beispiel 9\n",
    "\n",
    "s = \"Hier steht ein Satz mit sieben Wörtern.\"\n",
    "l = s.split(\" \")  # Leerzeichen als Trenner\n",
    "print(l)"
   ]
  },
  {
   "cell_type": "markdown",
   "id": "functional-salmon",
   "metadata": {},
   "source": [
    "In diesem Beispiel wurde als Trennzeichen das Leerzeichen verwendet. Das heißt, bei jedem Leerzeichen fängt ein neues Element an. Der Trenner selbst, also das Leerzeichen, wird dabei gelöscht.\n",
    "\n",
    "Mit ``.join`` kann diese Liste wieder zu einem String zusammengesetzt werden. ``.join()`` wird dabei auf dem String aufgerufen, der als Bindeglied dienen soll."
   ]
  },
  {
   "cell_type": "code",
   "execution_count": 59,
   "id": "actual-congress",
   "metadata": {},
   "outputs": [
    {
     "name": "stdout",
     "output_type": "stream",
     "text": [
      "Hier--steht--ein--Satz--mit--sieben--Wörtern.\n"
     ]
    }
   ],
   "source": [
    "# Beispiel 10\n",
    "\n",
    "s_neu = '--'.join(l)\n",
    "print(s_neu)"
   ]
  },
  {
   "cell_type": "markdown",
   "id": "prescribed-married",
   "metadata": {},
   "source": [
    "### Übung\n",
    "1. Erstelle eine neue Datei ``zahlen.csv`` und schreibe in diese Datei 100 zufällige ganze Zahlen zwischen 1 und 99. Dabei sollen immer zehn  Zahlen in einer Zeile stehen und die Zahlen mit Kommata getrennt werden. Die Escape-Sequenz für einen Zeilenumbruch ist ``\\n`` und kann direkt in einem String verwendet werden. Die Datei sollte also ungefähr so aussehen:  \n",
    "        5,53,93,30,3,64,46,67,27,46  \n",
    "        51,30,94,98,3,63,85,79,88,55  \n",
    "        60,11,92,...  \n",
    "2. Lies deine Datei ein und berechne für jede Zeile die Summe der Zahlen. Verwende dafür wirklich die Daten, die du aus der Datei eingelesen hast.\n",
    "\n",
    "**Tipp:** Die Zufallszahlen kannst du mit ``random.randint(1,99)`` generieren. Wenn du damit Probleme hast, fange erstmal damit an, irgendetwas in deine Datei zu schreiben, zum Beispiel die Zahlen von 1 bis 10 oder einen beliebigen String.  \n",
    "Wenn du deine Zufallszahlen zusätzlich in einer (oder mehreren) Liste(n) speicherst, kannst du dein Ergebnis kontrollieren. Mit ``sum(<Liste>)`` kannst du die Summe einer Liste berechnen."
   ]
  },
  {
   "cell_type": "code",
   "execution_count": null,
   "id": "exceptional-league",
   "metadata": {},
   "outputs": [],
   "source": [
    "import random\n",
    "\n",
    "# dein Code hier"
   ]
  }
 ],
 "metadata": {
  "kernelspec": {
   "display_name": "Python 3 (ipykernel)",
   "language": "python",
   "name": "python3"
  },
  "language_info": {
   "codemirror_mode": {
    "name": "ipython",
    "version": 3
   },
   "file_extension": ".py",
   "mimetype": "text/x-python",
   "name": "python",
   "nbconvert_exporter": "python",
   "pygments_lexer": "ipython3",
   "version": "3.9.7"
  }
 },
 "nbformat": 4,
 "nbformat_minor": 5
}
