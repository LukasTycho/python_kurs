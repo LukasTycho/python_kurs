{
 "cells": [
  {
   "cell_type": "markdown",
   "id": "7f82e63b",
   "metadata": {},
   "source": [
    "## Iterables\n",
    "Iterables sind Datentypen, die mehrere Elemente haben. Über diese Datentypen kann iteriert werden, das heißt die Elemente können nacheinander durchlaufen werden, zum Beispiel in einer ``for``-Schleife. Wir kennen bereits Strings als einen solchen Datentyp, es gibt allerdings noch weitere: Listen, Tuples und Dictionaries. Diese drei Datentypen können als Elemente wiederum jeden beliebigen Datentyp enthalten. Jedes Element in einem solchen Datentyp erhält einen Index, über den es später wieder aufgerufen werden kann. Dabei gibt es zwei Sorten von Indizes: positionell und keyword."
   ]
  },
  {
   "cell_type": "markdown",
   "id": "c419a453",
   "metadata": {},
   "source": [
    "### Listen\n",
    "Listen enthalten mehrere Werte, die in einer Variable gespeichert werden. Eine Liste wird mit eckigen Klammern geschrieben und die einzelnen Elemente werden mit Kommata voneinander getrennt. "
   ]
  },
  {
   "cell_type": "code",
   "execution_count": 1,
   "id": "a9712a73",
   "metadata": {},
   "outputs": [
    {
     "name": "stdout",
     "output_type": "stream",
     "text": [
      "[1, 2, 3, 4, 5]\n"
     ]
    }
   ],
   "source": [
    "liste_1 = [1, 2, 3, 4, 5]\n",
    "\n",
    "print(liste_1)"
   ]
  },
  {
   "cell_type": "markdown",
   "id": "1c72bc5b",
   "metadata": {},
   "source": [
    "Listen speichern ihre Elemente positionell ab, wenn man also auf ein bestimmtes Element der Liste zugreifen will, kann man dies über seine Position in der Liste als Index tun. Diese Positionen fangen bei ``0`` an für das erste Element. Der Index wird nach der Liste in eckigen Klammern angegeben. Ein zu großer Index wirft einen Fehler."
   ]
  },
  {
   "cell_type": "code",
   "execution_count": 6,
   "id": "e1e986b4",
   "metadata": {},
   "outputs": [
    {
     "name": "stdout",
     "output_type": "stream",
     "text": [
      "1\n"
     ]
    }
   ],
   "source": [
    "print(liste_1[0])  # Index == 0, also 1. Element"
   ]
  },
  {
   "cell_type": "code",
   "execution_count": 5,
   "id": "5525e933",
   "metadata": {},
   "outputs": [
    {
     "name": "stdout",
     "output_type": "stream",
     "text": [
      "3\n"
     ]
    }
   ],
   "source": [
    "print([1, 2, 3][2])  # Liste als Literal, Index == 2, also 3. Element"
   ]
  },
  {
   "cell_type": "code",
   "execution_count": 21,
   "id": "afc9ceea",
   "metadata": {},
   "outputs": [
    {
     "name": "stdout",
     "output_type": "stream",
     "text": [
      "tomato\n"
     ]
    },
    {
     "ename": "IndexError",
     "evalue": "list index out of range",
     "output_type": "error",
     "traceback": [
      "\u001b[1;31m---------------------------------------------------------------------------\u001b[0m",
      "\u001b[1;31mIndexError\u001b[0m                                Traceback (most recent call last)",
      "\u001b[1;32m<ipython-input-21-a66f4323ed1c>\u001b[0m in \u001b[0;36m<module>\u001b[1;34m\u001b[0m\n\u001b[0;32m      2\u001b[0m \u001b[1;33m\u001b[0m\u001b[0m\n\u001b[0;32m      3\u001b[0m \u001b[0mprint\u001b[0m\u001b[1;33m(\u001b[0m\u001b[0mfruits\u001b[0m\u001b[1;33m[\u001b[0m\u001b[1;36m3\u001b[0m\u001b[1;33m]\u001b[0m\u001b[1;33m)\u001b[0m  \u001b[1;31m# tomato\u001b[0m\u001b[1;33m\u001b[0m\u001b[1;33m\u001b[0m\u001b[0m\n\u001b[1;32m----> 4\u001b[1;33m \u001b[0mprint\u001b[0m\u001b[1;33m(\u001b[0m\u001b[0mfruits\u001b[0m\u001b[1;33m[\u001b[0m\u001b[1;36m4\u001b[0m\u001b[1;33m]\u001b[0m\u001b[1;33m)\u001b[0m\u001b[1;33m\u001b[0m\u001b[1;33m\u001b[0m\u001b[0m\n\u001b[0m",
      "\u001b[1;31mIndexError\u001b[0m: list index out of range"
     ]
    }
   ],
   "source": [
    "fruits = ['apple', 'banana', 'pear', 'tomato']  # 4 Elemente, größter Index ist also 3\n",
    "\n",
    "print(fruits[3])  # tomato\n",
    "print(fruits[4])"
   ]
  },
  {
   "cell_type": "markdown",
   "id": "377faa9d",
   "metadata": {},
   "source": [
    "**Wichtig:** Die Fehlermeldung verrät uns direkt, was für ein Fehler vorliegt, und in welcher Zeile der Fehler aufgetreten ist!\n",
    "\n",
    "In Python lassen Listen auch negative Indizes zu. Dabei wird am Ende der Liste angefangen: ``-1`` ist also das letzte Element in der Liste, ``-2`` das vorletzte und so weiter. Auch hier kann es zu einem **``IndexError``** kommen, wenn der Index zu klein gewählt wird."
   ]
  },
  {
   "cell_type": "code",
   "execution_count": 9,
   "id": "79ef1277",
   "metadata": {},
   "outputs": [
    {
     "name": "stdout",
     "output_type": "stream",
     "text": [
      "tomato\n",
      "apple\n"
     ]
    },
    {
     "ename": "IndexError",
     "evalue": "list index out of range",
     "output_type": "error",
     "traceback": [
      "\u001b[1;31m---------------------------------------------------------------------------\u001b[0m",
      "\u001b[1;31mIndexError\u001b[0m                                Traceback (most recent call last)",
      "\u001b[1;32m<ipython-input-9-94dc3d7252f2>\u001b[0m in \u001b[0;36m<module>\u001b[1;34m\u001b[0m\n\u001b[0;32m      1\u001b[0m \u001b[0mprint\u001b[0m\u001b[1;33m(\u001b[0m\u001b[0mfruits\u001b[0m\u001b[1;33m[\u001b[0m\u001b[1;33m-\u001b[0m\u001b[1;36m1\u001b[0m\u001b[1;33m]\u001b[0m\u001b[1;33m)\u001b[0m  \u001b[1;31m# tomato\u001b[0m\u001b[1;33m\u001b[0m\u001b[1;33m\u001b[0m\u001b[0m\n\u001b[0;32m      2\u001b[0m \u001b[0mprint\u001b[0m\u001b[1;33m(\u001b[0m\u001b[0mfruits\u001b[0m\u001b[1;33m[\u001b[0m\u001b[1;33m-\u001b[0m\u001b[1;36m4\u001b[0m\u001b[1;33m]\u001b[0m\u001b[1;33m)\u001b[0m  \u001b[1;31m# apple\u001b[0m\u001b[1;33m\u001b[0m\u001b[1;33m\u001b[0m\u001b[0m\n\u001b[1;32m----> 3\u001b[1;33m \u001b[0mprint\u001b[0m\u001b[1;33m(\u001b[0m\u001b[0mfruits\u001b[0m\u001b[1;33m[\u001b[0m\u001b[1;33m-\u001b[0m\u001b[1;36m5\u001b[0m\u001b[1;33m]\u001b[0m\u001b[1;33m)\u001b[0m\u001b[1;33m\u001b[0m\u001b[1;33m\u001b[0m\u001b[0m\n\u001b[0m",
      "\u001b[1;31mIndexError\u001b[0m: list index out of range"
     ]
    }
   ],
   "source": [
    "print(fruits[-1])  # tomato\n",
    "print(fruits[-4])  # apple\n",
    "print(fruits[-5])"
   ]
  },
  {
   "cell_type": "markdown",
   "id": "8029c9c0",
   "metadata": {},
   "source": [
    "Über den Index können Elemente der Liste durch Neuzuweisung auch verändert werden."
   ]
  },
  {
   "cell_type": "code",
   "execution_count": 22,
   "id": "fa5da693",
   "metadata": {},
   "outputs": [
    {
     "name": "stdout",
     "output_type": "stream",
     "text": [
      "['apple', 'banana', 'pear', 'tomato']\n",
      "['orange', 'banana', 'pear', 'tomato']\n"
     ]
    }
   ],
   "source": [
    "print(fruits)\n",
    "\n",
    "fruits[0] = 'orange'\n",
    "\n",
    "print(fruits)"
   ]
  },
  {
   "cell_type": "markdown",
   "id": "98ecdba1",
   "metadata": {},
   "source": [
    "Um ein Element aus einer Liste zu entfernen, gibt es zwei Möglichkeiten: ``del`` und ``remove``. ``del`` ist ein keyword, welches eine Variable oder, wie in diesem Fall, ein Teil einer Variablen aus dem Speicher löscht. ``remove`` ist eine Funktion von Listen, Tuples und Dicts, die den spezifizierten Wert aus der Liste löscht. Wenn dieser Wert mehrfach vorhanden ist, wird nur der erste Wert, also derjenige mit dem kleinsten Index, gelöscht."
   ]
  },
  {
   "cell_type": "code",
   "execution_count": 23,
   "id": "413e3fe5",
   "metadata": {},
   "outputs": [
    {
     "name": "stdout",
     "output_type": "stream",
     "text": [
      "['orange', 'banana', 'pear']\n"
     ]
    }
   ],
   "source": [
    "del fruits[3]\n",
    "print(fruits)"
   ]
  },
  {
   "cell_type": "code",
   "execution_count": 32,
   "id": "67ed81fa",
   "metadata": {},
   "outputs": [
    {
     "name": "stdout",
     "output_type": "stream",
     "text": [
      "['orange', 'pear']\n"
     ]
    }
   ],
   "source": [
    "fruits.remove('banana')\n",
    "print(fruits)"
   ]
  },
  {
   "cell_type": "code",
   "execution_count": 24,
   "id": "396f3dd5",
   "metadata": {},
   "outputs": [
    {
     "name": "stdout",
     "output_type": "stream",
     "text": [
      "[1, 2, 3, 1, 4, 5, 1, 6]\n",
      "[2, 3, 1, 4, 5, 1, 6]\n"
     ]
    }
   ],
   "source": [
    "liste_2 = [1, 2, 3, 1, 4, 5, 1, 6]\n",
    "\n",
    "print(liste_2)\n",
    "\n",
    "liste_2.remove(1)\n",
    "\n",
    "print(liste_2)"
   ]
  },
  {
   "cell_type": "markdown",
   "id": "02abffab",
   "metadata": {},
   "source": [
    "> ###### Einschub: Punkt-Notation bei Funktionen\n",
    "> Die ``remove``-Funktion wird auf einer Liste aufgerufen, indem die Funktion mit einem Punkt ``.`` an die Liste bzw. die Variable angehängt wird. Dieser Punkt bedeutet, dass die Funktion ein Teil der Variablen ist. In diesem Fall ist die ``remove``-Funktion ein Teil des Datentyps Liste und kann deshalb auf jeder Liste aufgerufen werden. Selbiges kennen wir zum Beispiel auch bereits von Strings mit den Funktionen ``.lower()`` und ``.upper()``. Diese Funktionen sind Bestandteil des Datentyps String."
   ]
  },
  {
   "cell_type": "markdown",
   "id": "a9ae5e43",
   "metadata": {},
   "source": [
    "Um eine leere Liste zu erzeugen kann man einfach zwei eckige Klammern ohne Elemente schreiben. Eine andere Möglichkeit ist der Aufruf ``list()``. Ohne Argument erzeugt dies einfach eine leere Liste. Alternativ kann auch ein Argument übergeben werden: bei dem Argument muss es sich dabei um einen iterierbaren Wert handeln, der dann in eine Liste umgewandelt wird."
   ]
  },
  {
   "cell_type": "code",
   "execution_count": 30,
   "id": "a2157dd7",
   "metadata": {},
   "outputs": [
    {
     "name": "stdout",
     "output_type": "stream",
     "text": [
      "[]\n",
      "[]\n",
      "[1, 2, 3]\n",
      "['H', 'a', 'l', 'l', 'o']\n"
     ]
    }
   ],
   "source": [
    "a = []\n",
    "b = list()\n",
    "c = list([1, 2, 3])\n",
    "d = list('Hallo')\n",
    "\n",
    "print(a)\n",
    "print(b)\n",
    "print(c)\n",
    "print(d)"
   ]
  },
  {
   "cell_type": "markdown",
   "id": "6ae98bd2",
   "metadata": {},
   "source": [
    "Mit der ``.append()`` Funktion kann ein neues Element an eine Liste angehängt werden. Mit der ``.insert(i, elem)`` Funktion kann ein Element ``elem`` beim Index ``i`` in eine Liste eingefügt werden."
   ]
  },
  {
   "cell_type": "code",
   "execution_count": 38,
   "id": "1db323f9",
   "metadata": {},
   "outputs": [
    {
     "name": "stdout",
     "output_type": "stream",
     "text": [
      "['cucumber', 'onion']\n",
      "['cucumber', 'onion', 'zucchini']\n",
      "['cucumber', 'onion', 'pumpkin', 'zucchini']\n"
     ]
    }
   ],
   "source": [
    "veggies = [\"cucumber\", \"onion\"]\n",
    "\n",
    "print(veggies)\n",
    "\n",
    "veggies.append(\"zucchini\")\n",
    "\n",
    "print(veggies)\n",
    "\n",
    "veggies.insert(2, \"pumpkin\")  # Index == 2, also 3. Element\n",
    "\n",
    "print(veggies)"
   ]
  },
  {
   "cell_type": "markdown",
   "id": "723a9403",
   "metadata": {},
   "source": [
    "Wie bereits erwähnt können for-Schleifen über Listen laufen. Dabei werden die Elemente der Liste in ihrer Reihenfolge nacheinander durchlaufen. Die einzelnen Elemnte werden dabei einer temporären Variable zugewiesen, die aber dann keinen Bezug mehr auf die Liste hat. Wenn diese temporäre Variable verändert wird, ändert das **nicht** die Liste. Eine andere Möglichkeit ist die ``len()`` Funktion. Diese nimmt als Argument ein iterierbares Objekt und gibt die Anzahl der Elemente zurück. Dabei denken wir wieder daran: der Index fängt bei ``0`` an, die Länge einer Liste ist also immer um eins größer als der größte Index. Daher eignet sich die Länge gut für eine ``range()``."
   ]
  },
  {
   "cell_type": "code",
   "execution_count": 39,
   "id": "32f8c865",
   "metadata": {},
   "outputs": [
    {
     "name": "stdout",
     "output_type": "stream",
     "text": [
      "1\n",
      "2\n",
      "3\n",
      "4\n",
      "5\n"
     ]
    }
   ],
   "source": [
    "l = [1, 2, 3, 4, 5]\n",
    "\n",
    "for elem in l:\n",
    "    print(elem)"
   ]
  },
  {
   "cell_type": "code",
   "execution_count": 44,
   "id": "483c8457",
   "metadata": {},
   "outputs": [
    {
     "name": "stdout",
     "output_type": "stream",
     "text": [
      "[1, 2, 3, 4, 5]\n",
      "6\n",
      "7\n",
      "8\n",
      "9\n",
      "10\n",
      "[1, 2, 3, 4, 5]\n"
     ]
    }
   ],
   "source": [
    "l2 = [1, 2, 3, 4, 5]\n",
    "print(l2)\n",
    "\n",
    "for elem in l2:\n",
    "    elem += 5  # Liste wird nicht verändert\n",
    "    print(elem)\n",
    "    \n",
    "print(l2)"
   ]
  },
  {
   "cell_type": "code",
   "execution_count": 41,
   "id": "7192b505",
   "metadata": {},
   "outputs": [
    {
     "name": "stdout",
     "output_type": "stream",
     "text": [
      "[1, 2, 3, 4, 5]\n",
      "[6, 7, 8, 9, 10]\n"
     ]
    }
   ],
   "source": [
    "l3 = [1, 2, 3, 4, 5]\n",
    "print(l3)\n",
    "\n",
    "for i in range(len(l3)):  # i als Index\n",
    "    l3[i] += 5  # Liste wird verändert\n",
    "    \n",
    "print(l3)"
   ]
  },
  {
   "cell_type": "markdown",
   "id": "d135d8d4",
   "metadata": {},
   "source": [
    "### Tuples\n",
    "Tuples funktionieren im Prinzip wie Listen, nur dass sie *immutable* sind. Das heißt, dass sie nicht veränderbar sind. Tuples werden mit runden Klammern geschrieben. Wie bei Listen kann über den Index auf einzelne Elemente eines Tuples zugegriffen werden, allerdings können diese nicht überschrieben werden. Ebenso kann an einen Tuple kein neues Element angehängt werden. Nach der initialen Zuweisung kann ein Tuple **nicht** mehr verändert werden."
   ]
  },
  {
   "cell_type": "code",
   "execution_count": 45,
   "id": "85ddfffc",
   "metadata": {},
   "outputs": [
    {
     "name": "stdout",
     "output_type": "stream",
     "text": [
      "(1, 2, 3)\n",
      "1\n",
      "1\n",
      "2\n",
      "3\n"
     ]
    }
   ],
   "source": [
    "t = (1, 2, 3)\n",
    "\n",
    "print(t)\n",
    "\n",
    "print(t[0])\n",
    "\n",
    "for elem in t:\n",
    "    print(elem)"
   ]
  },
  {
   "cell_type": "code",
   "execution_count": 47,
   "id": "f4abe339",
   "metadata": {},
   "outputs": [
    {
     "ename": "TypeError",
     "evalue": "'tuple' object does not support item assignment",
     "output_type": "error",
     "traceback": [
      "\u001b[1;31m---------------------------------------------------------------------------\u001b[0m",
      "\u001b[1;31mTypeError\u001b[0m                                 Traceback (most recent call last)",
      "\u001b[1;32m<ipython-input-47-c53026d12066>\u001b[0m in \u001b[0;36m<module>\u001b[1;34m\u001b[0m\n\u001b[1;32m----> 1\u001b[1;33m \u001b[0mt\u001b[0m\u001b[1;33m[\u001b[0m\u001b[1;36m1\u001b[0m\u001b[1;33m]\u001b[0m \u001b[1;33m=\u001b[0m \u001b[1;36m5\u001b[0m\u001b[1;33m\u001b[0m\u001b[1;33m\u001b[0m\u001b[0m\n\u001b[0m",
      "\u001b[1;31mTypeError\u001b[0m: 'tuple' object does not support item assignment"
     ]
    }
   ],
   "source": [
    "t[1] = 5"
   ]
  },
  {
   "cell_type": "code",
   "execution_count": 48,
   "id": "b68204ec",
   "metadata": {},
   "outputs": [
    {
     "ename": "AttributeError",
     "evalue": "'tuple' object has no attribute 'append'",
     "output_type": "error",
     "traceback": [
      "\u001b[1;31m---------------------------------------------------------------------------\u001b[0m",
      "\u001b[1;31mAttributeError\u001b[0m                            Traceback (most recent call last)",
      "\u001b[1;32m<ipython-input-48-ada7ed8a579e>\u001b[0m in \u001b[0;36m<module>\u001b[1;34m\u001b[0m\n\u001b[1;32m----> 1\u001b[1;33m \u001b[0mt\u001b[0m\u001b[1;33m.\u001b[0m\u001b[0mappend\u001b[0m\u001b[1;33m(\u001b[0m\u001b[1;36m4\u001b[0m\u001b[1;33m)\u001b[0m\u001b[1;33m\u001b[0m\u001b[1;33m\u001b[0m\u001b[0m\n\u001b[0m",
      "\u001b[1;31mAttributeError\u001b[0m: 'tuple' object has no attribute 'append'"
     ]
    }
   ],
   "source": [
    "t.append(4)"
   ]
  },
  {
   "cell_type": "code",
   "execution_count": 49,
   "id": "d48f51f5",
   "metadata": {},
   "outputs": [
    {
     "ename": "AttributeError",
     "evalue": "'tuple' object has no attribute 'remove'",
     "output_type": "error",
     "traceback": [
      "\u001b[1;31m---------------------------------------------------------------------------\u001b[0m",
      "\u001b[1;31mAttributeError\u001b[0m                            Traceback (most recent call last)",
      "\u001b[1;32m<ipython-input-49-e105b2f059c5>\u001b[0m in \u001b[0;36m<module>\u001b[1;34m\u001b[0m\n\u001b[1;32m----> 1\u001b[1;33m \u001b[0mt\u001b[0m\u001b[1;33m.\u001b[0m\u001b[0mremove\u001b[0m\u001b[1;33m(\u001b[0m\u001b[1;36m3\u001b[0m\u001b[1;33m)\u001b[0m\u001b[1;33m\u001b[0m\u001b[1;33m\u001b[0m\u001b[0m\n\u001b[0m",
      "\u001b[1;31mAttributeError\u001b[0m: 'tuple' object has no attribute 'remove'"
     ]
    }
   ],
   "source": [
    "t.remove(3)"
   ]
  },
  {
   "cell_type": "code",
   "execution_count": 50,
   "id": "7651f346",
   "metadata": {},
   "outputs": [
    {
     "ename": "TypeError",
     "evalue": "'tuple' object doesn't support item deletion",
     "output_type": "error",
     "traceback": [
      "\u001b[1;31m---------------------------------------------------------------------------\u001b[0m",
      "\u001b[1;31mTypeError\u001b[0m                                 Traceback (most recent call last)",
      "\u001b[1;32m<ipython-input-50-2d0f41a77003>\u001b[0m in \u001b[0;36m<module>\u001b[1;34m\u001b[0m\n\u001b[1;32m----> 1\u001b[1;33m \u001b[1;32mdel\u001b[0m \u001b[0mt\u001b[0m\u001b[1;33m[\u001b[0m\u001b[1;36m2\u001b[0m\u001b[1;33m]\u001b[0m\u001b[1;33m\u001b[0m\u001b[1;33m\u001b[0m\u001b[0m\n\u001b[0m",
      "\u001b[1;31mTypeError\u001b[0m: 'tuple' object doesn't support item deletion"
     ]
    }
   ],
   "source": [
    "del t[2]"
   ]
  },
  {
   "cell_type": "markdown",
   "id": "58c28f52",
   "metadata": {},
   "source": [
    "> Selbiges tirfft übrigens auch auf Strings zu. Strings sind, wie Tuples, *immutable*."
   ]
  },
  {
   "cell_type": "code",
   "execution_count": 52,
   "id": "a8479ed9",
   "metadata": {},
   "outputs": [
    {
     "name": "stdout",
     "output_type": "stream",
     "text": [
      "l\n"
     ]
    },
    {
     "ename": "TypeError",
     "evalue": "'str' object does not support item assignment",
     "output_type": "error",
     "traceback": [
      "\u001b[1;31m---------------------------------------------------------------------------\u001b[0m",
      "\u001b[1;31mTypeError\u001b[0m                                 Traceback (most recent call last)",
      "\u001b[1;32m<ipython-input-52-906504e1269b>\u001b[0m in \u001b[0;36m<module>\u001b[1;34m\u001b[0m\n\u001b[0;32m      3\u001b[0m \u001b[0mprint\u001b[0m\u001b[1;33m(\u001b[0m\u001b[0ms\u001b[0m\u001b[1;33m[\u001b[0m\u001b[1;36m3\u001b[0m\u001b[1;33m]\u001b[0m\u001b[1;33m)\u001b[0m\u001b[1;33m\u001b[0m\u001b[1;33m\u001b[0m\u001b[0m\n\u001b[0;32m      4\u001b[0m \u001b[1;33m\u001b[0m\u001b[0m\n\u001b[1;32m----> 5\u001b[1;33m \u001b[0ms\u001b[0m\u001b[1;33m[\u001b[0m\u001b[1;36m3\u001b[0m\u001b[1;33m]\u001b[0m \u001b[1;33m=\u001b[0m \u001b[1;34m'x'\u001b[0m\u001b[1;33m\u001b[0m\u001b[1;33m\u001b[0m\u001b[0m\n\u001b[0m",
      "\u001b[1;31mTypeError\u001b[0m: 'str' object does not support item assignment"
     ]
    }
   ],
   "source": [
    "s = \"Hello World\"\n",
    "\n",
    "print(s[3])\n",
    "\n",
    "s[3] = 'x'"
   ]
  },
  {
   "cell_type": "code",
   "execution_count": 53,
   "id": "11407896",
   "metadata": {},
   "outputs": [
    {
     "ename": "AttributeError",
     "evalue": "'str' object has no attribute 'remove'",
     "output_type": "error",
     "traceback": [
      "\u001b[1;31m---------------------------------------------------------------------------\u001b[0m",
      "\u001b[1;31mAttributeError\u001b[0m                            Traceback (most recent call last)",
      "\u001b[1;32m<ipython-input-53-ca78b73fb3fb>\u001b[0m in \u001b[0;36m<module>\u001b[1;34m\u001b[0m\n\u001b[1;32m----> 1\u001b[1;33m \u001b[0ms\u001b[0m\u001b[1;33m.\u001b[0m\u001b[0mremove\u001b[0m\u001b[1;33m(\u001b[0m\u001b[1;34m'H'\u001b[0m\u001b[1;33m)\u001b[0m\u001b[1;33m\u001b[0m\u001b[1;33m\u001b[0m\u001b[0m\n\u001b[0m",
      "\u001b[1;31mAttributeError\u001b[0m: 'str' object has no attribute 'remove'"
     ]
    }
   ],
   "source": [
    "s.remove('H')"
   ]
  },
  {
   "cell_type": "markdown",
   "id": "40426419",
   "metadata": {},
   "source": [
    "Um ein Tuple mit nur einem Element zu erzeugen, muss trotzdem ein Komma nach diesem Element gesetzt werden, bevor die schließende Klammer kommt. Da Klammern auch zur Priorisierung von Aktionen verwendet werden, wird ein Wert ohne Komma nur als einfacher Wert interpretiert. Leere Tuples können allerdings mit leeren Klammern erzeugt werden, da diese im Nachhinein jedoch nicht mehr gefüllt werden können, wird diese Funktion in der Regel nicht benötigt."
   ]
  },
  {
   "cell_type": "code",
   "execution_count": 57,
   "id": "1de44b72",
   "metadata": {},
   "outputs": [
    {
     "name": "stdout",
     "output_type": "stream",
     "text": [
      "(2,) Type: <class 'tuple'>\n",
      "2 Type: <class 'int'>\n",
      "() Type: <class 'tuple'>\n"
     ]
    }
   ],
   "source": [
    "t1 = (2,)  # tuple mit einem Element\n",
    "print(t1, type(t1))\n",
    "\n",
    "t2 = (2)  # ohne Klammer ist es nur ein int\n",
    "print(t2, type(t2))\n",
    "\n",
    "t3 = ()\n",
    "print(t3, type(t3))"
   ]
  },
  {
   "cell_type": "markdown",
   "id": "5f3c8a4b",
   "metadata": {},
   "source": [
    "Listen und Tuples können über die entsprechenden Aufrufe ``list()`` und ``tuple()`` in den jeweils anderen Typ umgewandelt werden."
   ]
  },
  {
   "cell_type": "code",
   "execution_count": 58,
   "id": "fdfcc918",
   "metadata": {},
   "outputs": [
    {
     "name": "stdout",
     "output_type": "stream",
     "text": [
      "(1, 2, 3) <class 'tuple'>\n",
      "[1, 2, 3] <class 'list'>\n",
      "(4, 5, 6) <class 'tuple'>\n",
      "[4, 5, 6] <class 'list'>\n"
     ]
    }
   ],
   "source": [
    "t1 = (1, 2, 3)\n",
    "l1 = list(t1)\n",
    "\n",
    "l2 = [4, 5, 6]\n",
    "t2 = tuple(l2)\n",
    "\n",
    "print(t1, type(t1))\n",
    "print(l1, type(l1))\n",
    "print(t2, type(t2))\n",
    "print(l2, type(l2))"
   ]
  },
  {
   "cell_type": "markdown",
   "id": "12bd2b86",
   "metadata": {},
   "source": [
    "### Dictionaries\n",
    "Auch Dictionaries enthalten mehrere Elemente, diese haben allerdings keinen positionellen Index, sondern einen keyword-Index. Dictionaries bestehen also aus mehreren (oder einem) key-value Paaren. Dictionaries werden mit geschweiften Klammern geschrieben, je Paar kommt zunächst der key, dann ein Doppelpunkt, und dann der value. Die einzelnen Paare werden durch Kommata voneinander getrennt. Einzelne Elemente des Dicts können über das entsprechende keyword als Index aufgerufen und verändert werden. Ebenso können mit einem neuen Index auch neue Paare hinzugefügt werden."
   ]
  },
  {
   "cell_type": "code",
   "execution_count": 1,
   "id": "5996745b",
   "metadata": {},
   "outputs": [
    {
     "name": "stdout",
     "output_type": "stream",
     "text": [
      "{'brand': 'Honda', 'model': 'Civic', 'year': 2005, 'color': 'midnight blue', 'doors': 4}\n",
      "midnight blue\n",
      "red\n",
      "{'brand': 'Honda', 'model': 'Civic', 'year': 2005, 'color': 'red', 'doors': 4, 'convertible': False}\n"
     ]
    }
   ],
   "source": [
    "auto = {\"brand\": \"Honda\", \"model\": \"Civic\", \"year\": 2005, \"color\": \"midnight blue\", \"doors\": 4}\n",
    "\n",
    "print(auto)\n",
    "\n",
    "print(auto['color'])\n",
    "\n",
    "auto['color'] = \"red\"\n",
    "\n",
    "print(auto['color'])\n",
    "\n",
    "auto['convertible'] = False\n",
    "\n",
    "print(auto)"
   ]
  },
  {
   "cell_type": "markdown",
   "id": "1d4d05ca",
   "metadata": {},
   "source": [
    "Die keywords müssen keine Worte bzw. Strings sein. Deshalb wird oft auch einfach nur der Begriff key verwendet. Das ist auch der Grund, weshalb nur die Keys als Index verwendet werden können, und **nicht** die Positionen."
   ]
  },
  {
   "cell_type": "code",
   "execution_count": 65,
   "id": "070b5b08",
   "metadata": {},
   "outputs": [
    {
     "name": "stdout",
     "output_type": "stream",
     "text": [
      "one\n"
     ]
    }
   ],
   "source": [
    "nums = {5: \"five\", 2: \"two\", 3: \"three\", 1: \"one\"}\n",
    "\n",
    "print(nums[1])"
   ]
  },
  {
   "cell_type": "markdown",
   "id": "60bea37e",
   "metadata": {},
   "source": [
    "Bei Dicts liefert die ``len()`` Funktion die Anzahl der key-value Paare. Möchte man nur die keys oder nur die values erhalten, kann man die Funktionen ``.keys()`` und ``.values()`` verwenden. In einer for-Schleife über ein Dict wird standardmäßig über die keys gelaufen. Mit der Funktion ``.items()`` werden die key-value Paare als Tuple zurück gegeben."
   ]
  },
  {
   "cell_type": "code",
   "execution_count": 2,
   "id": "95911578",
   "metadata": {},
   "outputs": [
    {
     "name": "stdout",
     "output_type": "stream",
     "text": [
      "6\n",
      "dict_keys(['brand', 'model', 'year', 'color', 'doors', 'convertible'])\n",
      "dict_values(['Honda', 'Civic', 2005, 'red', 4, False])\n",
      "dict_items([('brand', 'Honda'), ('model', 'Civic'), ('year', 2005), ('color', 'red'), ('doors', 4), ('convertible', False)])\n"
     ]
    }
   ],
   "source": [
    "print(len(auto))\n",
    "print(auto.keys())\n",
    "print(auto.values())\n",
    "print(auto.items())"
   ]
  },
  {
   "cell_type": "code",
   "execution_count": 103,
   "id": "11e3d486",
   "metadata": {},
   "outputs": [
    {
     "name": "stdout",
     "output_type": "stream",
     "text": [
      "brand\n",
      "model\n",
      "year\n",
      "color\n",
      "doors\n",
      "convertible\n"
     ]
    }
   ],
   "source": [
    "for x in auto:\n",
    "    print(x)"
   ]
  },
  {
   "cell_type": "code",
   "execution_count": 104,
   "id": "d09db9a1",
   "metadata": {},
   "outputs": [
    {
     "name": "stdout",
     "output_type": "stream",
     "text": [
      "Honda\n",
      "Civic\n",
      "2005\n",
      "red\n",
      "4\n",
      "False\n"
     ]
    }
   ],
   "source": [
    "for x in auto.values():\n",
    "    print(x)"
   ]
  },
  {
   "cell_type": "code",
   "execution_count": 105,
   "id": "09833b10",
   "metadata": {},
   "outputs": [
    {
     "name": "stdout",
     "output_type": "stream",
     "text": [
      "brand - Honda\n",
      "model - Civic\n",
      "year - 2005\n",
      "color - red\n",
      "doors - 4\n",
      "convertible - False\n"
     ]
    }
   ],
   "source": [
    "for x in auto:\n",
    "    print(x, '-', auto[x])"
   ]
  },
  {
   "cell_type": "code",
   "execution_count": 106,
   "id": "c4328365",
   "metadata": {},
   "outputs": [
    {
     "name": "stdout",
     "output_type": "stream",
     "text": [
      "brand - Honda\n",
      "model - Civic\n",
      "year - 2005\n",
      "color - red\n",
      "doors - 4\n",
      "convertible - False\n"
     ]
    }
   ],
   "source": [
    "for x, y in auto.items():\n",
    "    print(x, '-', y)"
   ]
  },
  {
   "cell_type": "markdown",
   "id": "1816da1f",
   "metadata": {},
   "source": [
    "> ###### Einschub: Mehrere Rückgabewerte\n",
    "> In Python kann eine Funktion mehrere Werte gleichzeitig zurück geben, wie zum Beispiel die ``.items()`` Funktion bei Dicts. Diese Werte können direkt in mehrere Variablen gespeichert werden, die einfach durch Kommata voneinander getrennt werden. In einer for-Schleife wie im obigen Beispiel kann so auch direkt über mehrere Variablen gleichzeitig gelaufen werden."
   ]
  },
  {
   "cell_type": "markdown",
   "id": "29180e90",
   "metadata": {},
   "source": [
    "### Sets\n",
    "Sets enthalten auch mehrere Elemente, sind aber ungeordnet und ohne keys. Das heißt, die Elemente können nicht über einen Index aufgerufen werden. Ebenfalls können Sets keine doppelten Elemente enthalten. Sets werden auch mit geschweiften Klammern geschrieben."
   ]
  },
  {
   "cell_type": "code",
   "execution_count": 91,
   "id": "3e675ebe",
   "metadata": {},
   "outputs": [
    {
     "name": "stdout",
     "output_type": "stream",
     "text": [
      "{'apple', 'banana', 'orange'}\n"
     ]
    }
   ],
   "source": [
    "s = {'apple', 'banana', 'orange', 'apple'}  # das zweite 'apple' wird ignoriert\n",
    "print(s)"
   ]
  },
  {
   "cell_type": "code",
   "execution_count": 93,
   "id": "1fe4da26",
   "metadata": {},
   "outputs": [
    {
     "ename": "TypeError",
     "evalue": "'set' object is not subscriptable",
     "output_type": "error",
     "traceback": [
      "\u001b[1;31m---------------------------------------------------------------------------\u001b[0m",
      "\u001b[1;31mTypeError\u001b[0m                                 Traceback (most recent call last)",
      "\u001b[1;32m<ipython-input-93-b165bd46c8fc>\u001b[0m in \u001b[0;36m<module>\u001b[1;34m\u001b[0m\n\u001b[1;32m----> 1\u001b[1;33m \u001b[0mprint\u001b[0m\u001b[1;33m(\u001b[0m\u001b[0ms\u001b[0m\u001b[1;33m[\u001b[0m\u001b[1;36m0\u001b[0m\u001b[1;33m]\u001b[0m\u001b[1;33m)\u001b[0m  \u001b[1;31m# Indizes werfen einen Fehler\u001b[0m\u001b[1;33m\u001b[0m\u001b[1;33m\u001b[0m\u001b[0m\n\u001b[0m",
      "\u001b[1;31mTypeError\u001b[0m: 'set' object is not subscriptable"
     ]
    }
   ],
   "source": [
    "print(s[0])  # Indizes werfen einen Fehler"
   ]
  },
  {
   "cell_type": "code",
   "execution_count": 94,
   "id": "d5a19593",
   "metadata": {},
   "outputs": [
    {
     "name": "stdout",
     "output_type": "stream",
     "text": [
      "True\n"
     ]
    }
   ],
   "source": [
    "print('apple' in s)  # das 'in' keyword funktioniert aber noch"
   ]
  },
  {
   "cell_type": "code",
   "execution_count": 96,
   "id": "6db92c14",
   "metadata": {},
   "outputs": [
    {
     "name": "stdout",
     "output_type": "stream",
     "text": [
      "apple\n",
      "banana\n",
      "orange\n"
     ]
    }
   ],
   "source": [
    "for x in s:  # eine for-Schleife kann auch über ein Set laufen\n",
    "    print(x)"
   ]
  },
  {
   "cell_type": "markdown",
   "id": "a938c592",
   "metadata": {},
   "source": [
    "Um einem Set ein neues Element hinzuzufügen, gibt es die ``.add()`` Funktion."
   ]
  },
  {
   "cell_type": "code",
   "execution_count": 97,
   "id": "1d6eb15d",
   "metadata": {},
   "outputs": [
    {
     "name": "stdout",
     "output_type": "stream",
     "text": [
      "{'cherry', 'apple', 'banana', 'orange'}\n"
     ]
    }
   ],
   "source": [
    "s.add('cherry')\n",
    "print(s)"
   ]
  },
  {
   "cell_type": "markdown",
   "id": "5f8b6335",
   "metadata": {},
   "source": [
    "## Referenzvariablen\n",
    "Wenn eine Liste o.ä. einer Variablen zugewiesen wird, handelt es sich dabei nur um eine Referenz auf die Liste. Um das besser zu verstehen, betrachten wir zunächst nochmal primitive Datentypen:"
   ]
  },
  {
   "cell_type": "code",
   "execution_count": 110,
   "id": "198fe46c",
   "metadata": {},
   "outputs": [
    {
     "name": "stdout",
     "output_type": "stream",
     "text": [
      "7 5\n"
     ]
    }
   ],
   "source": [
    "a = 5\n",
    "b = a  # also b = 5\n",
    "a += 2\n",
    "\n",
    "print(a, b)"
   ]
  },
  {
   "cell_type": "markdown",
   "id": "c4993c83",
   "metadata": {},
   "source": [
    "Wir haben in Zeile zwei gesagt, dass ``b = a`` ist. Danach haben wir ``a`` verändert, ``b`` hat aber den Wert 5 behalten. ``a`` und ``b`` sind also trotz der Gleichsetzung in Zeile 2 voneinander unabhängig. Das liegt daran, dass bei primitiven Datentypen der entsprechende Wert direkt in der Variable gespeichert wird.\n",
    "\n",
    "Bei Listen o.ä. ist das etwas anders:"
   ]
  },
  {
   "cell_type": "code",
   "execution_count": 113,
   "id": "5b643461",
   "metadata": {},
   "outputs": [
    {
     "name": "stdout",
     "output_type": "stream",
     "text": [
      "[1, 2, 3] [1, 2, 3]\n",
      "[1, 2, 3, 4] [1, 2, 3, 4]\n",
      "[5, 6, 7] [1, 2, 3, 4]\n"
     ]
    }
   ],
   "source": [
    "a = [1, 2, 3]\n",
    "b = a\n",
    "print(a, b)  # a und b sind identisch\n",
    "\n",
    "a.append(4)  # a wird verändert, b nicht...\n",
    "print(a, b)  # ...aber trotzdem hat auch b eine 4 am Ende\n",
    "\n",
    "a = [5, 6, 7]  # dies ist eine komplette Neuzuweisung\n",
    "print(a, b)  # deshalb sind a und b jetzt unterschiedlich"
   ]
  },
  {
   "cell_type": "markdown",
   "id": "f4ce1a27",
   "metadata": {},
   "source": [
    "Bei Listen enthalten die Variablen nur einen Zeiger auf die tatsächliche Liste. Wenn also in Zeile 2 die Listen gleich gesetzt werden, enthalten beide Variablen denselben Zeiger auf dieselbe Liste. Deshalb ist jede Änderung an ``a`` auch eine Änderung an ``b``. In Zeile 8 wird ``a`` eine neue Liste zugewiesen. Dadurch bekommt ``a`` einen neuen Zeiger auf diese neue Liste, ``b`` behält aber den alten Zeiger.\n",
    "\n",
    "Mit der Funktion ``id()`` können wir uns anschauen, auf welche Speicherposition eine Variable zeigt:"
   ]
  },
  {
   "cell_type": "code",
   "execution_count": 116,
   "id": "c42a3997",
   "metadata": {},
   "outputs": [
    {
     "name": "stdout",
     "output_type": "stream",
     "text": [
      "140715699156960\n",
      "140715699156896\n",
      "1871200754944\n",
      "1871200754944\n"
     ]
    }
   ],
   "source": [
    "a = 5\n",
    "b = a\n",
    "a += 2\n",
    "\n",
    "c = [1, 2, 3]\n",
    "d = c\n",
    "c.append(4)\n",
    "\n",
    "print(id(a))\n",
    "print(id(b))\n",
    "print(id(c))\n",
    "print(id(d))"
   ]
  },
  {
   "cell_type": "markdown",
   "id": "b1523c72",
   "metadata": {},
   "source": [
    "Diese Referenzeigenschaft von komplexen Datentypen ist sehr wichtig und muss immer im Hinterkopf behalten werden!"
   ]
  },
  {
   "cell_type": "code",
   "execution_count": 3,
   "id": "b13d1df9",
   "metadata": {},
   "outputs": [
    {
     "name": "stdout",
     "output_type": "stream",
     "text": [
      "[1, 2, 3, 4] [1, 2, 3]\n"
     ]
    }
   ],
   "source": [
    "a = [1, 2, 3]\n",
    "b = a.copy()\n",
    "\n",
    "a.append(4)\n",
    "\n",
    "print(a, b)"
   ]
  },
  {
   "cell_type": "markdown",
   "id": "8cf9d487",
   "metadata": {},
   "source": [
    "> ## Einschub: ``random.choice()``\n",
    "> Wir kennen bereits das Modul ``random``. Bisher haben wir davon die Funktion ``randint()`` verwendet, um uns eine zufällige ganze Zahl zu erzeugen. Wenn wir ein zufälliges Element aus einer Liste brauchen, können wir natürlich einfach ``randint()`` verwenden, um uns damit einen zufälligen Index zu generieren. Alternativ bietet das ``random`` Modul aber auch die Funktion ``choice()``. Diese gibt direkt ein zufälliges Element aus einer Liste zurück."
   ]
  },
  {
   "cell_type": "code",
   "execution_count": 10,
   "id": "0a69b950",
   "metadata": {},
   "outputs": [
    {
     "name": "stdout",
     "output_type": "stream",
     "text": [
      "a\n",
      "[4, 5, 6]\n",
      "[4, 5, 6]\n",
      "a\n",
      "Hallo\n",
      "[4, 5, 6]\n",
      "3.14\n",
      "True\n",
      "Welt\n",
      "42\n"
     ]
    }
   ],
   "source": [
    "import random\n",
    "\n",
    "l = ['a', 'Hallo', 42, 3.14, True, [4, 5, 6], 'Welt']\n",
    "\n",
    "for i in range(10):\n",
    "    print(random.choice(l))"
   ]
  }
 ],
 "metadata": {
  "kernelspec": {
   "display_name": "Python 3 (ipykernel)",
   "language": "python",
   "name": "python3"
  },
  "language_info": {
   "codemirror_mode": {
    "name": "ipython",
    "version": 3
   },
   "file_extension": ".py",
   "mimetype": "text/x-python",
   "name": "python",
   "nbconvert_exporter": "python",
   "pygments_lexer": "ipython3",
   "version": "3.9.6"
  }
 },
 "nbformat": 4,
 "nbformat_minor": 5
}
