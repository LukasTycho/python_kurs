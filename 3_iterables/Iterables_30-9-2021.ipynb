{
 "cells": [
  {
   "cell_type": "markdown",
   "id": "f6ff4ed5",
   "metadata": {},
   "source": [
    "# Iterables\n",
    "\n",
    "Datentypen, die durchlaufen werden können.\n",
    "mehrere Elemente, über die in einer Schleife gelaufen werden kann."
   ]
  },
  {
   "cell_type": "code",
   "execution_count": 1,
   "id": "e17f6cf4",
   "metadata": {},
   "outputs": [
    {
     "name": "stdout",
     "output_type": "stream",
     "text": [
      "H\n",
      "a\n",
      "l\n",
      "l\n",
      "o\n",
      " \n",
      "W\n",
      "e\n",
      "l\n",
      "t\n"
     ]
    }
   ],
   "source": [
    "string = 'Hallo Welt'\n",
    "\n",
    "for c in string:\n",
    "    print(c)"
   ]
  },
  {
   "cell_type": "markdown",
   "id": "59931bcc",
   "metadata": {},
   "source": [
    "## Listen\n",
    "\n",
    "Auflistung von mehrerene Daten.\n",
    "Listen werden mit eckigen Klammern geschrieben.\n",
    "Elemente werden mit Kommas getrennt."
   ]
  },
  {
   "cell_type": "code",
   "execution_count": 2,
   "id": "af24dad0",
   "metadata": {},
   "outputs": [
    {
     "name": "stdout",
     "output_type": "stream",
     "text": [
      "[1, 2, 3, 4, 5]\n"
     ]
    }
   ],
   "source": [
    "liste_1 = [1, 2, 3, 4, 5]\n",
    "print(liste_1)"
   ]
  },
  {
   "cell_type": "code",
   "execution_count": 3,
   "id": "6ad53bc2",
   "metadata": {},
   "outputs": [
    {
     "name": "stdout",
     "output_type": "stream",
     "text": [
      "1\n",
      "2\n",
      "3\n",
      "4\n",
      "5\n"
     ]
    }
   ],
   "source": [
    "for num in liste_1:\n",
    "    print(num)"
   ]
  },
  {
   "cell_type": "code",
   "execution_count": 4,
   "id": "2b15082a",
   "metadata": {},
   "outputs": [
    {
     "name": "stdout",
     "output_type": "stream",
     "text": [
      "42\n",
      "text\n",
      "3.14\n",
      "[1, 2, 3]\n"
     ]
    }
   ],
   "source": [
    "liste_2 = [42, 'text', 3.14, [1, 2, 3]]\n",
    "\n",
    "for elem in liste_2:\n",
    "    print(elem)"
   ]
  },
  {
   "cell_type": "markdown",
   "id": "b7347d00",
   "metadata": {},
   "source": [
    "### Index\n",
    "\n",
    "Position oder Keyword\n",
    "\n",
    "Indizes fangen bei 0 an!"
   ]
  },
  {
   "cell_type": "code",
   "execution_count": 5,
   "id": "4dc2d170",
   "metadata": {},
   "outputs": [
    {
     "data": {
      "text/plain": [
       "3.14"
      ]
     },
     "execution_count": 5,
     "metadata": {},
     "output_type": "execute_result"
    }
   ],
   "source": [
    "liste_2[2]  # index 2 = 3. Element"
   ]
  },
  {
   "cell_type": "code",
   "execution_count": 11,
   "id": "0a111bf1",
   "metadata": {},
   "outputs": [
    {
     "data": {
      "text/plain": [
       "42"
      ]
     },
     "execution_count": 11,
     "metadata": {},
     "output_type": "execute_result"
    }
   ],
   "source": [
    "liste_2[-4]"
   ]
  },
  {
   "cell_type": "code",
   "execution_count": 16,
   "id": "4f035924",
   "metadata": {},
   "outputs": [
    {
     "ename": "IndexError",
     "evalue": "list assignment index out of range",
     "output_type": "error",
     "traceback": [
      "\u001b[1;31m---------------------------------------------------------------------------\u001b[0m",
      "\u001b[1;31mIndexError\u001b[0m                                Traceback (most recent call last)",
      "\u001b[1;32m~\\AppData\\Local\\Temp/ipykernel_16720/2507897004.py\u001b[0m in \u001b[0;36m<module>\u001b[1;34m\u001b[0m\n\u001b[1;32m----> 1\u001b[1;33m \u001b[0mliste_2\u001b[0m\u001b[1;33m[\u001b[0m\u001b[1;36m3\u001b[0m\u001b[1;33m]\u001b[0m \u001b[1;33m=\u001b[0m \u001b[1;34m'neues Element'\u001b[0m\u001b[1;33m\u001b[0m\u001b[1;33m\u001b[0m\u001b[0m\n\u001b[0m",
      "\u001b[1;31mIndexError\u001b[0m: list assignment index out of range"
     ]
    }
   ],
   "source": [
    "liste_2[3] = 'neues Element'"
   ]
  },
  {
   "cell_type": "code",
   "execution_count": 22,
   "id": "ac9a5716",
   "metadata": {},
   "outputs": [
    {
     "data": {
      "text/plain": [
       "[42, 'text', 'eingefügt', 3.14, 'hinten dran', 'hinten dran']"
      ]
     },
     "execution_count": 22,
     "metadata": {},
     "output_type": "execute_result"
    }
   ],
   "source": [
    "liste_2"
   ]
  },
  {
   "cell_type": "code",
   "execution_count": 14,
   "id": "da1d454d",
   "metadata": {},
   "outputs": [],
   "source": [
    "del liste_2[3]"
   ]
  },
  {
   "cell_type": "code",
   "execution_count": 19,
   "id": "befe85e9",
   "metadata": {},
   "outputs": [],
   "source": [
    "liste_2.append('hinten dran')"
   ]
  },
  {
   "cell_type": "code",
   "execution_count": 21,
   "id": "9f29830d",
   "metadata": {},
   "outputs": [],
   "source": [
    "liste_2.insert(2, 'eingefügt')"
   ]
  },
  {
   "cell_type": "code",
   "execution_count": 35,
   "id": "1b11cc22",
   "metadata": {},
   "outputs": [],
   "source": [
    "leer = [1]"
   ]
  },
  {
   "cell_type": "code",
   "execution_count": 37,
   "id": "1f85aa5f",
   "metadata": {},
   "outputs": [
    {
     "data": {
      "text/plain": [
       "list"
      ]
     },
     "execution_count": 37,
     "metadata": {},
     "output_type": "execute_result"
    }
   ],
   "source": [
    "type(leer)"
   ]
  },
  {
   "cell_type": "markdown",
   "id": "583c6c92",
   "metadata": {},
   "source": [
    "## Tuple\n",
    "\n",
    "immutable, d.h. sie können nicht verändert werden\n",
    "werden mit runden Klammern geschrieben"
   ]
  },
  {
   "cell_type": "code",
   "execution_count": 30,
   "id": "eead02e9",
   "metadata": {},
   "outputs": [],
   "source": [
    "tuple_1 = (1, 2, 3, 4, 5)"
   ]
  },
  {
   "cell_type": "code",
   "execution_count": 32,
   "id": "5acec325",
   "metadata": {},
   "outputs": [],
   "source": [
    "tuple_1 = (42, 'hallo', [7, 5, 6])"
   ]
  },
  {
   "cell_type": "code",
   "execution_count": 33,
   "id": "2b0d9dc4",
   "metadata": {},
   "outputs": [
    {
     "data": {
      "text/plain": [
       "(42, 'hallo', [7, 5, 6])"
      ]
     },
     "execution_count": 33,
     "metadata": {},
     "output_type": "execute_result"
    }
   ],
   "source": [
    "tuple_1"
   ]
  },
  {
   "cell_type": "code",
   "execution_count": 43,
   "id": "d1088e6d",
   "metadata": {},
   "outputs": [],
   "source": [
    "one = ()"
   ]
  },
  {
   "cell_type": "code",
   "execution_count": 44,
   "id": "be17764d",
   "metadata": {},
   "outputs": [
    {
     "data": {
      "text/plain": [
       "tuple"
      ]
     },
     "execution_count": 44,
     "metadata": {},
     "output_type": "execute_result"
    }
   ],
   "source": [
    "type(one)"
   ]
  },
  {
   "cell_type": "markdown",
   "id": "a57a1930",
   "metadata": {},
   "source": [
    "## Dictionaries\n",
    "\n",
    "key - value  - Paare\n",
    "Schlüssel - Wert\n",
    "\n",
    "geschweifte Klammern  \n",
    "Paare werden mit Kommas getrennt  \n",
    "key und value werden mit Doppelpunkt getrennt"
   ]
  },
  {
   "cell_type": "code",
   "execution_count": 45,
   "id": "e2af5d34",
   "metadata": {},
   "outputs": [],
   "source": [
    "auto = {\n",
    "    'brand': 'VW',\n",
    "    'model': 'Golf',\n",
    "    'color': 'red',\n",
    "    'year': 2012,\n",
    "    'doors': 2\n",
    "}"
   ]
  },
  {
   "cell_type": "code",
   "execution_count": 47,
   "id": "ad1f8434",
   "metadata": {},
   "outputs": [
    {
     "data": {
      "text/plain": [
       "'red'"
      ]
     },
     "execution_count": 47,
     "metadata": {},
     "output_type": "execute_result"
    }
   ],
   "source": [
    "auto['color']"
   ]
  },
  {
   "cell_type": "code",
   "execution_count": 63,
   "id": "6a669b22",
   "metadata": {},
   "outputs": [],
   "source": [
    "auto['color'] = ['blue', 'red']"
   ]
  },
  {
   "cell_type": "code",
   "execution_count": 66,
   "id": "097fcd0d",
   "metadata": {},
   "outputs": [
    {
     "name": "stdout",
     "output_type": "stream",
     "text": [
      "blue\n",
      "red\n"
     ]
    }
   ],
   "source": [
    "a, b = auto['color']\n",
    "print(a)\n",
    "print(b)"
   ]
  },
  {
   "cell_type": "code",
   "execution_count": 52,
   "id": "28d8a5e9",
   "metadata": {},
   "outputs": [
    {
     "data": {
      "text/plain": [
       "{'brand': 'VW',\n",
       " 'model': 'Golf',\n",
       " 'color': 'blue',\n",
       " 'year': 2012,\n",
       " 'doors': 2,\n",
       " 'convertible': False}"
      ]
     },
     "execution_count": 52,
     "metadata": {},
     "output_type": "execute_result"
    }
   ],
   "source": [
    "auto"
   ]
  },
  {
   "cell_type": "code",
   "execution_count": 51,
   "id": "9fd6284e",
   "metadata": {},
   "outputs": [],
   "source": [
    "auto['convertible'] = False"
   ]
  },
  {
   "cell_type": "code",
   "execution_count": 53,
   "id": "d767a561",
   "metadata": {},
   "outputs": [
    {
     "data": {
      "text/plain": [
       "dict_keys(['brand', 'model', 'color', 'year', 'doors', 'convertible'])"
      ]
     },
     "execution_count": 53,
     "metadata": {},
     "output_type": "execute_result"
    }
   ],
   "source": [
    "auto.keys()"
   ]
  },
  {
   "cell_type": "code",
   "execution_count": 54,
   "id": "3cdb9d14",
   "metadata": {},
   "outputs": [
    {
     "data": {
      "text/plain": [
       "dict_values(['VW', 'Golf', 'blue', 2012, 2, False])"
      ]
     },
     "execution_count": 54,
     "metadata": {},
     "output_type": "execute_result"
    }
   ],
   "source": [
    "auto.values()"
   ]
  },
  {
   "cell_type": "code",
   "execution_count": 55,
   "id": "d7724693",
   "metadata": {},
   "outputs": [
    {
     "data": {
      "text/plain": [
       "dict_items([('brand', 'VW'), ('model', 'Golf'), ('color', 'blue'), ('year', 2012), ('doors', 2), ('convertible', False)])"
      ]
     },
     "execution_count": 55,
     "metadata": {},
     "output_type": "execute_result"
    }
   ],
   "source": [
    "auto.items()"
   ]
  },
  {
   "cell_type": "code",
   "execution_count": 62,
   "id": "d871fe88",
   "metadata": {},
   "outputs": [
    {
     "name": "stdout",
     "output_type": "stream",
     "text": [
      "brand - VW\n",
      "model - Golf\n",
      "color - blue\n",
      "year - 2012\n",
      "doors - 2\n",
      "convertible - False\n"
     ]
    }
   ],
   "source": [
    "for x, y in auto.items():\n",
    "    print(x, '-', y)"
   ]
  },
  {
   "cell_type": "code",
   "execution_count": 68,
   "id": "c2e0254c",
   "metadata": {},
   "outputs": [],
   "source": [
    "weather_data = {\n",
    "    'min_1': {\n",
    "        'temp': 18,\n",
    "        'humidity': 20,\n",
    "        'wind speed': 23\n",
    "    }\n",
    "}"
   ]
  },
  {
   "cell_type": "code",
   "execution_count": 70,
   "id": "8fdf2065",
   "metadata": {},
   "outputs": [
    {
     "data": {
      "text/plain": [
       "18"
      ]
     },
     "execution_count": 70,
     "metadata": {},
     "output_type": "execute_result"
    }
   ],
   "source": [
    "weather_data['min_1']['temp']"
   ]
  },
  {
   "cell_type": "code",
   "execution_count": 71,
   "id": "1ca87b0f",
   "metadata": {},
   "outputs": [],
   "source": [
    "l = [1, 2, [4, 5, 6, [5, 5, 5]]]"
   ]
  },
  {
   "cell_type": "code",
   "execution_count": 78,
   "id": "9f5e7643",
   "metadata": {},
   "outputs": [
    {
     "data": {
      "text/plain": [
       "5"
      ]
     },
     "execution_count": 78,
     "metadata": {},
     "output_type": "execute_result"
    }
   ],
   "source": [
    "l[2][3][0]"
   ]
  },
  {
   "cell_type": "markdown",
   "id": "5892723c",
   "metadata": {},
   "source": [
    "## Sets\n",
    "\n",
    "ungeordnet!  \n",
    "werden mit geschweiften Klammen geschrieben  \n",
    "es gibt keine Indizes  \n",
    "Werte können nicht doppelt in einem Set sein"
   ]
  },
  {
   "cell_type": "code",
   "execution_count": 79,
   "id": "31260a4e",
   "metadata": {},
   "outputs": [],
   "source": [
    "s = {'apple', 'banana', 'orange', 'apple'}"
   ]
  },
  {
   "cell_type": "code",
   "execution_count": 82,
   "id": "5e2eb109",
   "metadata": {},
   "outputs": [
    {
     "data": {
      "text/plain": [
       "{'apple', 'banana', 'orange'}"
      ]
     },
     "execution_count": 82,
     "metadata": {},
     "output_type": "execute_result"
    }
   ],
   "source": [
    "s"
   ]
  },
  {
   "cell_type": "code",
   "execution_count": 85,
   "id": "5d4ecfca",
   "metadata": {},
   "outputs": [
    {
     "name": "stdout",
     "output_type": "stream",
     "text": [
      "banana\n",
      "apple\n",
      "orange\n"
     ]
    }
   ],
   "source": [
    "for x in s:\n",
    "    print(x)"
   ]
  },
  {
   "cell_type": "code",
   "execution_count": 87,
   "id": "262b8fac",
   "metadata": {},
   "outputs": [
    {
     "data": {
      "text/plain": [
       "False"
      ]
     },
     "execution_count": 87,
     "metadata": {},
     "output_type": "execute_result"
    }
   ],
   "source": [
    "'kiwi' in s"
   ]
  },
  {
   "cell_type": "code",
   "execution_count": 88,
   "id": "82676635",
   "metadata": {},
   "outputs": [],
   "source": [
    "s.add('kiwi')"
   ]
  },
  {
   "cell_type": "code",
   "execution_count": 90,
   "id": "f57f80ce",
   "metadata": {},
   "outputs": [],
   "source": [
    "s.remove('apple')"
   ]
  },
  {
   "cell_type": "code",
   "execution_count": 91,
   "id": "1d968769",
   "metadata": {},
   "outputs": [
    {
     "data": {
      "text/plain": [
       "{'banana', 'kiwi', 'orange'}"
      ]
     },
     "execution_count": 91,
     "metadata": {},
     "output_type": "execute_result"
    }
   ],
   "source": [
    "s"
   ]
  },
  {
   "cell_type": "markdown",
   "id": "d3fc702c",
   "metadata": {},
   "source": [
    "## len"
   ]
  },
  {
   "cell_type": "code",
   "execution_count": 99,
   "id": "2a9a1af7",
   "metadata": {},
   "outputs": [
    {
     "data": {
      "text/plain": [
       "4"
      ]
     },
     "execution_count": 99,
     "metadata": {},
     "output_type": "execute_result"
    }
   ],
   "source": [
    "liste_1 = [1, 2, 3, 4]\n",
    "len(liste_1)"
   ]
  },
  {
   "cell_type": "code",
   "execution_count": 100,
   "id": "9c8ac6a4",
   "metadata": {},
   "outputs": [
    {
     "data": {
      "text/plain": [
       "6"
      ]
     },
     "execution_count": 100,
     "metadata": {},
     "output_type": "execute_result"
    }
   ],
   "source": [
    "len(auto)"
   ]
  },
  {
   "cell_type": "code",
   "execution_count": 101,
   "id": "f7d7ca7f",
   "metadata": {},
   "outputs": [
    {
     "data": {
      "text/plain": [
       "3"
      ]
     },
     "execution_count": 101,
     "metadata": {},
     "output_type": "execute_result"
    }
   ],
   "source": [
    "len(s)"
   ]
  },
  {
   "cell_type": "code",
   "execution_count": 102,
   "id": "7ed80611",
   "metadata": {},
   "outputs": [
    {
     "data": {
      "text/plain": [
       "3"
      ]
     },
     "execution_count": 102,
     "metadata": {},
     "output_type": "execute_result"
    }
   ],
   "source": [
    "len(tuple_1)"
   ]
  },
  {
   "cell_type": "code",
   "execution_count": 144,
   "id": "a765a3a1",
   "metadata": {},
   "outputs": [
    {
     "name": "stdout",
     "output_type": "stream",
     "text": [
      "1\n",
      "2\n",
      "3\n",
      "4\n",
      "5\n",
      "6\n",
      "7\n",
      "8\n",
      "9\n"
     ]
    }
   ],
   "source": [
    "for i in range(len(liste_1)):\n",
    "    print(liste_1[i])"
   ]
  },
  {
   "cell_type": "markdown",
   "id": "810187cb",
   "metadata": {},
   "source": [
    "## Referenzvariablen"
   ]
  },
  {
   "cell_type": "code",
   "execution_count": 92,
   "id": "57fe51e4",
   "metadata": {},
   "outputs": [
    {
     "name": "stdout",
     "output_type": "stream",
     "text": [
      "6\n",
      "5\n"
     ]
    }
   ],
   "source": [
    "x = 5\n",
    "y = x  # y = 5\n",
    "x = 6\n",
    "\n",
    "print(x)\n",
    "print(y)"
   ]
  },
  {
   "cell_type": "code",
   "execution_count": 98,
   "id": "a2b83c42",
   "metadata": {},
   "outputs": [
    {
     "name": "stdout",
     "output_type": "stream",
     "text": [
      "[1, 2, 3, [4, 5, 6, 4]]\n",
      "[1, 2, 3, [4, 5, 6, 4]]\n"
     ]
    }
   ],
   "source": [
    "x = [1, 2, 3, [4, 5, 6]]  # x bekommt einen Zeiger auf einen Ort im Speicher\n",
    "y = x.copy()  # y hat denselben Zeiger wie x\n",
    "x[3].append(4)\n",
    "\n",
    "print(x)\n",
    "print(y)"
   ]
  },
  {
   "cell_type": "markdown",
   "id": "0d57fd7e",
   "metadata": {},
   "source": [
    "## random choice"
   ]
  },
  {
   "cell_type": "code",
   "execution_count": 114,
   "id": "87da2830",
   "metadata": {},
   "outputs": [
    {
     "data": {
      "text/plain": [
       "7"
      ]
     },
     "execution_count": 114,
     "metadata": {},
     "output_type": "execute_result"
    }
   ],
   "source": [
    "import random\n",
    "\n",
    "liste_1 = [1, 2, 3, 4, 5, 6, 7, 8, 9]\n",
    "\n",
    "rnd_idx = random.randint(0, len(liste_1))\n",
    "\n",
    "liste_1[rnd_idx]"
   ]
  },
  {
   "cell_type": "code",
   "execution_count": 143,
   "id": "66dd5c5d",
   "metadata": {},
   "outputs": [
    {
     "data": {
      "text/plain": [
       "4"
      ]
     },
     "execution_count": 143,
     "metadata": {},
     "output_type": "execute_result"
    }
   ],
   "source": [
    "random.choice(liste_1)"
   ]
  },
  {
   "cell_type": "code",
   "execution_count": 145,
   "id": "60d34642",
   "metadata": {},
   "outputs": [],
   "source": [
    "a = set()"
   ]
  },
  {
   "cell_type": "code",
   "execution_count": 146,
   "id": "0f8aae61",
   "metadata": {},
   "outputs": [],
   "source": [
    "b = list()"
   ]
  },
  {
   "cell_type": "code",
   "execution_count": 147,
   "id": "ed5f79b7",
   "metadata": {},
   "outputs": [],
   "source": [
    "c = tuple()"
   ]
  },
  {
   "cell_type": "code",
   "execution_count": 148,
   "id": "a7182ead",
   "metadata": {},
   "outputs": [],
   "source": [
    "d = dict()"
   ]
  }
 ],
 "metadata": {
  "kernelspec": {
   "display_name": "Python 3 (ipykernel)",
   "language": "python",
   "name": "python3"
  },
  "language_info": {
   "codemirror_mode": {
    "name": "ipython",
    "version": 3
   },
   "file_extension": ".py",
   "mimetype": "text/x-python",
   "name": "python",
   "nbconvert_exporter": "python",
   "pygments_lexer": "ipython3",
   "version": "3.9.6"
  }
 },
 "nbformat": 4,
 "nbformat_minor": 5
}
