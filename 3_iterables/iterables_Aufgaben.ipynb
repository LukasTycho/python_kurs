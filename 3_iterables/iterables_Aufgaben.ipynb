{
 "cells": [
  {
   "cell_type": "markdown",
   "metadata": {},
   "source": [
    "### Übungen\n",
    "\n",
    "Diese Übungen sind dazu da, den Stoff zu festigen."
   ]
  },
  {
   "cell_type": "markdown",
   "metadata": {},
   "source": [
    "1. Erstelle eine Liste mit den Zahlen von 1 bis 5. Erstelle ein Tuple mit den Zahlen von 6 bis 10. "
   ]
  },
  {
   "cell_type": "code",
   "execution_count": null,
   "metadata": {},
   "outputs": [],
   "source": [
    "# dein Code hier"
   ]
  },
  {
   "cell_type": "markdown",
   "metadata": {},
   "source": [
    "2. Erstelle ein Dictionary, das deine (oder eine ausgedachte) Hose / Rock / Kleid beschreibt. Das Dictionary sollte mindestens drei Einträge haben. Ideen: Typ, Farbe, Größe, Länge, Anzahl der Taschen, Material, ..."
   ]
  },
  {
   "cell_type": "code",
   "execution_count": null,
   "metadata": {},
   "outputs": [],
   "source": [
    "# dein Code hier"
   ]
  },
  {
   "cell_type": "markdown",
   "metadata": {},
   "source": [
    "3. Gib den Inhalt deines Hosen-Dictionarys in einer Schleife aus. Gib jeweils den key mit dem dazugehörigen value aus!"
   ]
  },
  {
   "cell_type": "code",
   "execution_count": null,
   "metadata": {},
   "outputs": [],
   "source": [
    "# dein Code hier"
   ]
  },
  {
   "cell_type": "markdown",
   "metadata": {},
   "source": [
    "4. Lösche einen beliebigen Eintrag aus deinem Hosen-Dictionary."
   ]
  },
  {
   "cell_type": "code",
   "execution_count": null,
   "metadata": {},
   "outputs": [],
   "source": [
    "# dein Code hier"
   ]
  },
  {
   "cell_type": "markdown",
   "metadata": {},
   "source": [
    "5. 1. Erstelle ein ``Set`` als Anwesenheitsliste mit Peter, Bob und Marie.\n",
    "   2. Trage Otto auch ein.\n",
    "   3. Peter geht nach Hause. Entferne ihn aus der Anwesenheitsliste.\n",
    "    \n",
    "Warum ist ein Set hier sinnvoll?"
   ]
  },
  {
   "cell_type": "code",
   "execution_count": null,
   "metadata": {},
   "outputs": [],
   "source": [
    "# dein Code hier"
   ]
  },
  {
   "cell_type": "markdown",
   "metadata": {},
   "source": [
    "6. Erstelle eine Liste mit den Zahlen von 69 bis 420. \n",
    "\n",
    "<details><summary><b>Klick hier für einen Tipp</b></summary>\n",
    "    Verwende eine Schleife, in der du die Liste füllst.\n",
    "</details>"
   ]
  },
  {
   "cell_type": "code",
   "execution_count": null,
   "metadata": {},
   "outputs": [],
   "source": [
    "# dein Code hier"
   ]
  },
  {
   "cell_type": "markdown",
   "metadata": {},
   "source": [
    "7. Lasse dir aus der vorherigen Liste eine zufällige Zahl ausgeben."
   ]
  },
  {
   "cell_type": "code",
   "execution_count": null,
   "metadata": {},
   "outputs": [],
   "source": [
    "import random\n",
    "\n",
    "# dein Code hier"
   ]
  },
  {
   "cell_type": "markdown",
   "metadata": {},
   "source": [
    "### Noten v2\n",
    "Diese Aufgabe lässt sich mit Listen lösen. Dafür lernen wir eine Listenfunktion kennen: index()  \n",
    "Diese Funktion gibt den Index des übergebenen Parameters wieder. Beispiel:  \n",
    "    \n",
    "    liste1 = [1, 2, 3, 4, 5]\n",
    "    i = liste1.index(3)  # gibt den Index des Wertes 3 in liste1 zurück\n",
    "    print(i)\n",
    "    > 2\n",
    "\n",
    "Hier nochmal die Aufgabe:\n",
    "\n",
    "Man kann in der Uni / Hochschule bestimmte Noten bekommen. Diese sind abhängig von den erreichten Punkten in Relation zur Gesamtpunktzahl. Die genauen Zuordnungen könnt ihr dieser Tabelle entnehmen:\n",
    "\n",
    "| Note \t| Prozent \t| verbal       \t |\n",
    "|:-----:|:---------:|:--------------:|\n",
    "| 1.0  \t| ≥ 95    \t| sehr gut     \t |\n",
    "| 1.3  \t| ≥ 90    \t| sehr gut     \t |\n",
    "| 1.7  \t| ≥ 85    \t| gut          \t |\n",
    "| 2.0  \t| ≥ 80    \t| gut          \t |\n",
    "| 2.3  \t| ≥ 75    \t| gut          \t |\n",
    "| 2.7  \t| ≥ 70    \t| befriedigend \t |\n",
    "| 3.0  \t| ≥ 65    \t| befriedigend \t |\n",
    "| 3.3  \t| ≥ 60    \t| befriedigend \t |\n",
    "| 3.7  \t| ≥ 55    \t| ausreichend  \t |\n",
    "| 4.0  \t| ≥ 50    \t| ausreichend  \t |\n",
    "| 5.0  \t| < 50    \t| ungenügend   \t |\n",
    "\n",
    "Schreibe ein Programm, bei dem man die Gesamtpunktzahl und die erreichte Punktzahl eingeben kann und welches einem dann sagt, welche Note man erreicht hat.\n",
    "\n",
    "###### Zusatzaufgabe\n",
    "Erweitere dein Programm, so dass man auch die Note und die Gesamtpunktzahl eingeben kann, und das Programm dann ausrechnet, wie viele Punkte man mindestens erreichen muss, um die Note zu bekommen."
   ]
  },
  {
   "cell_type": "code",
   "execution_count": null,
   "metadata": {},
   "outputs": [],
   "source": [
    "# dein Code hier"
   ]
  },
  {
   "cell_type": "markdown",
   "metadata": {},
   "source": [
    "### OLSA Wortkombinationen\n",
    "Der Oldenburger Satztest arbeitet mit Wörterlisten, aus denen dann zufällig Sätze zusammengebaut werden. Diese Sätze haben alle das Schema\n",
    "\n",
    "> `Name Verb Zahl Adjektiv Objekt`\n",
    "\n",
    "Die Listen sind gegeben, schreibe ein Programm, das alle möglichen Wortkombinationen findet und ausgibt. Denke auch daran, dass am Satzende immer ein Punkt kommt.\n",
    "\n",
    "###### Zusatzaufgabe\n",
    "Das sind insgesamt sehr viele (100000) Sätze. Bei einem Sprachtest wird nur eine vergleichsweise kleine Anzahl an Sätzen benötigt. Gib daher 10 zufällig ausgewählte Sätze aus."
   ]
  },
  {
   "cell_type": "code",
   "execution_count": null,
   "metadata": {},
   "outputs": [],
   "source": [
    "namen = ['Peter', 'Kerstin', 'Tanja', 'Ulrich', 'Britta', 'Wolfgang', 'Stefan', 'Thomas', 'Doris', 'Nina']\n",
    "verben = ['bekommt', 'sieht', 'kauft', 'gibt', 'schenkt', 'verleiht', 'hat', 'gewann', 'nahm', 'malt']\n",
    "zahlen = ['drei', 'neun', 'sieben', 'acht', 'vier', 'fünf', 'zwei', 'achtzehn', 'zwölf', 'elf']\n",
    "adjektive = ['große', 'kleine', 'alte', 'nasse', 'schwere', 'grüne', 'teure', 'schöne', 'rote', 'weiße']\n",
    "objekte = ['Blumen', 'Tassen', 'Autos', 'Bilder', 'Dosen', 'Sessel', 'Messer', 'Schuhe', 'Steine', 'Ringe']\n",
    "\n",
    "# dein Code hier"
   ]
  },
  {
   "cell_type": "markdown",
   "metadata": {},
   "source": [
    "### Zahlen sortieren\n",
    "Mit Hilfe von Listen lassen sich eine große Menge Zahlen in einer Variablen speichern. Zur besseren Übersicht sollen diese nach Größe sortiert werden. Sortierungs-Algorithmen sind ein wichtiger Teil des Programmierens. \n",
    "Schreibe ein Programm, das eine beliebige Anzahl numerischer Werte entgegen nimmt, in einer Liste speichert, und diese dann sortiert. Wie lässt sich die Sortierung effizient lösen?"
   ]
  },
  {
   "cell_type": "code",
   "execution_count": null,
   "metadata": {},
   "outputs": [],
   "source": [
    "# dein Code hier"
   ]
  },
  {
   "cell_type": "markdown",
   "metadata": {},
   "source": [
    "### Vokale im Wort\n",
    "Schreibe ein Programm, das ein Wort als input nimmt, daraus eine Liste mit den Vokalen im Wort in der Reihenfolge, wie sie im Wort vorkommen, erstellt und diese ausgibt.\n",
    "\n",
    "    'Beispiel'\n",
    "    > ['e', 'i', 'i', 'e']"
   ]
  },
  {
   "cell_type": "code",
   "execution_count": null,
   "metadata": {},
   "outputs": [],
   "source": [
    "# dein Code hier"
   ]
  },
  {
   "cell_type": "markdown",
   "metadata": {},
   "source": [
    "### Vielfache\n",
    "Schreibe ein Programm, das zwei Zahlen als Grenzen nimmt und eine Dritte als Teiler. Das Programm soll dann aller Zahlen innerhalb der Grenzen ausgeben, die durch den Teiler teilbar sind."
   ]
  },
  {
   "cell_type": "code",
   "execution_count": 13,
   "metadata": {},
   "outputs": [],
   "source": [
    "# dein Code hier"
   ]
  }
 ],
 "metadata": {
  "kernelspec": {
   "display_name": "Python 3 (ipykernel)",
   "language": "python",
   "name": "python3"
  },
  "language_info": {
   "codemirror_mode": {
    "name": "ipython",
    "version": 3
   },
   "file_extension": ".py",
   "mimetype": "text/x-python",
   "name": "python",
   "nbconvert_exporter": "python",
   "pygments_lexer": "ipython3",
   "version": "3.9.6"
  }
 },
 "nbformat": 4,
 "nbformat_minor": 4
}
