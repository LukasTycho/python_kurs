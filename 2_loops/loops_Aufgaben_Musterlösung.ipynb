{
 "cells": [
  {
   "cell_type": "markdown",
   "metadata": {},
   "source": [
    "### Übungen\n",
    "\n",
    "Diese Übungen sind dazu da, den Stoff zu festigen."
   ]
  },
  {
   "cell_type": "markdown",
   "metadata": {},
   "source": [
    "1. Programmiere eine ``while``-Schleife, die die Zahlen von 12 bis 27 ausgibt."
   ]
  },
  {
   "cell_type": "code",
   "execution_count": 1,
   "metadata": {},
   "outputs": [
    {
     "name": "stdout",
     "output_type": "stream",
     "text": [
      "12\n",
      "13\n",
      "14\n",
      "15\n",
      "16\n",
      "17\n",
      "18\n",
      "19\n",
      "20\n",
      "21\n",
      "22\n",
      "23\n",
      "24\n",
      "25\n",
      "26\n",
      "27\n"
     ]
    }
   ],
   "source": [
    "i = 12\n",
    "\n",
    "while i <= 27:\n",
    "    print(i)\n",
    "    i += 1"
   ]
  },
  {
   "cell_type": "markdown",
   "metadata": {},
   "source": [
    "2. Programmiere eine ``for``-Schleife, die die Zahlen von 36 bis 42 ausgibt."
   ]
  },
  {
   "cell_type": "code",
   "execution_count": 2,
   "metadata": {},
   "outputs": [
    {
     "name": "stdout",
     "output_type": "stream",
     "text": [
      "36\n",
      "37\n",
      "38\n",
      "39\n",
      "40\n",
      "41\n",
      "42\n"
     ]
    }
   ],
   "source": [
    "for i in range(36, 43):\n",
    "    print(i)"
   ]
  },
  {
   "cell_type": "markdown",
   "metadata": {},
   "source": [
    "3. Schreibe ein Stück Code, das eine Eingabe vom Benutzer abfragt (mittels ``input()``) und diese dann Zeichen für Zeichen ausgibt (z.B. mit einer ``for``-Schleife)."
   ]
  },
  {
   "cell_type": "code",
   "execution_count": 4,
   "metadata": {},
   "outputs": [
    {
     "name": "stdout",
     "output_type": "stream",
     "text": [
      "> Hallo Welt!\n",
      "H\n",
      "a\n",
      "l\n",
      "l\n",
      "o\n",
      " \n",
      "W\n",
      "e\n",
      "l\n",
      "t\n",
      "!\n"
     ]
    }
   ],
   "source": [
    "text = input(\"> \")\n",
    "for c in text:\n",
    "    print(c)"
   ]
  },
  {
   "cell_type": "markdown",
   "metadata": {},
   "source": [
    "4. Schreibe ein Stück Code, das den Benutzer in einer (Endlos-)Schleife nach einem Passwort fragt. Wenn das Passwort korrekt eingegeben wird, soll die Schleife verlassen werden. Findest du zwei verschiedene Wege, dieses Problem zu lösen?"
   ]
  },
  {
   "cell_type": "code",
   "execution_count": 5,
   "metadata": {},
   "outputs": [
    {
     "name": "stdout",
     "output_type": "stream",
     "text": [
      "Please enter the password: asd\n",
      "Please enter the password: ffasfd\n",
      "Please enter the password: fsfsf\n",
      "Please enter the password: password\n",
      "Access granted!\n"
     ]
    }
   ],
   "source": [
    "# 1\n",
    "\n",
    "pw = 'password'\n",
    "\n",
    "while True:\n",
    "    user_pw = input('Please enter the password: ')\n",
    "    if user_pw == pw:\n",
    "        print('Access granted!')\n",
    "        break"
   ]
  },
  {
   "cell_type": "code",
   "execution_count": 6,
   "metadata": {},
   "outputs": [
    {
     "name": "stdout",
     "output_type": "stream",
     "text": [
      "Please enter the password: dfafsd\n",
      "Please enter the password: besdfs\n",
      "Please enter the password: sdfsfsdf\n",
      "Please enter the password: password\n",
      "Access granted!\n"
     ]
    }
   ],
   "source": [
    "# 2\n",
    "\n",
    "pw = 'password'\n",
    "pw_correct = False\n",
    "\n",
    "while not pw_correct:\n",
    "    user_pw = input('Please enter the password: ')\n",
    "    if user_pw == pw:\n",
    "        print('Access granted!')\n",
    "        pw_correct = True"
   ]
  },
  {
   "cell_type": "code",
   "execution_count": 8,
   "metadata": {},
   "outputs": [
    {
     "name": "stdout",
     "output_type": "stream",
     "text": [
      "Please enter the password: asdasd\n",
      "Please enter the password: fscvsd\n",
      "Please enter the password: gsdggsg\n",
      "Please enter the password: password\n",
      "Access granted!\n"
     ]
    }
   ],
   "source": [
    "# 3\n",
    "\n",
    "pw = 'password'\n",
    "\n",
    "while input('Please enter the password: ') != pw:\n",
    "    pass\n",
    "\n",
    "print('Access granted!')"
   ]
  },
  {
   "cell_type": "markdown",
   "metadata": {},
   "source": [
    "5. Schreibe ein Stück Code, das in einer Schleife zwei Zufallszahlen generiert (siehe nächste Zelle) und den Benutzer nach der Summe der beiden Zahlen fragt. Wenn die Summe korrekt eingegeben wird, soll die Schleife beendet werden; wenn die Summe falsch eingegeben wird, soll die Schleife wiederholt werden (mit zwei neuen Zahlen)."
   ]
  },
  {
   "cell_type": "code",
   "execution_count": 10,
   "metadata": {},
   "outputs": [
    {
     "name": "stdout",
     "output_type": "stream",
     "text": [
      "What is 22 + 63? 42\n",
      "Try again...\n",
      "What is 75 + 53? 98\n",
      "Try again...\n",
      "What is 16 + 80? 96\n",
      "Correct!\n"
     ]
    }
   ],
   "source": [
    "import random\n",
    "\n",
    "while True:\n",
    "    zahl_1 = random.randint(1, 99)\n",
    "    zahl_2 = random.randint(1, 99)\n",
    "    user_num = int(input(f'What is {zahl_1} + {zahl_2}? '))\n",
    "    if user_num == (zahl_1 + zahl_2):\n",
    "        print('Correct!')\n",
    "        break\n",
    "    print('Try again...')"
   ]
  },
  {
   "cell_type": "markdown",
   "metadata": {},
   "source": [
    "### Matherätsel - Teil 2\n",
    "Verbessere das Matherätsel aus der if/else-Übung, so dass die drei Versuche in einer Schleife abgefragt werden."
   ]
  },
  {
   "cell_type": "code",
   "execution_count": null,
   "metadata": {},
   "outputs": [],
   "source": [
    "import random\n",
    "\n",
    "zufallszahl = random.randint(3, 15)       # Zufallszahl ist mindestens 3 und höchstens 15, darf gerne angepasst werden\n",
    "\n",
    "print(\"Bitte gib eine Zahl ein:\")\n",
    "user_zahl = int(input())                  # Spieler gibt eine Zahl ein\n",
    "result = user_zahl * zufallszahl          # Beide Zahlen werden multipliziert\n",
    "print(\"Deine Zahl wurde mit einer anderen Zahl multipliziert. Hier ist das Ergebnis:\")\n",
    "print(result)\n",
    "for i in range(3):\n",
    "    print(\"Was ist die andere Zahl?\")\n",
    "    user_answer = int(input())\n",
    "    if user_answer == zufallszahl:\n",
    "        print(\"Das ist korrekt!\")\n",
    "        break\n",
    "    else:\n",
    "        print(\"Da hast du dich verrechnet.\")\n"
   ]
  },
  {
   "cell_type": "markdown",
   "metadata": {},
   "source": [
    "### Größer-Kleiner-Spiel\n",
    "Klassisches Zahlenraten: ein Spieler denkt sich eine Zahl in einem vorher definierten Bereich aus, z. B. zwischen 0 und 100, und der zweite Spieler muss diese Zahl erraten. Nach jedem Versuch wird ihm gesagt, ob die gesuchte Zahl größer oder kleiner als die geratene Zahl ist. Schreibe ein kurzes Programm, welches sich eine Zahl ausdenkt (Zufallsszahl) und bei dem der Spieler dann diese Zahl erraten muss.\n",
    "\n",
    "###### Zusatzaufgabe\n",
    "Welches ist der effizienteste Weg, die Zahl zu erraten? Schreibe ein Programm, bei dem der Benutzer eine Zahl eingibt und der Computer versucht, diese Zahl zu erraten. Als 'größer', 'kleiner' und 'gleich' Eingaben vom Benutzer kannst du entweder die Wörter verwenden oder einfach die Symbole."
   ]
  },
  {
   "cell_type": "code",
   "execution_count": null,
   "metadata": {},
   "outputs": [],
   "source": [
    "import random\n",
    "\n",
    "zahl = random.randint(1, 100)  # Zufallszahl zwischen 1 und 100\n",
    "print('Errate meine Zahl!')\n",
    "\n",
    "while True:  # Die Schleife wird solange durchlaufen, bis break aufgerufen wird\n",
    "    user_answer = int(input())\n",
    "    if user_answer == zahl:\n",
    "        print('Du hast die Zahl gefunden!')\n",
    "        break\n",
    "    elif user_answer < zahl:\n",
    "        print('Die gesuchte Zahl ist größer.')\n",
    "    elif user_answer > zahl:\n",
    "        print('Die gesuchte Zahl ist kleiner.')\n"
   ]
  },
  {
   "cell_type": "code",
   "execution_count": null,
   "metadata": {},
   "outputs": [],
   "source": [
    "# Zusatzaufgabe\n",
    "\n",
    "zahl = int(input('Gib eine Zahl zwischen 1 und 100 ein: '))\n",
    "computer_zahl = 50\n",
    "bottom = 1\n",
    "top = 100\n",
    "\n",
    "while True:\n",
    "    print(f'Ist deine Zahl {computer_zahl}?')\n",
    "    answer = input()\n",
    "    if answer == '=':\n",
    "        print('YAY! ^__^')\n",
    "        break\n",
    "    elif answer == '<':\n",
    "        top = computer_zahl\n",
    "        computer_zahl = (bottom + top) // 2\n",
    "    elif answer == '>':\n",
    "        bottom = computer_zahl\n",
    "        computer_zahl = (bottom + top) // 2\n"
   ]
  },
  {
   "cell_type": "markdown",
   "metadata": {},
   "source": [
    "### Fehlersuche: Quadratzahlen\n",
    "Der folgende Code soll die Quadrate von den Zahlen zwischen 1 und 20 inklusive ausgeben, aber er hat noch ein paar Fehler. Finde und korrigiere sie."
   ]
  },
  {
   "cell_type": "code",
   "execution_count": null,
   "metadata": {},
   "outputs": [],
   "source": [
    "i = 1\n",
    "while i <= 20:\n",
    "    print(i ** 2)\n",
    "    i += 1"
   ]
  },
  {
   "cell_type": "markdown",
   "metadata": {},
   "source": [
    "### Fakultät!\n",
    "Schreibe ein Programm, das für eine Zahl deren Fakultät ausgibt. Zur Erinnerung: 5! = 5 * 4 * 3 * 2 * 1 = 120"
   ]
  },
  {
   "cell_type": "code",
   "execution_count": null,
   "metadata": {},
   "outputs": [],
   "source": [
    "zahl = int(input())\n",
    "\n",
    "ergebnis = 1\n",
    "\n",
    "for i in range(1, zahl+1):\n",
    "    ergebnis *= i\n",
    "    \n",
    "print(ergebnis)"
   ]
  },
  {
   "cell_type": "markdown",
   "metadata": {},
   "source": [
    "### FizzBuzz\n",
    "FizzBuzz ist ein relativ einfaches Spiel, bei dem die Spieler von 1 aufwärts zählen. Dabei gelten folgende Regeln:\n",
    "\n",
    "+ Wenn die Zahl ein Vielfaches von 3 ist, muss *Fizz* statt der Zahl gesagt werden.\n",
    "+ Wenn die Zahl ein Vielfaches von 5 ist, muss *Buzz* statt der Zahl gesagt werden.\n",
    "+ Wenn die Zahl ein vielfaches von 3 und 5 ist, muss *FizzBuzz* statt der Zahl gesagt werden.\n",
    "\n",
    "Schreibe ein Programm, dass die Zahlen von 1 bis 100 nach diesen Regeln ausgibt."
   ]
  },
  {
   "cell_type": "code",
   "execution_count": null,
   "metadata": {},
   "outputs": [],
   "source": [
    "# Lösung 1\n",
    "\n",
    "for i in range(1, 101):\n",
    "    output = ''\n",
    "    if i % 3 == 0:\n",
    "        output = 'Fizz'\n",
    "    if i % 5 == 0:\n",
    "        output += 'Buzz'\n",
    "    if output == '':\n",
    "        output = str(i)\n",
    "    print(output)"
   ]
  },
  {
   "cell_type": "code",
   "execution_count": null,
   "metadata": {},
   "outputs": [],
   "source": [
    "# Lösung 2\n",
    "\n",
    "for i in range(1, 101):\n",
    "    if i % 3 == 0 and i % 5 == 0:\n",
    "        print('FizzBuzz')\n",
    "    elif i % 3 == 0:\n",
    "        print('Fizz')\n",
    "    elif i % 5 == 0:\n",
    "        print('Buzz')\n",
    "    else:\n",
    "        print(i)"
   ]
  },
  {
   "cell_type": "markdown",
   "metadata": {},
   "source": [
    "### Sprachgeneration\n",
    "Text-to-speech Systeme sind recht kompliziert. Wir wollen eine einfache Version programmieren, die Zahlen in Text umwandelt. \n",
    "\n",
    "**Sample Input**  \n",
    "69420\n",
    "\n",
    "**Sample Output**  \n",
    "sechs neun vier zwei null"
   ]
  },
  {
   "cell_type": "code",
   "execution_count": null,
   "metadata": {},
   "outputs": [],
   "source": [
    "zahl = input()\n",
    "out = ''\n",
    "\n",
    "for number in zahl:\n",
    "    if number == '0':\n",
    "        out += 'null '\n",
    "    elif number == '1':\n",
    "        out += 'eins '\n",
    "    elif number == '2':\n",
    "        out += 'zwei '\n",
    "    elif number == '3':\n",
    "        out += 'drei '\n",
    "    elif number == '4':\n",
    "        out += 'vier '\n",
    "    elif number == '5':\n",
    "        out += 'fünf '\n",
    "    elif number == '6':\n",
    "        out += 'sechs '\n",
    "    elif number == '7':\n",
    "        out += 'sieben '\n",
    "    elif number == '8':\n",
    "        out += 'acht '\n",
    "    elif number == '9':\n",
    "        out += 'neun '\n",
    "\n",
    "print(out)"
   ]
  },
  {
   "cell_type": "markdown",
   "metadata": {},
   "source": [
    "### Gerade Zahlen zwischen 1 und N\n",
    "Schreibe ein Programm, das alle geraden Zahlen zwischen 1 und einer eingegeben Zahl N ausgibt. Welche Schleife ist hier praktischer, for oder while?"
   ]
  },
  {
   "cell_type": "code",
   "execution_count": null,
   "metadata": {},
   "outputs": [],
   "source": [
    "N = int(input('N = '))\n",
    "\n",
    "for i in range(2, N+1, 2):\n",
    "    print(i)"
   ]
  },
  {
   "cell_type": "markdown",
   "metadata": {},
   "source": [
    "### Wann bin ich Millionär?\n",
    "Du legst eine wählbare Summe bei der 'Bank deiner Träume' an und erhältst pro Jahr 5 % Zinsen auf dein Geld. Nach wie viele Jahren bist du Millionär?\n",
    "\n",
    "###### Zusatzaufgabe\n",
    "Setze den Zinssatz variabel als Benutzereingabe."
   ]
  },
  {
   "cell_type": "code",
   "execution_count": null,
   "metadata": {},
   "outputs": [],
   "source": [
    "kapital = float(input('Wie viel Geld legst du an? '))\n",
    "prozent = float(input('Wie hoch ist der Zinssatz? ')) * 0.01\n",
    "jahre = 0\n",
    "\n",
    "while kapital < 1000000:\n",
    "    kapital *= 1 + prozent\n",
    "    jahre += 1\n",
    "\n",
    "print(f'Nach {jahre} Jahren bist du Millionär.')"
   ]
  },
  {
   "cell_type": "markdown",
   "metadata": {},
   "source": [
    "### Mittelwert berechnen\n",
    "Der Mittelwert mehrerer Zahlen wird berechnet, indem alle Zahlen addiert werden und dann durch die Anzahl der Zahlen geteilt wird. Schreibe ein Programm, dass als erstes die Anzahl der Zahlen abfragt und dann alle Zahlen, von denen der Mittelwert gebiltet werden soll, und dann den Mittelwert bildet.\n",
    "\n",
    "**Sample Input**  \n",
    "    3  \n",
    "    5  \n",
    "    8  \n",
    "    -2  \n",
    "\n",
    "**Sample Output**  \n",
    "3.66666666"
   ]
  },
  {
   "cell_type": "code",
   "execution_count": null,
   "metadata": {},
   "outputs": [],
   "source": [
    "N = int(input('> '))\n",
    "summe = 0.0\n",
    "\n",
    "for i in range(N):\n",
    "    summe += float(input())\n",
    "    \n",
    "mean = summe / N\n",
    "print(mean)"
   ]
  },
  {
   "cell_type": "markdown",
   "metadata": {},
   "source": [
    "### Passwort Eingabe\n",
    "Du sollst ein Programm schreiben, bei dem der Benutzer ein Passwort eingeben muss. Folgende Anforderungen sollen erfüllt werden:\n",
    "- Der Benutzer beokmmt maximal drei Versuche.\n",
    "- Nach der dritten falschen Eingabe sollen alle Daten vom System gelöscht werden (symbolisiert durch Text, z.B. ``print(\"All files deleted.\")``).\n",
    "- Nach der zweiten falschen Eingabe soll eine Warnung ausgegeben werden, dass nach der nächsten falschen Eingabe alle Daten vom System gelöscht werden.\n",
    "- Wenn das Passwort richtig eingegeben wird, soll der Zugriff zum System erlaubt werden (symbolisiert durch Text, z.B. ``print(\"Access granted.\")``)."
   ]
  },
  {
   "cell_type": "code",
   "execution_count": null,
   "metadata": {},
   "outputs": [],
   "source": [
    "pw = \"ny4n_c4t\"  # das ist das korrekte Passwort\n",
    "\n",
    "for i in range(3):\n",
    "    a = input(\"Please enter the password: \")\n",
    "    if a == pw:\n",
    "        print(\"Access granted.\")\n",
    "        break\n",
    "    print(\"The password is incorrect.\")\n",
    "    if i == 1:  # zweiter Durchlauf\n",
    "        print(\"WARNING: The next wrong attempt will delete all data on the system.\")\n",
    "    elif i == 2:  # dritter Durchlauf\n",
    "        print(\"All data has been deleted.\")"
   ]
  }
 ],
 "metadata": {
  "kernelspec": {
   "display_name": "Python 3 (ipykernel)",
   "language": "python",
   "name": "python3"
  },
  "language_info": {
   "codemirror_mode": {
    "name": "ipython",
    "version": 3
   },
   "file_extension": ".py",
   "mimetype": "text/x-python",
   "name": "python",
   "nbconvert_exporter": "python",
   "pygments_lexer": "ipython3",
   "version": "3.9.6"
  }
 },
 "nbformat": 4,
 "nbformat_minor": 4
}
