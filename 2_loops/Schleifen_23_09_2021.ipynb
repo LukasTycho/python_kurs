{
 "cells": [
  {
   "cell_type": "markdown",
   "id": "f625dea8",
   "metadata": {},
   "source": [
    "``while``  -> während\n",
    "\n",
    "arbeiten mit einer Bedingung -> Boolean z.B. ``x < 10``\n",
    "solange diese Bedingung ``True`` ist, wird die Schleife wiederholt\n",
    "Achtung: Endlosschleife\n",
    "\n",
    "\n",
    "\n",
    "``for``\n",
    "\n",
    "laufen über ein Objekt  -> Iterable\n"
   ]
  },
  {
   "cell_type": "code",
   "execution_count": 2,
   "id": "83f8df49",
   "metadata": {},
   "outputs": [
    {
     "name": "stdout",
     "output_type": "stream",
     "text": [
      "0\n",
      "1\n",
      "2\n",
      "3\n",
      "4\n",
      "5\n",
      "6\n",
      "7\n",
      "8\n",
      "9\n",
      "Schleife beendet\n"
     ]
    }
   ],
   "source": [
    "x = 0\n",
    "\n",
    "while x < 10:\n",
    "    print(x)\n",
    "    x += 1  # x = x + 1\n",
    "    \n",
    "print('Schleife beendet')"
   ]
  },
  {
   "cell_type": "code",
   "execution_count": 9,
   "id": "161a386b",
   "metadata": {},
   "outputs": [
    {
     "name": "stdout",
     "output_type": "stream",
     "text": [
      "-5\n",
      "7\n",
      "19\n",
      "31\n",
      "43\n",
      "55\n",
      "67\n",
      "79\n",
      "91\n",
      "103\n",
      "115\n"
     ]
    }
   ],
   "source": [
    "for i in range(-5, 123, 12):  # range(start, stop, step)\n",
    "    print(i)"
   ]
  },
  {
   "cell_type": "code",
   "execution_count": 10,
   "id": "049c94e2",
   "metadata": {},
   "outputs": [
    {
     "name": "stdout",
     "output_type": "stream",
     "text": [
      "H\n",
      "e\n",
      "l\n",
      "l\n",
      "o\n",
      " \n",
      "W\n",
      "o\n",
      "r\n",
      "l\n",
      "d\n",
      "!\n"
     ]
    }
   ],
   "source": [
    "text = 'Hello World!'\n",
    "\n",
    "for c in text:\n",
    "    print(c)\n",
    "    "
   ]
  },
  {
   "cell_type": "markdown",
   "id": "fedc6a03",
   "metadata": {},
   "source": [
    "``break`` und ``continue``\n",
    "\n",
    "``break``: unterbricht eine Schleife und beendet die Schleife\n",
    "\n",
    "``continue``: unterbricht eine Schleife und fängt wieder von vorne an"
   ]
  },
  {
   "cell_type": "code",
   "execution_count": 14,
   "id": "8fa17162",
   "metadata": {},
   "outputs": [
    {
     "name": "stdout",
     "output_type": "stream",
     "text": [
      "schleife\n",
      "immer noch schleife?\n",
      "schleife\n",
      "immer noch schleife?\n",
      "schleife\n",
      "immer noch schleife?\n",
      "schleife\n",
      "immer noch schleife?\n",
      "schleife\n",
      "nach der Schleife\n"
     ]
    }
   ],
   "source": [
    "x = 0\n",
    "\n",
    "while True:\n",
    "    print('schleife')\n",
    "    if x == 4:\n",
    "        break\n",
    "    print('immer noch schleife?')\n",
    "    x += 1\n",
    "    \n",
    "print('nach der Schleife')"
   ]
  },
  {
   "cell_type": "code",
   "execution_count": 18,
   "id": "6947a100",
   "metadata": {},
   "outputs": [
    {
     "name": "stdout",
     "output_type": "stream",
     "text": [
      "Please enter the password: Silverfish12\n",
      "The password is incorrect!\n",
      "Please enter the password: silverfish12 \n",
      "The password is incorrect!\n",
      "Please enter the password: silverfish12\n",
      "Access granted!\n"
     ]
    }
   ],
   "source": [
    "pw = 'silverfish12'\n",
    "\n",
    "while True:\n",
    "    user_entry = input('Please enter the password: ')\n",
    "    if user_entry == pw:\n",
    "        break\n",
    "    print('The password is incorrect!')\n",
    "    \n",
    "print('Access granted!')"
   ]
  },
  {
   "cell_type": "code",
   "execution_count": 19,
   "id": "0b21df70",
   "metadata": {},
   "outputs": [
    {
     "name": "stdout",
     "output_type": "stream",
     "text": [
      "Please enter the password: pass\n",
      "The password is incorrect!\n",
      "Please enter the password: asdas\n",
      "The password is incorrect!\n",
      "Please enter the password: asdef\n",
      "The password is incorrect!\n",
      "Please enter the password: sdfs\n",
      "The password is incorrect!\n",
      "Please enter the password: silverfish12\n",
      "Access granted!\n"
     ]
    }
   ],
   "source": [
    "pw = 'silverfish12'\n",
    "\n",
    "is_pw_correct = False\n",
    "\n",
    "while not is_pw_correct:\n",
    "    user_entry = input('Please enter the password: ')\n",
    "    if user_entry == pw:\n",
    "        is_pw_correct = True\n",
    "    else:\n",
    "        print('The password is incorrect!')\n",
    "        \n",
    "print('Access granted!')"
   ]
  },
  {
   "cell_type": "code",
   "execution_count": 23,
   "id": "b9575c40",
   "metadata": {},
   "outputs": [
    {
     "name": "stdout",
     "output_type": "stream",
     "text": [
      "0\n",
      "1\n",
      "2\n",
      "3\n",
      "4\n"
     ]
    }
   ],
   "source": [
    "x = 0\n",
    "\n",
    "while x < 5:\n",
    "    print(x)\n",
    "    x += 1\n",
    "    continue\n",
    "    print('nach continue')"
   ]
  },
  {
   "cell_type": "code",
   "execution_count": 24,
   "id": "a8b56656",
   "metadata": {},
   "outputs": [
    {
     "name": "stdout",
     "output_type": "stream",
     "text": [
      "FIRST password: pass\n",
      "The password is incorrect!\n",
      "FIRST password: silver\n",
      "SECOND password: pass\n",
      "The password is incorrect!\n",
      "FIRST password: silver\n",
      "SECOND password: fish\n",
      "Access granted!\n"
     ]
    }
   ],
   "source": [
    "pw1 = 'silver'\n",
    "pw2 = 'fish'\n",
    "\n",
    "while True:\n",
    "    user_entry_1 = input('FIRST password: ')\n",
    "    if user_entry_1 != pw1:\n",
    "        print('The password is incorrect!')\n",
    "        continue\n",
    "    user_entry_2 = input('SECOND password: ')\n",
    "    if user_entry_2 != pw2:\n",
    "        print('The password is incorrect!')\n",
    "        continue\n",
    "    break\n",
    "\n",
    "print('Access granted!')"
   ]
  }
 ],
 "metadata": {
  "kernelspec": {
   "display_name": "Python 3 (ipykernel)",
   "language": "python",
   "name": "python3"
  },
  "language_info": {
   "codemirror_mode": {
    "name": "ipython",
    "version": 3
   },
   "file_extension": ".py",
   "mimetype": "text/x-python",
   "name": "python",
   "nbconvert_exporter": "python",
   "pygments_lexer": "ipython3",
   "version": "3.9.6"
  }
 },
 "nbformat": 4,
 "nbformat_minor": 5
}
