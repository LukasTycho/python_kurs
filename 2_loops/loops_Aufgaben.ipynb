{
 "cells": [
  {
   "cell_type": "markdown",
   "metadata": {},
   "source": [
    "### Übungen\n",
    "\n",
    "Diese Übungen sind dazu da, den Stoff zu festigen."
   ]
  },
  {
   "cell_type": "markdown",
   "metadata": {},
   "source": [
    "1. Programmiere eine ``while``-Schleife, die die Zahlen von 12 bis 27 ausgibt."
   ]
  },
  {
   "cell_type": "code",
   "execution_count": null,
   "metadata": {},
   "outputs": [],
   "source": [
    "# dein Code hier"
   ]
  },
  {
   "cell_type": "markdown",
   "metadata": {},
   "source": [
    "2. Programmiere eine ``for``-Schleife, die die Zahlen von 36 bis 42 ausgibt."
   ]
  },
  {
   "cell_type": "code",
   "execution_count": null,
   "metadata": {},
   "outputs": [],
   "source": [
    "# dein Code hier"
   ]
  },
  {
   "cell_type": "markdown",
   "metadata": {},
   "source": [
    "3. Schreibe ein Stück Code, das eine Eingabe vom Benutzer abfragt (mittels ``input()``) und diese dann Zeichen für Zeichen ausgibt (z.B. mit einer ``for``-Schleife)."
   ]
  },
  {
   "cell_type": "code",
   "execution_count": null,
   "metadata": {},
   "outputs": [],
   "source": [
    "# dein Code hier"
   ]
  },
  {
   "cell_type": "markdown",
   "metadata": {},
   "source": [
    "4. Schreibe ein Stück Code, das den Benutzer in einer (Endlos-)Schleife nach einem Passwort fragt. Wenn das Passwort korrekt eingegeben wird, soll die Schleife verlassen werden. Findest du zwei verschiedene Wege, dieses Problem zu lösen?"
   ]
  },
  {
   "cell_type": "code",
   "execution_count": null,
   "metadata": {},
   "outputs": [],
   "source": [
    "# dein Code hier"
   ]
  },
  {
   "cell_type": "markdown",
   "metadata": {},
   "source": [
    "5. Schreibe ein Stück Code, das in einer Schleife zwei Zufallszahlen generiert (siehe nächste Zelle) und den Benutzer nach der Summe der beiden Zahlen fragt. Wenn die Summe korrekt eingegeben wird, soll die Schleife beendet werden; wenn die Summe falsch eingegeben wird, soll die Schleife wiederholt werden (mit zwei neuen Zahlen)."
   ]
  },
  {
   "cell_type": "code",
   "execution_count": null,
   "metadata": {},
   "outputs": [],
   "source": [
    "import random\n",
    "\n",
    "# dein Code hier ...\n",
    "\n",
    "zahl_1 = random.randint(1, 99)\n",
    "zahl_2 = random.randint(1, 99)\n",
    "\n",
    "# ... und hier"
   ]
  },
  {
   "cell_type": "markdown",
   "metadata": {},
   "source": [
    "### Matherätsel - Teil 2\n",
    "Verbessere das Matherätsel aus der if/else-Übung, so dass die drei Versuche in einer Schleife abgefragt werden."
   ]
  },
  {
   "cell_type": "code",
   "execution_count": null,
   "metadata": {},
   "outputs": [],
   "source": [
    "# dein Code hier, kopiere einfach den Code aus der alten Übung und arbeite damit weiter"
   ]
  },
  {
   "cell_type": "markdown",
   "metadata": {},
   "source": [
    "### Größer-Kleiner-Spiel\n",
    "Klassisches Zahlenraten: ein Spieler denkt sich eine Zahl in einem vorher definierten Bereich aus, z. B. zwischen 0 und 100, und der zweite Spieler muss diese Zahl erraten. Nach jedem Versuch wird ihm gesagt, ob die gesuchte Zahl größer oder kleiner als die geratene Zahl ist. Schreibe ein kurzes Programm, welches sich eine Zahl ausdenkt (Zufallsszahl) und bei dem der Spieler dann diese Zahl erraten muss.\n",
    "\n",
    "###### Zusatzaufgabe\n",
    "Welches ist der effizienteste Weg, die Zahl zu erraten? Schreibe ein Programm, bei dem der Benutzer eine Zahl eingibt und der Computer versucht, diese Zahl zu erraten. Als 'größer', 'kleiner' und 'gleich' Eingaben vom Benutzer kannst du entweder die Wörter verwenden oder einfach die Symbole."
   ]
  },
  {
   "cell_type": "code",
   "execution_count": null,
   "metadata": {},
   "outputs": [],
   "source": [
    "# dein Code hier"
   ]
  },
  {
   "cell_type": "markdown",
   "metadata": {},
   "source": [
    "### Fehlersuche: Quadratzahlen\n",
    "Der folgende Code soll die Quadrate von den Zahlen zwischen 1 und 20 inklusive ausgeben, aber er hat noch ein paar Fehler. Finde und korrigiere sie."
   ]
  },
  {
   "cell_type": "code",
   "execution_count": null,
   "metadata": {},
   "outputs": [],
   "source": [
    "i = 1\n",
    "while i > 20:\n",
    "    print(i * 2)"
   ]
  },
  {
   "cell_type": "markdown",
   "metadata": {},
   "source": [
    "### Fakultät!\n",
    "Schreibe ein Programm, das für eine Zahl deren Fakultät ausgibt. Zur Erinnerung: 5! = 5 * 4 * 3 * 2 * 1 = 120"
   ]
  },
  {
   "cell_type": "code",
   "execution_count": null,
   "metadata": {},
   "outputs": [],
   "source": [
    "# dein Code hier"
   ]
  },
  {
   "cell_type": "markdown",
   "metadata": {},
   "source": [
    "### FizzBuzz\n",
    "FizzBuzz ist ein relativ einfaches Spiel, bei dem die Spieler von 1 aufwärts zählen. Dabei gelten folgende Regeln:\n",
    "\n",
    "+ Wenn die Zahl ein Vielfaches von 3 ist, muss *Fizz* statt der Zahl gesagt werden.\n",
    "+ Wenn die Zahl ein Vielfaches von 5 ist, muss *Buzz* statt der Zahl gesagt werden.\n",
    "+ Wenn die Zahl ein vielfaches von 3 und 5 ist, muss *FizzBuzz* statt der Zahl gesagt werden.\n",
    "\n",
    "Schreibe ein Programm, dass die Zahlen von 1 bis 100 nach diesen Regeln ausgibt."
   ]
  },
  {
   "cell_type": "code",
   "execution_count": null,
   "metadata": {},
   "outputs": [],
   "source": [
    "# dein Code hier"
   ]
  },
  {
   "cell_type": "markdown",
   "metadata": {},
   "source": [
    "### Sprachgeneration\n",
    "Text-to-speech Systeme sind recht kompliziert. Wir wollen eine einfache Version programmieren, die Zahlen in Text umwandelt. \n",
    "\n",
    "**Sample Input**  \n",
    "69420\n",
    "\n",
    "**Sample Output**  \n",
    "sechs neun vier zwei null"
   ]
  },
  {
   "cell_type": "code",
   "execution_count": null,
   "metadata": {},
   "outputs": [],
   "source": [
    "# dein Code hier"
   ]
  },
  {
   "cell_type": "markdown",
   "metadata": {},
   "source": [
    "### Gerade Zahlen zwischen 1 und N\n",
    "Schreibe ein Programm, das alle geraden Zahlen zwischen 1 und einer eingegeben Zahl N ausgibt. Welche Schleife ist hier praktischer, for oder while?"
   ]
  },
  {
   "cell_type": "code",
   "execution_count": null,
   "metadata": {},
   "outputs": [],
   "source": [
    "# dein Code hier"
   ]
  },
  {
   "cell_type": "markdown",
   "metadata": {},
   "source": [
    "### Wann bin ich Millionär?\n",
    "Du legst eine wählbare Summe bei der 'Bank deiner Träume' an und erhältst pro Jahr 5 % Zinsen auf dein Geld. Nach wie vielen Jahren bist du Millionär?\n",
    "\n",
    "###### Zusatzaufgabe\n",
    "Setze den Zinssatz variabel als Benutzereingabe."
   ]
  },
  {
   "cell_type": "code",
   "execution_count": null,
   "metadata": {},
   "outputs": [],
   "source": [
    "# dein Code hier"
   ]
  },
  {
   "cell_type": "markdown",
   "metadata": {},
   "source": [
    "### Mittelwert berechnen\n",
    "Der Mittelwert mehrerer Zahlen wird berechnet, indem alle Zahlen addiert werden und dann durch die Anzahl der Zahlen geteilt wird. Schreibe ein Programm, dass als erstes die Anzahl der Zahlen abfragt und dann alle Zahlen, von denen der Mittelwert gebildet werden soll, und dann den Mittelwert bildet.\n",
    "\n",
    "**Sample Input**  \n",
    "    3  \n",
    "    5  \n",
    "    8  \n",
    "    -2  \n",
    "\n",
    "**Sample Output**  \n",
    "3.66666666"
   ]
  },
  {
   "cell_type": "code",
   "execution_count": null,
   "metadata": {},
   "outputs": [],
   "source": [
    "# dein Code hier"
   ]
  },
  {
   "cell_type": "markdown",
   "metadata": {},
   "source": [
    "### Passwort Eingabe\n",
    "Du sollst ein Programm schreiben, bei dem der Benutzer ein Passwort eingeben muss. Folgende Anforderungen sollen erfüllt werden:\n",
    "- Der Benutzer beokmmt maximal drei Versuche.\n",
    "- Nach der dritten falschen Eingabe sollen alle Daten vom System gelöscht werden (symbolisiert durch Text, z.B. ``print(\"All files deleted.\")``).\n",
    "- Nach der zweiten falschen Eingabe soll eine Warnung ausgegeben werden, dass nach der nächsten falschen Eingabe alle Daten vom System gelöscht werden.\n",
    "- Wenn das Passwort richtig eingegeben wird, soll der Zugriff zum System erlaubt werden (symbolisiert durch Text, z.B. ``print(\"Access granted.\")``)."
   ]
  },
  {
   "cell_type": "code",
   "execution_count": null,
   "metadata": {},
   "outputs": [],
   "source": [
    "pw = \"1_3at_455\"  # das ist das korrekte Passwort\n",
    "\n",
    "# dein Code hier"
   ]
  }
 ],
 "metadata": {
  "kernelspec": {
   "display_name": "Python 3 (ipykernel)",
   "language": "python",
   "name": "python3"
  },
  "language_info": {
   "codemirror_mode": {
    "name": "ipython",
    "version": 3
   },
   "file_extension": ".py",
   "mimetype": "text/x-python",
   "name": "python",
   "nbconvert_exporter": "python",
   "pygments_lexer": "ipython3",
   "version": "3.9.6"
  }
 },
 "nbformat": 4,
 "nbformat_minor": 4
}
